{
 "cells": [
  {
   "cell_type": "markdown",
   "id": "fae730d0",
   "metadata": {},
   "source": [
    "## CLEAN THE DATA SET"
   ]
  },
  {
   "cell_type": "markdown",
   "id": "dc48073a",
   "metadata": {},
   "source": [
    "READ IN THE DATA FROM YOUR LOCAL COMPUTER INTO A PANDAS DATA FRAME"
   ]
  },
  {
   "cell_type": "code",
   "execution_count": 3,
   "id": "727a3353",
   "metadata": {},
   "outputs": [
    {
     "data": {
      "text/html": [
       "<div>\n",
       "<style scoped>\n",
       "    .dataframe tbody tr th:only-of-type {\n",
       "        vertical-align: middle;\n",
       "    }\n",
       "\n",
       "    .dataframe tbody tr th {\n",
       "        vertical-align: top;\n",
       "    }\n",
       "\n",
       "    .dataframe thead th {\n",
       "        text-align: right;\n",
       "    }\n",
       "</style>\n",
       "<table border=\"1\" class=\"dataframe\">\n",
       "  <thead>\n",
       "    <tr style=\"text-align: right;\">\n",
       "      <th></th>\n",
       "      <th>CAMIS</th>\n",
       "      <th>DBA</th>\n",
       "      <th>BORO</th>\n",
       "      <th>BUILDING</th>\n",
       "      <th>STREET</th>\n",
       "      <th>ZIPCODE</th>\n",
       "      <th>PHONE</th>\n",
       "      <th>CUISINE DESCRIPTION</th>\n",
       "      <th>INSPECTION DATE</th>\n",
       "      <th>ACTION</th>\n",
       "      <th>VIOLATION CODE</th>\n",
       "      <th>VIOLATION DESCRIPTION</th>\n",
       "      <th>CRITICAL FLAG</th>\n",
       "      <th>SCORE</th>\n",
       "      <th>GRADE</th>\n",
       "      <th>GRADE DATE</th>\n",
       "      <th>RECORD DATE</th>\n",
       "      <th>INSPECTION TYPE</th>\n",
       "      <th>Latitude</th>\n",
       "      <th>Longitude</th>\n",
       "      <th>Community Board</th>\n",
       "      <th>Council District</th>\n",
       "      <th>Census Tract</th>\n",
       "      <th>BIN</th>\n",
       "      <th>BBL</th>\n",
       "      <th>NTA</th>\n",
       "      <th>Location Point1</th>\n",
       "      <th>Zip Codes</th>\n",
       "      <th>Community Districts</th>\n",
       "      <th>Borough Boundaries</th>\n",
       "      <th>City Council Districts</th>\n",
       "      <th>Police Precincts</th>\n",
       "    </tr>\n",
       "  </thead>\n",
       "  <tbody>\n",
       "    <tr>\n",
       "      <th>0</th>\n",
       "      <td>41283963</td>\n",
       "      <td>PAPA JOHN'S</td>\n",
       "      <td>Brooklyn</td>\n",
       "      <td>5804</td>\n",
       "      <td>5 AVENUE</td>\n",
       "      <td>11220.0</td>\n",
       "      <td>7189217272</td>\n",
       "      <td>Pizza</td>\n",
       "      <td>01/26/2022</td>\n",
       "      <td>Violations were cited in the following area(s).</td>\n",
       "      <td>04L</td>\n",
       "      <td>Evidence of mice or live mice present in facil...</td>\n",
       "      <td>Critical</td>\n",
       "      <td>13.0</td>\n",
       "      <td>A</td>\n",
       "      <td>01/26/2022</td>\n",
       "      <td>04/14/2023</td>\n",
       "      <td>Cycle Inspection / Re-inspection</td>\n",
       "      <td>40.640526</td>\n",
       "      <td>-74.015090</td>\n",
       "      <td>307.0</td>\n",
       "      <td>38.0</td>\n",
       "      <td>7400.0</td>\n",
       "      <td>3397962.0</td>\n",
       "      <td>3.008550e+09</td>\n",
       "      <td>BK32</td>\n",
       "      <td>NaN</td>\n",
       "      <td>NaN</td>\n",
       "      <td>NaN</td>\n",
       "      <td>NaN</td>\n",
       "      <td>NaN</td>\n",
       "      <td>NaN</td>\n",
       "    </tr>\n",
       "    <tr>\n",
       "      <th>1</th>\n",
       "      <td>50133127</td>\n",
       "      <td>NaN</td>\n",
       "      <td>Queens</td>\n",
       "      <td>19005</td>\n",
       "      <td>HILLSIDE AVE</td>\n",
       "      <td>11423.0</td>\n",
       "      <td>9176797448</td>\n",
       "      <td>NaN</td>\n",
       "      <td>01/01/1900</td>\n",
       "      <td>NaN</td>\n",
       "      <td>NaN</td>\n",
       "      <td>NaN</td>\n",
       "      <td>Not Applicable</td>\n",
       "      <td>NaN</td>\n",
       "      <td>NaN</td>\n",
       "      <td>NaN</td>\n",
       "      <td>04/14/2023</td>\n",
       "      <td>NaN</td>\n",
       "      <td>40.715737</td>\n",
       "      <td>-73.771779</td>\n",
       "      <td>408.0</td>\n",
       "      <td>23.0</td>\n",
       "      <td>47800.0</td>\n",
       "      <td>4223678.0</td>\n",
       "      <td>4.104990e+09</td>\n",
       "      <td>QN06</td>\n",
       "      <td>NaN</td>\n",
       "      <td>NaN</td>\n",
       "      <td>NaN</td>\n",
       "      <td>NaN</td>\n",
       "      <td>NaN</td>\n",
       "      <td>NaN</td>\n",
       "    </tr>\n",
       "    <tr>\n",
       "      <th>2</th>\n",
       "      <td>50113539</td>\n",
       "      <td>MackaTree</td>\n",
       "      <td>Brooklyn</td>\n",
       "      <td>417</td>\n",
       "      <td>MARCUS GARVEY BOULEVARD</td>\n",
       "      <td>11216.0</td>\n",
       "      <td>3476792021</td>\n",
       "      <td>NaN</td>\n",
       "      <td>01/01/1900</td>\n",
       "      <td>NaN</td>\n",
       "      <td>NaN</td>\n",
       "      <td>NaN</td>\n",
       "      <td>Not Applicable</td>\n",
       "      <td>NaN</td>\n",
       "      <td>NaN</td>\n",
       "      <td>NaN</td>\n",
       "      <td>04/14/2023</td>\n",
       "      <td>NaN</td>\n",
       "      <td>40.682815</td>\n",
       "      <td>-73.937999</td>\n",
       "      <td>303.0</td>\n",
       "      <td>36.0</td>\n",
       "      <td>27500.0</td>\n",
       "      <td>3046354.0</td>\n",
       "      <td>3.016640e+09</td>\n",
       "      <td>BK35</td>\n",
       "      <td>NaN</td>\n",
       "      <td>NaN</td>\n",
       "      <td>NaN</td>\n",
       "      <td>NaN</td>\n",
       "      <td>NaN</td>\n",
       "      <td>NaN</td>\n",
       "    </tr>\n",
       "    <tr>\n",
       "      <th>3</th>\n",
       "      <td>50059874</td>\n",
       "      <td>GINZA SUSHI</td>\n",
       "      <td>Brooklyn</td>\n",
       "      <td>2809</td>\n",
       "      <td>OCEAN AVENUE</td>\n",
       "      <td>11229.0</td>\n",
       "      <td>7187696028</td>\n",
       "      <td>Japanese</td>\n",
       "      <td>12/27/2022</td>\n",
       "      <td>Violations were cited in the following area(s).</td>\n",
       "      <td>04M</td>\n",
       "      <td>Live roaches in facility's food or non-food area.</td>\n",
       "      <td>Critical</td>\n",
       "      <td>21.0</td>\n",
       "      <td>B</td>\n",
       "      <td>12/27/2022</td>\n",
       "      <td>04/14/2023</td>\n",
       "      <td>Cycle Inspection / Re-inspection</td>\n",
       "      <td>40.593102</td>\n",
       "      <td>-73.950210</td>\n",
       "      <td>315.0</td>\n",
       "      <td>48.0</td>\n",
       "      <td>59401.0</td>\n",
       "      <td>3202166.0</td>\n",
       "      <td>3.074050e+09</td>\n",
       "      <td>BK17</td>\n",
       "      <td>NaN</td>\n",
       "      <td>NaN</td>\n",
       "      <td>NaN</td>\n",
       "      <td>NaN</td>\n",
       "      <td>NaN</td>\n",
       "      <td>NaN</td>\n",
       "    </tr>\n",
       "    <tr>\n",
       "      <th>4</th>\n",
       "      <td>50131148</td>\n",
       "      <td>NaN</td>\n",
       "      <td>Bronx</td>\n",
       "      <td>969</td>\n",
       "      <td>PROSPECT AVE</td>\n",
       "      <td>10459.0</td>\n",
       "      <td>6466833982</td>\n",
       "      <td>NaN</td>\n",
       "      <td>01/01/1900</td>\n",
       "      <td>NaN</td>\n",
       "      <td>NaN</td>\n",
       "      <td>NaN</td>\n",
       "      <td>Not Applicable</td>\n",
       "      <td>NaN</td>\n",
       "      <td>NaN</td>\n",
       "      <td>NaN</td>\n",
       "      <td>04/14/2023</td>\n",
       "      <td>NaN</td>\n",
       "      <td>40.822922</td>\n",
       "      <td>-73.900281</td>\n",
       "      <td>203.0</td>\n",
       "      <td>17.0</td>\n",
       "      <td>12901.0</td>\n",
       "      <td>2098575.0</td>\n",
       "      <td>2.026780e+09</td>\n",
       "      <td>BX33</td>\n",
       "      <td>NaN</td>\n",
       "      <td>NaN</td>\n",
       "      <td>NaN</td>\n",
       "      <td>NaN</td>\n",
       "      <td>NaN</td>\n",
       "      <td>NaN</td>\n",
       "    </tr>\n",
       "  </tbody>\n",
       "</table>\n",
       "</div>"
      ],
      "text/plain": [
       "      CAMIS          DBA      BORO BUILDING                   STREET  ZIPCODE   \n",
       "0  41283963  PAPA JOHN'S  Brooklyn     5804                 5 AVENUE  11220.0  \\\n",
       "1  50133127          NaN    Queens    19005             HILLSIDE AVE  11423.0   \n",
       "2  50113539    MackaTree  Brooklyn      417  MARCUS GARVEY BOULEVARD  11216.0   \n",
       "3  50059874  GINZA SUSHI  Brooklyn     2809             OCEAN AVENUE  11229.0   \n",
       "4  50131148          NaN     Bronx      969             PROSPECT AVE  10459.0   \n",
       "\n",
       "        PHONE CUISINE DESCRIPTION INSPECTION DATE   \n",
       "0  7189217272               Pizza      01/26/2022  \\\n",
       "1  9176797448                 NaN      01/01/1900   \n",
       "2  3476792021                 NaN      01/01/1900   \n",
       "3  7187696028            Japanese      12/27/2022   \n",
       "4  6466833982                 NaN      01/01/1900   \n",
       "\n",
       "                                            ACTION VIOLATION CODE   \n",
       "0  Violations were cited in the following area(s).            04L  \\\n",
       "1                                              NaN            NaN   \n",
       "2                                              NaN            NaN   \n",
       "3  Violations were cited in the following area(s).            04M   \n",
       "4                                              NaN            NaN   \n",
       "\n",
       "                               VIOLATION DESCRIPTION   CRITICAL FLAG  SCORE   \n",
       "0  Evidence of mice or live mice present in facil...        Critical   13.0  \\\n",
       "1                                                NaN  Not Applicable    NaN   \n",
       "2                                                NaN  Not Applicable    NaN   \n",
       "3  Live roaches in facility's food or non-food area.        Critical   21.0   \n",
       "4                                                NaN  Not Applicable    NaN   \n",
       "\n",
       "  GRADE  GRADE DATE RECORD DATE                   INSPECTION TYPE   Latitude   \n",
       "0     A  01/26/2022  04/14/2023  Cycle Inspection / Re-inspection  40.640526  \\\n",
       "1   NaN         NaN  04/14/2023                               NaN  40.715737   \n",
       "2   NaN         NaN  04/14/2023                               NaN  40.682815   \n",
       "3     B  12/27/2022  04/14/2023  Cycle Inspection / Re-inspection  40.593102   \n",
       "4   NaN         NaN  04/14/2023                               NaN  40.822922   \n",
       "\n",
       "   Longitude  Community Board  Council District  Census Tract        BIN   \n",
       "0 -74.015090            307.0              38.0        7400.0  3397962.0  \\\n",
       "1 -73.771779            408.0              23.0       47800.0  4223678.0   \n",
       "2 -73.937999            303.0              36.0       27500.0  3046354.0   \n",
       "3 -73.950210            315.0              48.0       59401.0  3202166.0   \n",
       "4 -73.900281            203.0              17.0       12901.0  2098575.0   \n",
       "\n",
       "            BBL   NTA  Location Point1  Zip Codes  Community Districts   \n",
       "0  3.008550e+09  BK32              NaN        NaN                  NaN  \\\n",
       "1  4.104990e+09  QN06              NaN        NaN                  NaN   \n",
       "2  3.016640e+09  BK35              NaN        NaN                  NaN   \n",
       "3  3.074050e+09  BK17              NaN        NaN                  NaN   \n",
       "4  2.026780e+09  BX33              NaN        NaN                  NaN   \n",
       "\n",
       "   Borough Boundaries  City Council Districts  Police Precincts  \n",
       "0                 NaN                     NaN               NaN  \n",
       "1                 NaN                     NaN               NaN  \n",
       "2                 NaN                     NaN               NaN  \n",
       "3                 NaN                     NaN               NaN  \n",
       "4                 NaN                     NaN               NaN  "
      ]
     },
     "execution_count": 3,
     "metadata": {},
     "output_type": "execute_result"
    }
   ],
   "source": [
    "# data_path = '/user/mz3327_nyu_edu/restaurants/DOHMH_New_York_City_Restaurant_Inspection_Results.csv'\n",
    "data_path = 'DOHMH_New_York_City_Restaurant_Inspection_Results.csv'\n",
    "\n",
    "# read data\n",
    "import pandas as pd\n",
    "\n",
    "pd.set_option('display.max_columns', None)\n",
    "\n",
    "df = pd.read_csv(data_path)\n",
    "\n",
    "df.head()"
   ]
  },
  {
   "cell_type": "markdown",
   "id": "32fa75b8",
   "metadata": {},
   "source": [
    "Check what fraction of rows are null for each column.\n"
   ]
  },
  {
   "cell_type": "code",
   "execution_count": 4,
   "id": "63725d03",
   "metadata": {},
   "outputs": [
    {
     "name": "stdout",
     "output_type": "stream",
     "text": [
      "CAMIS                     0.000000\n",
      "DBA                       0.008443\n",
      "BORO                      0.000000\n",
      "BUILDING                  0.001956\n",
      "STREET                    0.000132\n",
      "ZIPCODE                   0.013753\n",
      "PHONE                     0.000054\n",
      "CUISINE DESCRIPTION       0.021255\n",
      "INSPECTION DATE           0.000000\n",
      "ACTION                    0.021255\n",
      "VIOLATION CODE            0.027051\n",
      "VIOLATION DESCRIPTION     0.027051\n",
      "CRITICAL FLAG             0.000000\n",
      "SCORE                     0.053488\n",
      "GRADE                     0.504984\n",
      "GRADE DATE                0.540296\n",
      "RECORD DATE               0.000000\n",
      "INSPECTION TYPE           0.021255\n",
      "Latitude                  0.001540\n",
      "Longitude                 0.001540\n",
      "Community Board           0.016769\n",
      "Council District          0.016769\n",
      "Census Tract              0.016769\n",
      "BIN                       0.022020\n",
      "BBL                       0.003148\n",
      "NTA                       0.016769\n",
      "Location Point1           1.000000\n",
      "Zip Codes                 1.000000\n",
      "Community Districts       1.000000\n",
      "Borough Boundaries        1.000000\n",
      "City Council Districts    1.000000\n",
      "Police Precincts          1.000000\n",
      "Name: mean, dtype: float64\n"
     ]
    }
   ],
   "source": [
    "null_stats = df.isna().astype(int).describe()\n",
    "print(null_stats.loc['mean', :])"
   ]
  },
  {
   "cell_type": "markdown",
   "id": "a17aa109",
   "metadata": {},
   "source": [
    " "
   ]
  },
  {
   "cell_type": "markdown",
   "id": "d424bd05",
   "metadata": {},
   "source": [
    "Drop columns which contain at least 50% null values"
   ]
  },
  {
   "cell_type": "code",
   "execution_count": 5,
   "id": "ac47a7bf",
   "metadata": {},
   "outputs": [
    {
     "name": "stdout",
     "output_type": "stream",
     "text": [
      "GRADE 0.5049840402841859\n",
      "GRADE DATE 0.5402964437536467\n",
      "Location Point1 1.0\n",
      "Zip Codes 1.0\n",
      "Community Districts 1.0\n",
      "Borough Boundaries 1.0\n",
      "City Council Districts 1.0\n",
      "Police Precincts 1.0\n"
     ]
    },
    {
     "data": {
      "text/html": [
       "<div>\n",
       "<style scoped>\n",
       "    .dataframe tbody tr th:only-of-type {\n",
       "        vertical-align: middle;\n",
       "    }\n",
       "\n",
       "    .dataframe tbody tr th {\n",
       "        vertical-align: top;\n",
       "    }\n",
       "\n",
       "    .dataframe thead th {\n",
       "        text-align: right;\n",
       "    }\n",
       "</style>\n",
       "<table border=\"1\" class=\"dataframe\">\n",
       "  <thead>\n",
       "    <tr style=\"text-align: right;\">\n",
       "      <th></th>\n",
       "      <th>CAMIS</th>\n",
       "      <th>ZIPCODE</th>\n",
       "      <th>SCORE</th>\n",
       "      <th>Latitude</th>\n",
       "      <th>Longitude</th>\n",
       "      <th>Community Board</th>\n",
       "      <th>Council District</th>\n",
       "      <th>Census Tract</th>\n",
       "      <th>BIN</th>\n",
       "      <th>BBL</th>\n",
       "    </tr>\n",
       "  </thead>\n",
       "  <tbody>\n",
       "    <tr>\n",
       "      <th>count</th>\n",
       "      <td>2.039510e+05</td>\n",
       "      <td>201146.000000</td>\n",
       "      <td>193042.000000</td>\n",
       "      <td>203637.000000</td>\n",
       "      <td>203637.000000</td>\n",
       "      <td>200531.000000</td>\n",
       "      <td>200531.000000</td>\n",
       "      <td>200531.000000</td>\n",
       "      <td>1.994600e+05</td>\n",
       "      <td>2.033090e+05</td>\n",
       "    </tr>\n",
       "    <tr>\n",
       "      <th>mean</th>\n",
       "      <td>4.726189e+07</td>\n",
       "      <td>10701.716494</td>\n",
       "      <td>21.952316</td>\n",
       "      <td>40.172066</td>\n",
       "      <td>-72.932447</td>\n",
       "      <td>252.679516</td>\n",
       "      <td>20.575527</td>\n",
       "      <td>29878.452658</td>\n",
       "      <td>2.554362e+06</td>\n",
       "      <td>2.441907e+09</td>\n",
       "    </tr>\n",
       "    <tr>\n",
       "      <th>std</th>\n",
       "      <td>4.147896e+06</td>\n",
       "      <td>593.847106</td>\n",
       "      <td>16.992658</td>\n",
       "      <td>4.724882</td>\n",
       "      <td>8.577463</td>\n",
       "      <td>129.608585</td>\n",
       "      <td>15.775838</td>\n",
       "      <td>31372.564573</td>\n",
       "      <td>1.340449e+06</td>\n",
       "      <td>1.332931e+09</td>\n",
       "    </tr>\n",
       "    <tr>\n",
       "      <th>min</th>\n",
       "      <td>3.007544e+07</td>\n",
       "      <td>8512.000000</td>\n",
       "      <td>0.000000</td>\n",
       "      <td>0.000000</td>\n",
       "      <td>-74.249101</td>\n",
       "      <td>101.000000</td>\n",
       "      <td>1.000000</td>\n",
       "      <td>100.000000</td>\n",
       "      <td>1.000000e+06</td>\n",
       "      <td>1.000000e+00</td>\n",
       "    </tr>\n",
       "    <tr>\n",
       "      <th>25%</th>\n",
       "      <td>4.159531e+07</td>\n",
       "      <td>10023.000000</td>\n",
       "      <td>11.000000</td>\n",
       "      <td>40.683423</td>\n",
       "      <td>-73.988909</td>\n",
       "      <td>106.000000</td>\n",
       "      <td>4.000000</td>\n",
       "      <td>7900.000000</td>\n",
       "      <td>1.049985e+06</td>\n",
       "      <td>1.010640e+09</td>\n",
       "    </tr>\n",
       "    <tr>\n",
       "      <th>50%</th>\n",
       "      <td>5.005502e+07</td>\n",
       "      <td>11101.000000</td>\n",
       "      <td>18.000000</td>\n",
       "      <td>40.730754</td>\n",
       "      <td>-73.956289</td>\n",
       "      <td>302.000000</td>\n",
       "      <td>20.000000</td>\n",
       "      <td>17300.000000</td>\n",
       "      <td>3.016610e+06</td>\n",
       "      <td>3.006000e+09</td>\n",
       "    </tr>\n",
       "    <tr>\n",
       "      <th>75%</th>\n",
       "      <td>5.009823e+07</td>\n",
       "      <td>11230.000000</td>\n",
       "      <td>29.000000</td>\n",
       "      <td>40.761606</td>\n",
       "      <td>-73.896112</td>\n",
       "      <td>401.000000</td>\n",
       "      <td>34.000000</td>\n",
       "      <td>42200.000000</td>\n",
       "      <td>4.003516e+06</td>\n",
       "      <td>4.002340e+09</td>\n",
       "    </tr>\n",
       "    <tr>\n",
       "      <th>max</th>\n",
       "      <td>5.013498e+07</td>\n",
       "      <td>14228.000000</td>\n",
       "      <td>157.000000</td>\n",
       "      <td>40.912822</td>\n",
       "      <td>0.000000</td>\n",
       "      <td>595.000000</td>\n",
       "      <td>51.000000</td>\n",
       "      <td>162100.000000</td>\n",
       "      <td>5.799501e+06</td>\n",
       "      <td>5.270001e+09</td>\n",
       "    </tr>\n",
       "  </tbody>\n",
       "</table>\n",
       "</div>"
      ],
      "text/plain": [
       "              CAMIS        ZIPCODE          SCORE       Latitude   \n",
       "count  2.039510e+05  201146.000000  193042.000000  203637.000000  \\\n",
       "mean   4.726189e+07   10701.716494      21.952316      40.172066   \n",
       "std    4.147896e+06     593.847106      16.992658       4.724882   \n",
       "min    3.007544e+07    8512.000000       0.000000       0.000000   \n",
       "25%    4.159531e+07   10023.000000      11.000000      40.683423   \n",
       "50%    5.005502e+07   11101.000000      18.000000      40.730754   \n",
       "75%    5.009823e+07   11230.000000      29.000000      40.761606   \n",
       "max    5.013498e+07   14228.000000     157.000000      40.912822   \n",
       "\n",
       "           Longitude  Community Board  Council District   Census Tract   \n",
       "count  203637.000000    200531.000000     200531.000000  200531.000000  \\\n",
       "mean      -72.932447       252.679516         20.575527   29878.452658   \n",
       "std         8.577463       129.608585         15.775838   31372.564573   \n",
       "min       -74.249101       101.000000          1.000000     100.000000   \n",
       "25%       -73.988909       106.000000          4.000000    7900.000000   \n",
       "50%       -73.956289       302.000000         20.000000   17300.000000   \n",
       "75%       -73.896112       401.000000         34.000000   42200.000000   \n",
       "max         0.000000       595.000000         51.000000  162100.000000   \n",
       "\n",
       "                BIN           BBL  \n",
       "count  1.994600e+05  2.033090e+05  \n",
       "mean   2.554362e+06  2.441907e+09  \n",
       "std    1.340449e+06  1.332931e+09  \n",
       "min    1.000000e+06  1.000000e+00  \n",
       "25%    1.049985e+06  1.010640e+09  \n",
       "50%    3.016610e+06  3.006000e+09  \n",
       "75%    4.003516e+06  4.002340e+09  \n",
       "max    5.799501e+06  5.270001e+09  "
      ]
     },
     "execution_count": 5,
     "metadata": {},
     "output_type": "execute_result"
    }
   ],
   "source": [
    "# drop columns which contain at least 50% null values\n",
    "drop_columns = []\n",
    "for col in null_stats.columns:\n",
    "    if null_stats.loc['mean', col] >= 0.5:\n",
    "        print(col, null_stats.loc['mean', col])\n",
    "        drop_columns.append(col)\n",
    "\n",
    "df.drop(columns = drop_columns, inplace=True)\n",
    "df.describe()"
   ]
  },
  {
   "cell_type": "markdown",
   "id": "74689e25",
   "metadata": {},
   "source": [
    " "
   ]
  },
  {
   "cell_type": "markdown",
   "id": "700bfaa6",
   "metadata": {},
   "source": [
    "Check null stats for remaining columns"
   ]
  },
  {
   "cell_type": "code",
   "execution_count": 6,
   "id": "85211cd0",
   "metadata": {},
   "outputs": [
    {
     "data": {
      "text/plain": [
       "CAMIS                    0.000000\n",
       "DBA                      0.008443\n",
       "BORO                     0.000000\n",
       "BUILDING                 0.001956\n",
       "STREET                   0.000132\n",
       "ZIPCODE                  0.013753\n",
       "PHONE                    0.000054\n",
       "CUISINE DESCRIPTION      0.021255\n",
       "INSPECTION DATE          0.000000\n",
       "ACTION                   0.021255\n",
       "VIOLATION CODE           0.027051\n",
       "VIOLATION DESCRIPTION    0.027051\n",
       "CRITICAL FLAG            0.000000\n",
       "SCORE                    0.053488\n",
       "RECORD DATE              0.000000\n",
       "INSPECTION TYPE          0.021255\n",
       "Latitude                 0.001540\n",
       "Longitude                0.001540\n",
       "Community Board          0.016769\n",
       "Council District         0.016769\n",
       "Census Tract             0.016769\n",
       "BIN                      0.022020\n",
       "BBL                      0.003148\n",
       "NTA                      0.016769\n",
       "Name: mean, dtype: float64"
      ]
     },
     "execution_count": 6,
     "metadata": {},
     "output_type": "execute_result"
    }
   ],
   "source": [
    "df.isna().astype(int).describe().loc['mean', :]"
   ]
  },
  {
   "cell_type": "markdown",
   "id": "237c317c",
   "metadata": {},
   "source": [
    " "
   ]
  },
  {
   "cell_type": "markdown",
   "id": "c0df569c",
   "metadata": {},
   "source": [
    " Discard columns that are not required for the analysis"
   ]
  },
  {
   "cell_type": "code",
   "execution_count": 7,
   "id": "413a0553",
   "metadata": {},
   "outputs": [
    {
     "name": "stdout",
     "output_type": "stream",
     "text": [
      "<class 'pandas.core.frame.DataFrame'>\n",
      "RangeIndex: 203951 entries, 0 to 203950\n",
      "Data columns (total 17 columns):\n",
      " #   Column                 Non-Null Count   Dtype  \n",
      "---  ------                 --------------   -----  \n",
      " 0   CAMIS                  203951 non-null  int64  \n",
      " 1   DBA                    202229 non-null  object \n",
      " 2   BORO                   203951 non-null  object \n",
      " 3   ZIPCODE                201146 non-null  float64\n",
      " 4   PHONE                  203940 non-null  object \n",
      " 5   CUISINE DESCRIPTION    199616 non-null  object \n",
      " 6   INSPECTION DATE        203951 non-null  object \n",
      " 7   ACTION                 199616 non-null  object \n",
      " 8   VIOLATION CODE         198434 non-null  object \n",
      " 9   VIOLATION DESCRIPTION  198434 non-null  object \n",
      " 10  CRITICAL FLAG          203951 non-null  object \n",
      " 11  SCORE                  193042 non-null  float64\n",
      " 12  INSPECTION TYPE        199616 non-null  object \n",
      " 13  Latitude               203637 non-null  float64\n",
      " 14  Longitude              203637 non-null  float64\n",
      " 15  BIN                    199460 non-null  float64\n",
      " 16  BBL                    203309 non-null  float64\n",
      "dtypes: float64(6), int64(1), object(10)\n",
      "memory usage: 26.5+ MB\n"
     ]
    }
   ],
   "source": [
    "\n",
    "df.drop(columns = ['BUILDING', 'STREET', 'RECORD DATE', 'Community Board', 'Council District', 'Census Tract', 'NTA'], inplace=True)\n",
    "df.info()"
   ]
  },
  {
   "cell_type": "markdown",
   "id": "b5f5db6b",
   "metadata": {},
   "source": [
    " "
   ]
  },
  {
   "cell_type": "markdown",
   "id": "dbe038fe",
   "metadata": {},
   "source": [
    "Remove null values in the cusine description column"
   ]
  },
  {
   "cell_type": "code",
   "execution_count": 8,
   "id": "fa710e59",
   "metadata": {
    "scrolled": true
   },
   "outputs": [
    {
     "name": "stdout",
     "output_type": "stream",
     "text": [
      "<class 'pandas.core.frame.DataFrame'>\n",
      "Index: 199616 entries, 0 to 203950\n",
      "Data columns (total 17 columns):\n",
      " #   Column                 Non-Null Count   Dtype  \n",
      "---  ------                 --------------   -----  \n",
      " 0   CAMIS                  199616 non-null  int64  \n",
      " 1   DBA                    199616 non-null  object \n",
      " 2   BORO                   199616 non-null  object \n",
      " 3   ZIPCODE                196902 non-null  float64\n",
      " 4   PHONE                  199607 non-null  object \n",
      " 5   CUISINE DESCRIPTION    199616 non-null  object \n",
      " 6   INSPECTION DATE        199616 non-null  object \n",
      " 7   ACTION                 199616 non-null  object \n",
      " 8   VIOLATION CODE         198434 non-null  object \n",
      " 9   VIOLATION DESCRIPTION  198434 non-null  object \n",
      " 10  CRITICAL FLAG          199616 non-null  object \n",
      " 11  SCORE                  193042 non-null  float64\n",
      " 12  INSPECTION TYPE        199616 non-null  object \n",
      " 13  Latitude               199368 non-null  float64\n",
      " 14  Longitude              199368 non-null  float64\n",
      " 15  BIN                    195336 non-null  float64\n",
      " 16  BBL                    199049 non-null  float64\n",
      "dtypes: float64(6), int64(1), object(10)\n",
      "memory usage: 27.4+ MB\n"
     ]
    }
   ],
   "source": [
    "df = df[df['CUISINE DESCRIPTION'].notnull()]\n",
    "df.info()"
   ]
  },
  {
   "cell_type": "markdown",
   "id": "9c4bb3c5",
   "metadata": {},
   "source": [
    " "
   ]
  },
  {
   "cell_type": "markdown",
   "id": "ba15a904",
   "metadata": {},
   "source": [
    "Check rows which have null zip codes"
   ]
  },
  {
   "cell_type": "code",
   "execution_count": 9,
   "id": "5761f502",
   "metadata": {},
   "outputs": [
    {
     "data": {
      "text/html": [
       "<div>\n",
       "<style scoped>\n",
       "    .dataframe tbody tr th:only-of-type {\n",
       "        vertical-align: middle;\n",
       "    }\n",
       "\n",
       "    .dataframe tbody tr th {\n",
       "        vertical-align: top;\n",
       "    }\n",
       "\n",
       "    .dataframe thead th {\n",
       "        text-align: right;\n",
       "    }\n",
       "</style>\n",
       "<table border=\"1\" class=\"dataframe\">\n",
       "  <thead>\n",
       "    <tr style=\"text-align: right;\">\n",
       "      <th></th>\n",
       "      <th>CAMIS</th>\n",
       "      <th>DBA</th>\n",
       "      <th>BORO</th>\n",
       "      <th>ZIPCODE</th>\n",
       "      <th>PHONE</th>\n",
       "      <th>CUISINE DESCRIPTION</th>\n",
       "      <th>INSPECTION DATE</th>\n",
       "      <th>ACTION</th>\n",
       "      <th>VIOLATION CODE</th>\n",
       "      <th>VIOLATION DESCRIPTION</th>\n",
       "      <th>CRITICAL FLAG</th>\n",
       "      <th>SCORE</th>\n",
       "      <th>INSPECTION TYPE</th>\n",
       "      <th>Latitude</th>\n",
       "      <th>Longitude</th>\n",
       "      <th>BIN</th>\n",
       "      <th>BBL</th>\n",
       "    </tr>\n",
       "  </thead>\n",
       "  <tbody>\n",
       "    <tr>\n",
       "      <th>61</th>\n",
       "      <td>50105605</td>\n",
       "      <td>LALIBELA ETHIOPIAN RESTAURANT</td>\n",
       "      <td>Manhattan</td>\n",
       "      <td>NaN</td>\n",
       "      <td>9178819775</td>\n",
       "      <td>Ethiopian</td>\n",
       "      <td>11/29/2021</td>\n",
       "      <td>Violations were cited in the following area(s).</td>\n",
       "      <td>04M</td>\n",
       "      <td>Live roaches present in facility's food and/or...</td>\n",
       "      <td>Critical</td>\n",
       "      <td>45.0</td>\n",
       "      <td>Pre-permit (Operational) / Initial Inspection</td>\n",
       "      <td>0.0</td>\n",
       "      <td>0.0</td>\n",
       "      <td>NaN</td>\n",
       "      <td>1.0</td>\n",
       "    </tr>\n",
       "    <tr>\n",
       "      <th>79</th>\n",
       "      <td>41395519</td>\n",
       "      <td>CITI FIELD STAND 321</td>\n",
       "      <td>Queens</td>\n",
       "      <td>NaN</td>\n",
       "      <td>7185958100</td>\n",
       "      <td>American</td>\n",
       "      <td>06/13/2017</td>\n",
       "      <td>No violations were recorded at the time of thi...</td>\n",
       "      <td>NaN</td>\n",
       "      <td>NaN</td>\n",
       "      <td>Not Applicable</td>\n",
       "      <td>0.0</td>\n",
       "      <td>Cycle Inspection / Initial Inspection</td>\n",
       "      <td>0.0</td>\n",
       "      <td>0.0</td>\n",
       "      <td>NaN</td>\n",
       "      <td>4.0</td>\n",
       "    </tr>\n",
       "    <tr>\n",
       "      <th>96</th>\n",
       "      <td>50039447</td>\n",
       "      <td>CHINA HOUSE</td>\n",
       "      <td>Bronx</td>\n",
       "      <td>NaN</td>\n",
       "      <td>7188936187</td>\n",
       "      <td>Chinese</td>\n",
       "      <td>03/09/2019</td>\n",
       "      <td>Violations were cited in the following area(s).</td>\n",
       "      <td>20F</td>\n",
       "      <td>Current letter grade sign not posted.</td>\n",
       "      <td>Not Critical</td>\n",
       "      <td>NaN</td>\n",
       "      <td>Administrative Miscellaneous / Initial Inspection</td>\n",
       "      <td>0.0</td>\n",
       "      <td>0.0</td>\n",
       "      <td>NaN</td>\n",
       "      <td>2.0</td>\n",
       "    </tr>\n",
       "    <tr>\n",
       "      <th>170</th>\n",
       "      <td>50068583</td>\n",
       "      <td>RED STAR CHINESE RESTAURANT</td>\n",
       "      <td>Manhattan</td>\n",
       "      <td>NaN</td>\n",
       "      <td>6463355592</td>\n",
       "      <td>Chinese</td>\n",
       "      <td>05/09/2019</td>\n",
       "      <td>Violations were cited in the following area(s).</td>\n",
       "      <td>04L</td>\n",
       "      <td>Evidence of mice or live mice present in facil...</td>\n",
       "      <td>Critical</td>\n",
       "      <td>30.0</td>\n",
       "      <td>Cycle Inspection / Initial Inspection</td>\n",
       "      <td>0.0</td>\n",
       "      <td>0.0</td>\n",
       "      <td>NaN</td>\n",
       "      <td>1.0</td>\n",
       "    </tr>\n",
       "    <tr>\n",
       "      <th>287</th>\n",
       "      <td>41395496</td>\n",
       "      <td>CITI FIELD TWO BOOTS, STAND 318</td>\n",
       "      <td>Queens</td>\n",
       "      <td>NaN</td>\n",
       "      <td>7185958100</td>\n",
       "      <td>American</td>\n",
       "      <td>06/07/2016</td>\n",
       "      <td>No violations were recorded at the time of thi...</td>\n",
       "      <td>NaN</td>\n",
       "      <td>NaN</td>\n",
       "      <td>Not Applicable</td>\n",
       "      <td>0.0</td>\n",
       "      <td>Cycle Inspection / Initial Inspection</td>\n",
       "      <td>0.0</td>\n",
       "      <td>0.0</td>\n",
       "      <td>NaN</td>\n",
       "      <td>4.0</td>\n",
       "    </tr>\n",
       "    <tr>\n",
       "      <th>293</th>\n",
       "      <td>41395505</td>\n",
       "      <td>CITI FIELD NATHAN'S FAMOUS STAND 325</td>\n",
       "      <td>Queens</td>\n",
       "      <td>NaN</td>\n",
       "      <td>7185958100</td>\n",
       "      <td>Hotdogs</td>\n",
       "      <td>06/07/2016</td>\n",
       "      <td>No violations were recorded at the time of thi...</td>\n",
       "      <td>NaN</td>\n",
       "      <td>NaN</td>\n",
       "      <td>Not Applicable</td>\n",
       "      <td>0.0</td>\n",
       "      <td>Cycle Inspection / Initial Inspection</td>\n",
       "      <td>0.0</td>\n",
       "      <td>0.0</td>\n",
       "      <td>NaN</td>\n",
       "      <td>4.0</td>\n",
       "    </tr>\n",
       "    <tr>\n",
       "      <th>321</th>\n",
       "      <td>41423331</td>\n",
       "      <td>CHOP-STICKS RESTAURANT</td>\n",
       "      <td>Bronx</td>\n",
       "      <td>NaN</td>\n",
       "      <td>7182048119</td>\n",
       "      <td>Chinese</td>\n",
       "      <td>04/04/2022</td>\n",
       "      <td>Violations were cited in the following area(s).</td>\n",
       "      <td>09B</td>\n",
       "      <td>Thawing procedures improper.</td>\n",
       "      <td>Not Critical</td>\n",
       "      <td>6.0</td>\n",
       "      <td>Cycle Inspection / Initial Inspection</td>\n",
       "      <td>0.0</td>\n",
       "      <td>0.0</td>\n",
       "      <td>NaN</td>\n",
       "      <td>2.0</td>\n",
       "    </tr>\n",
       "    <tr>\n",
       "      <th>338</th>\n",
       "      <td>41203533</td>\n",
       "      <td>GREAT TASTE BAKERY</td>\n",
       "      <td>Manhattan</td>\n",
       "      <td>NaN</td>\n",
       "      <td>6466424110</td>\n",
       "      <td>Bakery Products/Desserts</td>\n",
       "      <td>08/16/2021</td>\n",
       "      <td>Violations were cited in the following area(s).</td>\n",
       "      <td>22F</td>\n",
       "      <td>MISBRANDED AND LABELING</td>\n",
       "      <td>Not Critical</td>\n",
       "      <td>NaN</td>\n",
       "      <td>Administrative Miscellaneous / Initial Inspection</td>\n",
       "      <td>0.0</td>\n",
       "      <td>0.0</td>\n",
       "      <td>NaN</td>\n",
       "      <td>1.0</td>\n",
       "    </tr>\n",
       "    <tr>\n",
       "      <th>376</th>\n",
       "      <td>40720858</td>\n",
       "      <td>PIER SIXTY ONE-THE LIGHTHOUSE</td>\n",
       "      <td>Manhattan</td>\n",
       "      <td>NaN</td>\n",
       "      <td>2123366146</td>\n",
       "      <td>American</td>\n",
       "      <td>03/08/2022</td>\n",
       "      <td>Violations were cited in the following area(s).</td>\n",
       "      <td>04L</td>\n",
       "      <td>Evidence of mice or live mice present in facil...</td>\n",
       "      <td>Critical</td>\n",
       "      <td>29.0</td>\n",
       "      <td>Cycle Inspection / Initial Inspection</td>\n",
       "      <td>0.0</td>\n",
       "      <td>0.0</td>\n",
       "      <td>NaN</td>\n",
       "      <td>1.0</td>\n",
       "    </tr>\n",
       "    <tr>\n",
       "      <th>459</th>\n",
       "      <td>41203533</td>\n",
       "      <td>GREAT TASTE BAKERY</td>\n",
       "      <td>Manhattan</td>\n",
       "      <td>NaN</td>\n",
       "      <td>6466424110</td>\n",
       "      <td>Bakery Products/Desserts</td>\n",
       "      <td>11/18/2019</td>\n",
       "      <td>Violations were cited in the following area(s).</td>\n",
       "      <td>02B</td>\n",
       "      <td>Hot food item not held at or above 140º F.</td>\n",
       "      <td>Critical</td>\n",
       "      <td>24.0</td>\n",
       "      <td>Cycle Inspection / Re-inspection</td>\n",
       "      <td>0.0</td>\n",
       "      <td>0.0</td>\n",
       "      <td>NaN</td>\n",
       "      <td>1.0</td>\n",
       "    </tr>\n",
       "    <tr>\n",
       "      <th>462</th>\n",
       "      <td>41184659</td>\n",
       "      <td>LA CASA DEL MOFONGO</td>\n",
       "      <td>Manhattan</td>\n",
       "      <td>NaN</td>\n",
       "      <td>2127401200</td>\n",
       "      <td>Latin American</td>\n",
       "      <td>02/23/2023</td>\n",
       "      <td>Violations were cited in the following area(s).</td>\n",
       "      <td>09B</td>\n",
       "      <td>Thawing procedure improper.</td>\n",
       "      <td>Not Critical</td>\n",
       "      <td>25.0</td>\n",
       "      <td>Cycle Inspection / Initial Inspection</td>\n",
       "      <td>0.0</td>\n",
       "      <td>0.0</td>\n",
       "      <td>NaN</td>\n",
       "      <td>1.0</td>\n",
       "    </tr>\n",
       "    <tr>\n",
       "      <th>495</th>\n",
       "      <td>50018572</td>\n",
       "      <td>NIKKO HIBACHI STEAKHOUSE &amp; LOUNGE</td>\n",
       "      <td>Queens</td>\n",
       "      <td>NaN</td>\n",
       "      <td>7188208818</td>\n",
       "      <td>Japanese</td>\n",
       "      <td>08/23/2021</td>\n",
       "      <td>Violations were cited in the following area(s).</td>\n",
       "      <td>02B</td>\n",
       "      <td>Hot food item not held at or above 140º F.</td>\n",
       "      <td>Critical</td>\n",
       "      <td>33.0</td>\n",
       "      <td>Cycle Inspection / Initial Inspection</td>\n",
       "      <td>0.0</td>\n",
       "      <td>0.0</td>\n",
       "      <td>NaN</td>\n",
       "      <td>4.0</td>\n",
       "    </tr>\n",
       "    <tr>\n",
       "      <th>508</th>\n",
       "      <td>50001856</td>\n",
       "      <td>DUNKIN</td>\n",
       "      <td>Manhattan</td>\n",
       "      <td>NaN</td>\n",
       "      <td>2122806414</td>\n",
       "      <td>Donuts</td>\n",
       "      <td>08/29/2022</td>\n",
       "      <td>Violations were cited in the following area(s).</td>\n",
       "      <td>04L</td>\n",
       "      <td>Evidence of mice or live mice in establishment...</td>\n",
       "      <td>Critical</td>\n",
       "      <td>26.0</td>\n",
       "      <td>Cycle Inspection / Initial Inspection</td>\n",
       "      <td>0.0</td>\n",
       "      <td>0.0</td>\n",
       "      <td>NaN</td>\n",
       "      <td>1.0</td>\n",
       "    </tr>\n",
       "    <tr>\n",
       "      <th>545</th>\n",
       "      <td>41276645</td>\n",
       "      <td>ECUATORIANA RESTAURANT</td>\n",
       "      <td>Manhattan</td>\n",
       "      <td>NaN</td>\n",
       "      <td>2124914626</td>\n",
       "      <td>Spanish</td>\n",
       "      <td>03/08/2023</td>\n",
       "      <td>Violations were cited in the following area(s).</td>\n",
       "      <td>02B</td>\n",
       "      <td>Hot TCS food item not held at or above 140 °F.</td>\n",
       "      <td>Critical</td>\n",
       "      <td>12.0</td>\n",
       "      <td>Cycle Inspection / Re-inspection</td>\n",
       "      <td>0.0</td>\n",
       "      <td>0.0</td>\n",
       "      <td>NaN</td>\n",
       "      <td>1.0</td>\n",
       "    </tr>\n",
       "    <tr>\n",
       "      <th>561</th>\n",
       "      <td>40958170</td>\n",
       "      <td>SOHO HOUSE</td>\n",
       "      <td>Manhattan</td>\n",
       "      <td>NaN</td>\n",
       "      <td>2126279800</td>\n",
       "      <td>American</td>\n",
       "      <td>03/13/2020</td>\n",
       "      <td>Violations were cited in the following area(s).</td>\n",
       "      <td>10J</td>\n",
       "      <td>Hand wash sign not posted</td>\n",
       "      <td>Not Critical</td>\n",
       "      <td>23.0</td>\n",
       "      <td>Cycle Inspection / Initial Inspection</td>\n",
       "      <td>0.0</td>\n",
       "      <td>0.0</td>\n",
       "      <td>NaN</td>\n",
       "      <td>1.0</td>\n",
       "    </tr>\n",
       "    <tr>\n",
       "      <th>563</th>\n",
       "      <td>41395419</td>\n",
       "      <td>CITI FIELD STAND 402</td>\n",
       "      <td>Queens</td>\n",
       "      <td>NaN</td>\n",
       "      <td>7185958146</td>\n",
       "      <td>American</td>\n",
       "      <td>06/05/2018</td>\n",
       "      <td>No violations were recorded at the time of thi...</td>\n",
       "      <td>NaN</td>\n",
       "      <td>NaN</td>\n",
       "      <td>Not Applicable</td>\n",
       "      <td>0.0</td>\n",
       "      <td>Cycle Inspection / Initial Inspection</td>\n",
       "      <td>0.0</td>\n",
       "      <td>0.0</td>\n",
       "      <td>NaN</td>\n",
       "      <td>4.0</td>\n",
       "    </tr>\n",
       "    <tr>\n",
       "      <th>767</th>\n",
       "      <td>41395378</td>\n",
       "      <td>CITI FIELD STERLING KITCHEN</td>\n",
       "      <td>Queens</td>\n",
       "      <td>NaN</td>\n",
       "      <td>7185958100</td>\n",
       "      <td>American</td>\n",
       "      <td>06/07/2016</td>\n",
       "      <td>No violations were recorded at the time of thi...</td>\n",
       "      <td>NaN</td>\n",
       "      <td>NaN</td>\n",
       "      <td>Not Applicable</td>\n",
       "      <td>0.0</td>\n",
       "      <td>Cycle Inspection / Initial Inspection</td>\n",
       "      <td>0.0</td>\n",
       "      <td>0.0</td>\n",
       "      <td>NaN</td>\n",
       "      <td>4.0</td>\n",
       "    </tr>\n",
       "    <tr>\n",
       "      <th>822</th>\n",
       "      <td>40874933</td>\n",
       "      <td>NUMERO 28 PIZZERIA</td>\n",
       "      <td>Manhattan</td>\n",
       "      <td>NaN</td>\n",
       "      <td>2124639653</td>\n",
       "      <td>Italian</td>\n",
       "      <td>05/25/2017</td>\n",
       "      <td>Violations were cited in the following area(s).</td>\n",
       "      <td>09B</td>\n",
       "      <td>Thawing procedures improper.</td>\n",
       "      <td>Not Critical</td>\n",
       "      <td>12.0</td>\n",
       "      <td>Cycle Inspection / Initial Inspection</td>\n",
       "      <td>0.0</td>\n",
       "      <td>0.0</td>\n",
       "      <td>NaN</td>\n",
       "      <td>1.0</td>\n",
       "    </tr>\n",
       "    <tr>\n",
       "      <th>830</th>\n",
       "      <td>40874933</td>\n",
       "      <td>NUMERO 28 PIZZERIA</td>\n",
       "      <td>Manhattan</td>\n",
       "      <td>NaN</td>\n",
       "      <td>2124639653</td>\n",
       "      <td>Italian</td>\n",
       "      <td>09/26/2019</td>\n",
       "      <td>No violations were recorded at the time of thi...</td>\n",
       "      <td>NaN</td>\n",
       "      <td>NaN</td>\n",
       "      <td>Not Applicable</td>\n",
       "      <td>NaN</td>\n",
       "      <td>Administrative Miscellaneous / Re-inspection</td>\n",
       "      <td>0.0</td>\n",
       "      <td>0.0</td>\n",
       "      <td>NaN</td>\n",
       "      <td>1.0</td>\n",
       "    </tr>\n",
       "    <tr>\n",
       "      <th>842</th>\n",
       "      <td>50018572</td>\n",
       "      <td>NIKKO HIBACHI STEAKHOUSE &amp; LOUNGE</td>\n",
       "      <td>Queens</td>\n",
       "      <td>NaN</td>\n",
       "      <td>7188208818</td>\n",
       "      <td>Japanese</td>\n",
       "      <td>12/01/2021</td>\n",
       "      <td>Violations were cited in the following area(s).</td>\n",
       "      <td>06F</td>\n",
       "      <td>Wiping cloths soiled or not stored in sanitizi...</td>\n",
       "      <td>Critical</td>\n",
       "      <td>10.0</td>\n",
       "      <td>Cycle Inspection / Re-inspection</td>\n",
       "      <td>0.0</td>\n",
       "      <td>0.0</td>\n",
       "      <td>NaN</td>\n",
       "      <td>4.0</td>\n",
       "    </tr>\n",
       "  </tbody>\n",
       "</table>\n",
       "</div>"
      ],
      "text/plain": [
       "        CAMIS                                   DBA       BORO  ZIPCODE   \n",
       "61   50105605         LALIBELA ETHIOPIAN RESTAURANT  Manhattan      NaN  \\\n",
       "79   41395519                  CITI FIELD STAND 321     Queens      NaN   \n",
       "96   50039447                           CHINA HOUSE      Bronx      NaN   \n",
       "170  50068583           RED STAR CHINESE RESTAURANT  Manhattan      NaN   \n",
       "287  41395496       CITI FIELD TWO BOOTS, STAND 318     Queens      NaN   \n",
       "293  41395505  CITI FIELD NATHAN'S FAMOUS STAND 325     Queens      NaN   \n",
       "321  41423331                CHOP-STICKS RESTAURANT      Bronx      NaN   \n",
       "338  41203533                    GREAT TASTE BAKERY  Manhattan      NaN   \n",
       "376  40720858         PIER SIXTY ONE-THE LIGHTHOUSE  Manhattan      NaN   \n",
       "459  41203533                    GREAT TASTE BAKERY  Manhattan      NaN   \n",
       "462  41184659                   LA CASA DEL MOFONGO  Manhattan      NaN   \n",
       "495  50018572     NIKKO HIBACHI STEAKHOUSE & LOUNGE     Queens      NaN   \n",
       "508  50001856                                DUNKIN  Manhattan      NaN   \n",
       "545  41276645                ECUATORIANA RESTAURANT  Manhattan      NaN   \n",
       "561  40958170                            SOHO HOUSE  Manhattan      NaN   \n",
       "563  41395419                  CITI FIELD STAND 402     Queens      NaN   \n",
       "767  41395378           CITI FIELD STERLING KITCHEN     Queens      NaN   \n",
       "822  40874933                    NUMERO 28 PIZZERIA  Manhattan      NaN   \n",
       "830  40874933                    NUMERO 28 PIZZERIA  Manhattan      NaN   \n",
       "842  50018572     NIKKO HIBACHI STEAKHOUSE & LOUNGE     Queens      NaN   \n",
       "\n",
       "          PHONE       CUISINE DESCRIPTION INSPECTION DATE   \n",
       "61   9178819775                 Ethiopian      11/29/2021  \\\n",
       "79   7185958100                  American      06/13/2017   \n",
       "96   7188936187                   Chinese      03/09/2019   \n",
       "170  6463355592                   Chinese      05/09/2019   \n",
       "287  7185958100                  American      06/07/2016   \n",
       "293  7185958100                   Hotdogs      06/07/2016   \n",
       "321  7182048119                   Chinese      04/04/2022   \n",
       "338  6466424110  Bakery Products/Desserts      08/16/2021   \n",
       "376  2123366146                  American      03/08/2022   \n",
       "459  6466424110  Bakery Products/Desserts      11/18/2019   \n",
       "462  2127401200            Latin American      02/23/2023   \n",
       "495  7188208818                  Japanese      08/23/2021   \n",
       "508  2122806414                    Donuts      08/29/2022   \n",
       "545  2124914626                   Spanish      03/08/2023   \n",
       "561  2126279800                  American      03/13/2020   \n",
       "563  7185958146                  American      06/05/2018   \n",
       "767  7185958100                  American      06/07/2016   \n",
       "822  2124639653                   Italian      05/25/2017   \n",
       "830  2124639653                   Italian      09/26/2019   \n",
       "842  7188208818                  Japanese      12/01/2021   \n",
       "\n",
       "                                                ACTION VIOLATION CODE   \n",
       "61     Violations were cited in the following area(s).            04M  \\\n",
       "79   No violations were recorded at the time of thi...            NaN   \n",
       "96     Violations were cited in the following area(s).            20F   \n",
       "170    Violations were cited in the following area(s).            04L   \n",
       "287  No violations were recorded at the time of thi...            NaN   \n",
       "293  No violations were recorded at the time of thi...            NaN   \n",
       "321    Violations were cited in the following area(s).            09B   \n",
       "338    Violations were cited in the following area(s).            22F   \n",
       "376    Violations were cited in the following area(s).            04L   \n",
       "459    Violations were cited in the following area(s).            02B   \n",
       "462    Violations were cited in the following area(s).            09B   \n",
       "495    Violations were cited in the following area(s).            02B   \n",
       "508    Violations were cited in the following area(s).            04L   \n",
       "545    Violations were cited in the following area(s).            02B   \n",
       "561    Violations were cited in the following area(s).            10J   \n",
       "563  No violations were recorded at the time of thi...            NaN   \n",
       "767  No violations were recorded at the time of thi...            NaN   \n",
       "822    Violations were cited in the following area(s).            09B   \n",
       "830  No violations were recorded at the time of thi...            NaN   \n",
       "842    Violations were cited in the following area(s).            06F   \n",
       "\n",
       "                                 VIOLATION DESCRIPTION   CRITICAL FLAG  SCORE   \n",
       "61   Live roaches present in facility's food and/or...        Critical   45.0  \\\n",
       "79                                                 NaN  Not Applicable    0.0   \n",
       "96               Current letter grade sign not posted.    Not Critical    NaN   \n",
       "170  Evidence of mice or live mice present in facil...        Critical   30.0   \n",
       "287                                                NaN  Not Applicable    0.0   \n",
       "293                                                NaN  Not Applicable    0.0   \n",
       "321                       Thawing procedures improper.    Not Critical    6.0   \n",
       "338                            MISBRANDED AND LABELING    Not Critical    NaN   \n",
       "376  Evidence of mice or live mice present in facil...        Critical   29.0   \n",
       "459         Hot food item not held at or above 140º F.        Critical   24.0   \n",
       "462                        Thawing procedure improper.    Not Critical   25.0   \n",
       "495         Hot food item not held at or above 140º F.        Critical   33.0   \n",
       "508  Evidence of mice or live mice in establishment...        Critical   26.0   \n",
       "545     Hot TCS food item not held at or above 140 °F.        Critical   12.0   \n",
       "561                          Hand wash sign not posted    Not Critical   23.0   \n",
       "563                                                NaN  Not Applicable    0.0   \n",
       "767                                                NaN  Not Applicable    0.0   \n",
       "822                       Thawing procedures improper.    Not Critical   12.0   \n",
       "830                                                NaN  Not Applicable    NaN   \n",
       "842  Wiping cloths soiled or not stored in sanitizi...        Critical   10.0   \n",
       "\n",
       "                                       INSPECTION TYPE  Latitude  Longitude   \n",
       "61       Pre-permit (Operational) / Initial Inspection       0.0        0.0  \\\n",
       "79               Cycle Inspection / Initial Inspection       0.0        0.0   \n",
       "96   Administrative Miscellaneous / Initial Inspection       0.0        0.0   \n",
       "170              Cycle Inspection / Initial Inspection       0.0        0.0   \n",
       "287              Cycle Inspection / Initial Inspection       0.0        0.0   \n",
       "293              Cycle Inspection / Initial Inspection       0.0        0.0   \n",
       "321              Cycle Inspection / Initial Inspection       0.0        0.0   \n",
       "338  Administrative Miscellaneous / Initial Inspection       0.0        0.0   \n",
       "376              Cycle Inspection / Initial Inspection       0.0        0.0   \n",
       "459                   Cycle Inspection / Re-inspection       0.0        0.0   \n",
       "462              Cycle Inspection / Initial Inspection       0.0        0.0   \n",
       "495              Cycle Inspection / Initial Inspection       0.0        0.0   \n",
       "508              Cycle Inspection / Initial Inspection       0.0        0.0   \n",
       "545                   Cycle Inspection / Re-inspection       0.0        0.0   \n",
       "561              Cycle Inspection / Initial Inspection       0.0        0.0   \n",
       "563              Cycle Inspection / Initial Inspection       0.0        0.0   \n",
       "767              Cycle Inspection / Initial Inspection       0.0        0.0   \n",
       "822              Cycle Inspection / Initial Inspection       0.0        0.0   \n",
       "830       Administrative Miscellaneous / Re-inspection       0.0        0.0   \n",
       "842                   Cycle Inspection / Re-inspection       0.0        0.0   \n",
       "\n",
       "     BIN  BBL  \n",
       "61   NaN  1.0  \n",
       "79   NaN  4.0  \n",
       "96   NaN  2.0  \n",
       "170  NaN  1.0  \n",
       "287  NaN  4.0  \n",
       "293  NaN  4.0  \n",
       "321  NaN  2.0  \n",
       "338  NaN  1.0  \n",
       "376  NaN  1.0  \n",
       "459  NaN  1.0  \n",
       "462  NaN  1.0  \n",
       "495  NaN  4.0  \n",
       "508  NaN  1.0  \n",
       "545  NaN  1.0  \n",
       "561  NaN  1.0  \n",
       "563  NaN  4.0  \n",
       "767  NaN  4.0  \n",
       "822  NaN  1.0  \n",
       "830  NaN  1.0  \n",
       "842  NaN  4.0  "
      ]
     },
     "execution_count": 9,
     "metadata": {},
     "output_type": "execute_result"
    }
   ],
   "source": [
    "\n",
    "df[df['ZIPCODE'].isnull()].head(20)"
   ]
  },
  {
   "cell_type": "markdown",
   "id": "8a4ba217",
   "metadata": {},
   "source": [
    "As the data above doesn't represent a specific sub population we can drop the small number of rows. \n",
    "Therefore we will remove null values in the zipcode column"
   ]
  },
  {
   "cell_type": "code",
   "execution_count": 10,
   "id": "683b82ab",
   "metadata": {},
   "outputs": [
    {
     "name": "stdout",
     "output_type": "stream",
     "text": [
      "<class 'pandas.core.frame.DataFrame'>\n",
      "Index: 196902 entries, 0 to 203950\n",
      "Data columns (total 17 columns):\n",
      " #   Column                 Non-Null Count   Dtype  \n",
      "---  ------                 --------------   -----  \n",
      " 0   CAMIS                  196902 non-null  int64  \n",
      " 1   DBA                    196902 non-null  object \n",
      " 2   BORO                   196902 non-null  object \n",
      " 3   ZIPCODE                196902 non-null  float64\n",
      " 4   PHONE                  196893 non-null  object \n",
      " 5   CUISINE DESCRIPTION    196902 non-null  object \n",
      " 6   INSPECTION DATE        196902 non-null  object \n",
      " 7   ACTION                 196902 non-null  object \n",
      " 8   VIOLATION CODE         195786 non-null  object \n",
      " 9   VIOLATION DESCRIPTION  195786 non-null  object \n",
      " 10  CRITICAL FLAG          196902 non-null  object \n",
      " 11  SCORE                  190413 non-null  float64\n",
      " 12  INSPECTION TYPE        196902 non-null  object \n",
      " 13  Latitude               196654 non-null  float64\n",
      " 14  Longitude              196654 non-null  float64\n",
      " 15  BIN                    195318 non-null  float64\n",
      " 16  BBL                    196335 non-null  float64\n",
      "dtypes: float64(6), int64(1), object(10)\n",
      "memory usage: 27.0+ MB\n"
     ]
    }
   ],
   "source": [
    "\n",
    "df = df[df['ZIPCODE'].notnull()]\n",
    "df.info()"
   ]
  },
  {
   "cell_type": "markdown",
   "id": "fa6c1110",
   "metadata": {},
   "source": [
    " "
   ]
  },
  {
   "cell_type": "markdown",
   "id": "bd4fff05",
   "metadata": {},
   "source": [
    "Convert INSPECTION DATE column to datetime"
   ]
  },
  {
   "cell_type": "code",
   "execution_count": 12,
   "id": "b2db6720",
   "metadata": {},
   "outputs": [],
   "source": [
    "\n",
    "df[\"INSPECTION DATE\"] = pd.to_datetime(df[\"INSPECTION DATE\"])\n",
    "df['INSPECTION YEAR'] = df['INSPECTION DATE'].dt.year"
   ]
  },
  {
   "cell_type": "code",
   "execution_count": 13,
   "id": "88d49cf4",
   "metadata": {},
   "outputs": [
    {
     "data": {
      "text/plain": [
       "INSPECTION YEAR\n",
       "2022    91126\n",
       "2023    31864\n",
       "2019    29828\n",
       "2021    21439\n",
       "2020    16034\n",
       "2018     3771\n",
       "2017     2229\n",
       "2016      582\n",
       "2015       20\n",
       "2013        6\n",
       "2012        2\n",
       "2011        1\n",
       "Name: INSPECTION YEAR, dtype: int64"
      ]
     },
     "execution_count": 13,
     "metadata": {},
     "output_type": "execute_result"
    }
   ],
   "source": [
    "# find rows where inspection date is < 2016 or  > 2023\n",
    "df2 = df.groupby(['INSPECTION YEAR'])['INSPECTION YEAR'].count()\n",
    "df2.sort_values(ascending = False).head(15)"
   ]
  },
  {
   "cell_type": "markdown",
   "id": "9e712a51",
   "metadata": {},
   "source": [
    " "
   ]
  },
  {
   "cell_type": "markdown",
   "id": "f5e60205",
   "metadata": {},
   "source": [
    "Removing the small fraction of rows which have inspection year <= 2016"
   ]
  },
  {
   "cell_type": "code",
   "execution_count": 14,
   "id": "b789192d",
   "metadata": {},
   "outputs": [],
   "source": [
    "df = df[df['INSPECTION YEAR'] > 2016]"
   ]
  },
  {
   "cell_type": "markdown",
   "id": "76dc8429",
   "metadata": {},
   "source": [
    "Drop duplicate rows"
   ]
  },
  {
   "cell_type": "code",
   "execution_count": 15,
   "id": "cb9c6f00",
   "metadata": {},
   "outputs": [],
   "source": [
    "df = df.drop_duplicates()"
   ]
  },
  {
   "cell_type": "markdown",
   "id": "376c5cd4",
   "metadata": {},
   "source": [
    "Counting unique values in CAMIS column: Establishments are uniquely identified by their CAMIS (record ID) number.\n"
   ]
  },
  {
   "cell_type": "code",
   "execution_count": 16,
   "id": "bf171569",
   "metadata": {},
   "outputs": [
    {
     "name": "stdout",
     "output_type": "stream",
     "text": [
      "23624\n",
      "196290\n"
     ]
    }
   ],
   "source": [
    "print(len(df[\"CAMIS\"].unique()))\n",
    "print(len(df.index))"
   ]
  },
  {
   "cell_type": "markdown",
   "id": "a914a3aa",
   "metadata": {},
   "source": [
    "Checking for invalid values in BORO column"
   ]
  },
  {
   "cell_type": "code",
   "execution_count": 17,
   "id": "82a97090",
   "metadata": {},
   "outputs": [
    {
     "data": {
      "text/plain": [
       "array(['Brooklyn', 'Queens', 'Manhattan', 'Bronx', 'Staten Island', '0'],\n",
       "      dtype=object)"
      ]
     },
     "execution_count": 17,
     "metadata": {},
     "output_type": "execute_result"
    }
   ],
   "source": [
    "df['BORO'].unique()"
   ]
  },
  {
   "cell_type": "code",
   "execution_count": 18,
   "id": "d1bdd538",
   "metadata": {},
   "outputs": [
    {
     "data": {
      "text/plain": [
       "BORO\n",
       "Manhattan        72789\n",
       "Brooklyn         52526\n",
       "Queens           46185\n",
       "Bronx            18397\n",
       "Staten Island     6363\n",
       "0                   30\n",
       "Name: BORO, dtype: int64"
      ]
     },
     "execution_count": 18,
     "metadata": {},
     "output_type": "execute_result"
    }
   ],
   "source": [
    "df2 = df.groupby(['BORO'])['BORO'].count()\n",
    "df2.sort_values(ascending = False).head(15)"
   ]
  },
  {
   "cell_type": "markdown",
   "id": "488c0231",
   "metadata": {},
   "source": [
    "Change 0 to UNKNOWN; value can be inferred from zipcode if required for analysis"
   ]
  },
  {
   "cell_type": "code",
   "execution_count": 19,
   "id": "2aa5b566",
   "metadata": {},
   "outputs": [],
   "source": [
    "df['BORO'] = df['BORO'].replace('0', 'UNKNOWN')"
   ]
  },
  {
   "cell_type": "markdown",
   "id": "14565cf5",
   "metadata": {},
   "source": [
    "Change column types"
   ]
  },
  {
   "cell_type": "code",
   "execution_count": 20,
   "id": "ebab1fec",
   "metadata": {},
   "outputs": [],
   "source": [
    "df['CAMIS'] = df['CAMIS'].astype(str)\n",
    "df['ZIPCODE'] = df['ZIPCODE'].astype(int).astype(str)\n",
    "df['BIN'] = df['BIN'].astype('Int64').astype(str)\n",
    "df['BBL'] = df['BBL'].astype('Int64').astype(str)"
   ]
  },
  {
   "cell_type": "markdown",
   "id": "a5ccc09f",
   "metadata": {},
   "source": [
    "Ensure all zipcodes are of same length - add preceding 0s if required\n"
   ]
  },
  {
   "cell_type": "code",
   "execution_count": 21,
   "id": "531221a8",
   "metadata": {},
   "outputs": [
    {
     "data": {
      "text/plain": [
       "array([5])"
      ]
     },
     "execution_count": 21,
     "metadata": {},
     "output_type": "execute_result"
    }
   ],
   "source": [
    "df['ZIPCODE'].str.len().unique()"
   ]
  },
  {
   "cell_type": "markdown",
   "id": "c7a5f641",
   "metadata": {},
   "source": [
    "Ensure violation codes are valid; data sourced from : https://www.nyc.gov/assets/doh/downloads/pdf/about/healthcode/health-code-chapter23.pdf\n"
   ]
  },
  {
   "cell_type": "code",
   "execution_count": 22,
   "id": "cc15a5d1",
   "metadata": {},
   "outputs": [
    {
     "data": {
      "text/plain": [
       "{'10I',\n",
       " '10J',\n",
       " '15A1',\n",
       " '15E2',\n",
       " '15E3',\n",
       " '15F1',\n",
       " '15F2',\n",
       " '15F6',\n",
       " '15F7',\n",
       " '15F8',\n",
       " '15I',\n",
       " '15L',\n",
       " '15S',\n",
       " '16A',\n",
       " '16B',\n",
       " '16C',\n",
       " '16D',\n",
       " '16E',\n",
       " '17A1',\n",
       " '18B',\n",
       " '18C',\n",
       " '18D',\n",
       " '18F',\n",
       " '18G',\n",
       " '20A',\n",
       " '20C',\n",
       " '20D',\n",
       " '20E',\n",
       " '20F',\n",
       " '22A',\n",
       " '22C',\n",
       " '22E',\n",
       " '22F',\n",
       " '22G',\n",
       " nan}"
      ]
     },
     "execution_count": 22,
     "metadata": {},
     "output_type": "execute_result"
    }
   ],
   "source": [
    "valid_codes = ['02A','02B','02C','02D','02E','02F','02G','02H','02I','02J','03A','03B','03C','03D','03E','03F','03G','03I','04A','04B','04C','04D','04E','04F','04G','04H','04I','04J','04K','04L','04M','04N','04O','04P','05A','05B','05C','05D','05E','05F','05G','05H','05I','06A','06B','06C','06D','06E','06F','06G','06H','06I','06J','07A','08A','08B','08C','09A','09B','09C','09D','09E','10A','10B','10C','10D','10E','10F','10G','10H','15-01','15-05','15-06','15-07','15-08','15-09','15-13','15-14','15-15','15-16','15-17','15-21','15-22','15-26','15-27','15-28','15-29','15-30','15-31','15-32','15-33','15-34','15-35','15-36','15-37','15-38','15-39','15-40','15-41','15-42','15-48','15-49','15-50','15-51','15-52','15-53','15-54','15-55','15-56','16-01','16-02','16-03','16-04','16-06','16-08','16-09','16-10','16-11','17-01','17-03','18-01','18-02','18-08','18-10','18-11','18-12','18-13','18-14','18-15','18-25','19-01','19-02','19-03','19-04','19-05','19-06','19-07','19-08','19-09','19-10','19-11','20-01','20-02','20-03','20-04','20-05','20-06','20-07','20-08','26-04','28-01','28-02','28-03','28-04','28-05','28-06','28-07','28-09','28-10']\n",
    "data_codes = set(list(df['VIOLATION CODE'].unique()))\n",
    "valid_codes_set = set(valid_codes)\n",
    "data_codes - valid_codes_set\n",
    "# TODO : remove these rows?"
   ]
  },
  {
   "cell_type": "markdown",
   "id": "8eb8846d",
   "metadata": {},
   "source": [
    "Checking that Latitude and Longitude are in a small range around New York"
   ]
  },
  {
   "cell_type": "code",
   "execution_count": 23,
   "id": "54763f9c",
   "metadata": {},
   "outputs": [
    {
     "data": {
      "text/html": [
       "<div>\n",
       "<style scoped>\n",
       "    .dataframe tbody tr th:only-of-type {\n",
       "        vertical-align: middle;\n",
       "    }\n",
       "\n",
       "    .dataframe tbody tr th {\n",
       "        vertical-align: top;\n",
       "    }\n",
       "\n",
       "    .dataframe thead th {\n",
       "        text-align: right;\n",
       "    }\n",
       "</style>\n",
       "<table border=\"1\" class=\"dataframe\">\n",
       "  <thead>\n",
       "    <tr style=\"text-align: right;\">\n",
       "      <th></th>\n",
       "      <th>Latitude</th>\n",
       "      <th>Longitude</th>\n",
       "    </tr>\n",
       "  </thead>\n",
       "  <tbody>\n",
       "    <tr>\n",
       "      <th>count</th>\n",
       "      <td>196048.000000</td>\n",
       "      <td>196048.000000</td>\n",
       "    </tr>\n",
       "    <tr>\n",
       "      <th>mean</th>\n",
       "      <td>40.727602</td>\n",
       "      <td>-73.941057</td>\n",
       "    </tr>\n",
       "    <tr>\n",
       "      <th>std</th>\n",
       "      <td>0.068768</td>\n",
       "      <td>0.075316</td>\n",
       "    </tr>\n",
       "    <tr>\n",
       "      <th>min</th>\n",
       "      <td>40.499563</td>\n",
       "      <td>-74.248708</td>\n",
       "    </tr>\n",
       "    <tr>\n",
       "      <th>25%</th>\n",
       "      <td>40.685782</td>\n",
       "      <td>-73.989096</td>\n",
       "    </tr>\n",
       "    <tr>\n",
       "      <th>50%</th>\n",
       "      <td>40.732205</td>\n",
       "      <td>-73.957162</td>\n",
       "    </tr>\n",
       "    <tr>\n",
       "      <th>75%</th>\n",
       "      <td>40.761992</td>\n",
       "      <td>-73.899441</td>\n",
       "    </tr>\n",
       "    <tr>\n",
       "      <th>max</th>\n",
       "      <td>40.912822</td>\n",
       "      <td>-73.700928</td>\n",
       "    </tr>\n",
       "  </tbody>\n",
       "</table>\n",
       "</div>"
      ],
      "text/plain": [
       "            Latitude      Longitude\n",
       "count  196048.000000  196048.000000\n",
       "mean       40.727602     -73.941057\n",
       "std         0.068768       0.075316\n",
       "min        40.499563     -74.248708\n",
       "25%        40.685782     -73.989096\n",
       "50%        40.732205     -73.957162\n",
       "75%        40.761992     -73.899441\n",
       "max        40.912822     -73.700928"
      ]
     },
     "execution_count": 23,
     "metadata": {},
     "output_type": "execute_result"
    }
   ],
   "source": [
    "\n",
    "df.loc[:, ['Latitude', 'Longitude']].describe()"
   ]
  },
  {
   "cell_type": "markdown",
   "id": "bc5af684",
   "metadata": {},
   "source": [
    "Save cleaned data"
   ]
  },
  {
   "cell_type": "code",
   "execution_count": 24,
   "id": "54c2bc25",
   "metadata": {},
   "outputs": [],
   "source": [
    "\n",
    "df.to_csv('DOHMH_New_York_City_Restaurant_Inspection_Results_cleaned.csv', index = False)"
   ]
  },
  {
   "cell_type": "markdown",
   "id": "a2e4fb4a",
   "metadata": {},
   "source": [
    "# READ IN PARTIALLY CLEAN DATA BEFORE FINGERPRINT METHOD IS APPLIED"
   ]
  },
  {
   "cell_type": "code",
   "execution_count": 18,
   "id": "9569dc7f",
   "metadata": {},
   "outputs": [],
   "source": [
    "#start spark session\n",
    "from pyspark import SparkContext, SparkConf\n",
    "cf = SparkConf()\n",
    "cf.set(\"spark.submit.deployMode\",\"client\")\n",
    "sc = SparkContext.getOrCreate(cf)\n",
    "from pyspark.sql import SparkSession\n",
    "spark = SparkSession \\\n",
    "        .builder \\\n",
    "        .appName(\"Python Spark SQL basic example\") \\\n",
    "        .config(\"spark.some.config.option\", \"some-value\") \\\n",
    "        .getOrCreate()\n",
    "\n"
   ]
  },
  {
   "cell_type": "code",
   "execution_count": 2,
   "id": "49871441",
   "metadata": {},
   "outputs": [
    {
     "name": "stderr",
     "output_type": "stream",
     "text": [
      "23/05/04 20:08:22 WARN org.apache.spark.scheduler.cluster.YarnScheduler: Initial job has not accepted any resources; check your cluster UI to ensure that workers are registered and have sufficient resources\n",
      "23/05/04 20:08:37 WARN org.apache.spark.scheduler.cluster.YarnScheduler: Initial job has not accepted any resources; check your cluster UI to ensure that workers are registered and have sufficient resources\n",
      "23/05/04 20:08:52 WARN org.apache.spark.scheduler.cluster.YarnScheduler: Initial job has not accepted any resources; check your cluster UI to ensure that workers are registered and have sufficient resources\n",
      "23/05/04 20:09:07 WARN org.apache.spark.scheduler.cluster.YarnScheduler: Initial job has not accepted any resources; check your cluster UI to ensure that workers are registered and have sufficient resources\n",
      "                                                                                \r"
     ]
    }
   ],
   "source": [
    "# read partially clean data to further clean with the finger print method\n",
    "data_path = '/user/mz3327_nyu_edu/DOHMH_New_York_City_Restaurant_Inspection_Results_cleaned.csv'\n",
    "\n",
    "inspection_df = spark.read.csv(path=data_path, header=True, inferSchema = True)"
   ]
  },
  {
   "cell_type": "code",
   "execution_count": 3,
   "id": "e7e9e744",
   "metadata": {},
   "outputs": [],
   "source": [
    "import numpy as np\n",
    "import matplotlib.pyplot as plt\n",
    "import math\n",
    "\n",
    "import string, unicodedata\n",
    "from pyspark.sql import functions as F\n",
    "from pyspark.sql.functions import count, col, countDistinct, year\n",
    "\n"
   ]
  },
  {
   "cell_type": "code",
   "execution_count": 4,
   "id": "541af8f7",
   "metadata": {},
   "outputs": [],
   "source": [
    "def fingerprint(value):\n",
    "    key = unicodedata.normalize('NFKD', value).encode('ascii','ignore').decode()\n",
    "    key = set(key.strip().lower().translate(str.maketrans('','',string.punctuation)).split())\n",
    "    key = ' '.join(sorted(list(key)))\n",
    "    return (key, value)\n",
    "\n",
    "def fingerprint_lenient(value):\n",
    "    key = unicodedata.normalize('NFKD', value).encode('ascii','ignore').decode()\n",
    "    key = list(key.strip().lower().translate(str.maketrans('','',string.punctuation)).split())\n",
    "    key = ' '.join(sorted(list(key)))\n",
    "    return (key, value)"
   ]
  },
  {
   "cell_type": "code",
   "execution_count": 5,
   "id": "c563f0d0",
   "metadata": {},
   "outputs": [
    {
     "name": "stderr",
     "output_type": "stream",
     "text": [
      "                                                                                \r"
     ]
    },
    {
     "name": "stdout",
     "output_type": "stream",
     "text": [
      "[\"PAPA JOHN'S\", 'GINZA SUSHI', 'XIN HUO BAN', 'MARC FORGIONE', 'PUEBLA PUEBLA BAR RESTAURANT']\n"
     ]
    },
    {
     "name": "stderr",
     "output_type": "stream",
     "text": [
      "[Stage 3:================================>                         (9 + 7) / 16]\r"
     ]
    },
    {
     "name": "stdout",
     "output_type": "stream",
     "text": [
      "[('by claudette cuisine', ['CUISINE BY CLAUDETTE', 'Cuisine by Claudette']), ('kitchen szechuan', ['Szechuan Kitchen', 'SZECHUAN KITCHEN']), ('jaiya oriental restaurant thai', ['JAIYA THAI ORIENTAL RESTAURANT', 'JAIYA THAI & ORIENTAL RESTAURANT']), ('101 cafe', ['101 CAFE', 'CAFE 101']), ('grill master', ['MASTER GRILL', 'GRILL MASTER']), ('pickabagel', ['Pick-A-Bagel', 'PICK-A-BAGEL']), ('sushi tokyo', ['Tokyo Sushi', 'SUSHI TOKYO']), ('subway', ['SUBWAY', 'Subway']), ('ginza sushi', ['SUSHI GINZA', 'GINZA SUSHI']), ('baguette paris', ['PARIS BAGUETTE', 'Paris Baguette']), ('burger king popeyes', ['POPEYES/ BURGER KING', 'BURGER KING, POPEYES']), ('co fresh', ['FRESH & CO', 'FRESH & CO.']), ('bakery patis', [\"PATI'S BAKERY\", 'PATIS BAKERY']), ('1 no restaurant', ['NO. 1 RESTAURANT', 'NO 1 RESTAURANT']), ('coco fresh juice tea', ['Coco Fresh Tea & Juice', 'COCO FRESH TEA & JUICE']), ('burger daily', ['Daily Burger', 'DAILY BURGER']), ('friedmans', ['FRIEDMANS', \"FRIEDMAN'S\"]), ('dominos pizza', [\"DOMINO'S PIZZA\", 'DOMINOS PIZZA']), ('cafe mocha', ['MOCHA CAFE', 'CAFE MOCHA']), ('kings kitchen', [\"KING'S KITCHEN\", 'KINGS KITCHEN']), ('baskin dunkin robbins', ['DUNKIN , BASKIN ROBBINS', \"DUNKIN' / BASKIN ROBBINS\", 'DUNKIN, BASKIN ROBBINS', \"DUNKIN', BASKIN ROBBINS\", 'DUNKIN / BASKIN ROBBINS', 'DUNKIN & BASKIN ROBBINS', 'DUNKIN - BASKIN ROBBINS', 'DUNKIN BASKIN ROBBINS', \"DUNKIN',' BASKIN ROBBINS\", \"DUNKIN', 'BASKIN ROBBINS\"]), ('bell taco', ['Taco Bell', 'TACO BELL']), ('barrys bootcamp', [\"BARRY'S BOOTCAMP\", 'BARRYS BOOTCAMP']), ('applebees', ['APPLEBEES', \"APPLEBEE'S\"]), ('burrito hungry', ['Hungry Burrito', 'HUNGRY BURRITO']), ('dazs haagen', ['HAAGEN - DAZS', 'HAAGEN DAZS']), ('tartinery', ['Tartinery', 'TARTINERY']), ('cuban cuisine sophies', ['SOPHIES CUBAN CUISINE', \"SOPHIE'S CUBAN CUISINE\"]), ('sushi yo', ['YO! SUSHI', 'YO SUSHI']), ('cafe paris', ['PARIS CAFE', 'CAFE PARIS']), ('fuku', ['FUKU', 'Fuku']), ('lobster lukes', ['LUKES LOBSTER', \"LUKE'S LOBSTER\"]), ('bella luna', ['BELLA LUNA', 'Luna Bella']), ('bagel pub', ['BAGEL PUB', 'Bagel Pub']), ('bubble tea vivi', ['ViVi Bubble Tea', 'VIVI BUBBLE TEA']), ('cafe coffee le', ['LE CAFÉ COFFEE', 'LE CAFE COFFEE']), ('pretzels wetzels', ['WETZELS PRETZELS', \"WETZEL'S PRETZELS\"]), ('and chicken fried kennedy pizza', ['KENNEDY FRIED CHICKEN AND PIZZA', 'Kennedy Fried Chicken and Pizza']), ('falafel mamouns', [\"MAMOUN'S FALAFEL\", 'MAMOUNS FALAFEL']), ('chicken fried kentucky', ['KENTUCKY FRIED CHICKEN', 'Kentucky Fried Chicken']), ('cove fishermans', [\"FISHERMAN'S COVE\", 'FISHERMANS COVE']), ('pizza roma', ['ROMA PIZZA', 'Roma Pizza']), ('ninos restaurant', ['NINOS RESTAURANT', \"NINO'S RESTAURANT\"]), ('hamiltons', [\"HAMILTON'S\", 'HAMILTONS']), ('andrews coffee shop', [\"ANDREW'S COFFEE SHOP\", 'ANDREWS COFFEE SHOP']), ('appetit bon', ['Bon Appetit', 'BON APPETIT']), ('mistura peruana', ['Mistura Peruana', 'MISTURA PERUANA']), ('bbq chicken', ['BBQ CHICKEN', 'BB.Q CHICKEN']), ('jin ramen', ['RAMEN JIN', 'JIN RAMEN']), ('blank coffee street', ['BLANK STREET COFFEE', 'Blank Street Coffee']), ('deep indian kitchen', ['DEEP INDIAN KITCHEN', 'Deep Indian Kitchen']), ('1 chinese no restaurant', ['NO. 1 CHINESE RESTAURANT', 'NO 1 CHINESE RESTAURANT']), ('deli mikes', ['MIKES DELI', \"MIKE'S DELI\"]), ('ginos pizza', [\"GINO'S PIZZA\", \"Gino's Pizza\"]), ('annes auntie cinnabon', [\"CINNABON AUNTIE ANNE'S\", \"AUNTIE ANNE'S / CINNABON\"]), ('high line standard the', ['THE STANDARD, HIGH LINE', 'THE STANDARD HIGH LINE']), ('just salad', ['JUST SALAD', 'Just Salad']), ('cloud m', ['CLOUD M', 'Cloud M']), ('house la queen tea', ['La Queen Tea House', 'LA QUEEN TEA HOUSE']), ('whitmans', ['WHITMANS', \"WHITMAN'S\"]), ('starbucks', ['STARBUCKS', 'Starbucks']), ('burrito loco', ['BURRITO LOCO', 'LOCO BURRITO']), ('carvel cinnabon', ['CARVEL CINNABON', 'CARVEL, CINNABON']), ('bella pizza restaurant', ['BELLA PIZZA RESTAURANT', 'BELLA PIZZA & RESTAURANT']), ('brooklyn house wing', ['Brooklyn Wing House', 'BROOKLYN WING HOUSE']), ('bubbakoos burritos', [\"BUBBAKOO'S BURRITOS\", 'Bubbakoos burritos']), ('bolios emack', ['EMACK & BOLIOS', \"EMACK & BOLIO'S\"]), ('empire kitchen', ['EMPIRE KITCHEN .', 'EMPIRE KITCHEN']), ('luigis pizzeria', [\"LUIGI'S PIZZERIA\", 'LUIGIS PIZZERIA']), ('johns papa pizza', [\"PAPA JOHN'S PIZZA\", 'PAPA JOHNS PIZZA']), ('chef kings', [\"KING'S CHEF\", 'KINGS CHEF']), ('co coffee little roy', ['LITTLE ROY COFFEE CO', 'LITTLE ROY COFFEE CO.']), ('concession dog garden hot market', ['HOT DOG CONCESSION, GARDEN MARKET', 'GARDEN MARKET – HOT DOG CONCESSION', 'GARDEN MARKET HOT DOG CONCESSION']), ('baskin donuts dunkin robbins', ['DUNKIN DONUTS BASKIN ROBBINS', \"DUNKIN' DONUTS / BASKIN ROBBINS\"]), ('burger queens', ['QUEENS BURGER', 'Burger Queens']), ('7th burger street', ['7TH STREET BURGER', '7th STREET BURGER']), ('and dan johns wings', ['DAN AND JOHNS WINGS', \"DAN AND JOHN'S WINGS\"]), ('mr pizza', ['MR. PIZZA', 'MR  PIZZA']), ('chicken jerk peppas', [\"PEPPA'S JERK CHICKEN\", 'PEPPAS JERK CHICKEN']), ('99 cents fresh hot pizza', ['FRESH 99 CENTS HOT PIZZA', '99 CENTS FRESH & HOT PIZZA']), ('blue bottle coffee', ['Blue Bottle Coffee', 'BLUE BOTTLE COFFEE']), ('coffee roasters rx', ['COFFEE RX ROASTERS', 'COFFEE Rx ROASTERS']), ('chicken fried kennedy', ['KENNEDY FRIED CHICKEN', 'Kennedy Fried Chicken']), ('biryani house khalil', ['KHALIL BIRYANI  HOUSE', 'KHALIL BIRYANI HOUSE']), ('koi sushi', ['KOI SUSHI', 'SUSHI KOI']), ('dumplings oh', ['OH DUMPLINGS', 'OH! DUMPLINGS']), ('ices ralphs', [\"RALPH'S  ICES\", 'RALPHS ICES']), ('fly on the vegan', ['VEGAN ON THE FLY', 'Vegan On The Fly']), ('palace silver', ['Silver Palace', 'SILVER PALACE']), ('halalbees', ['HALALBEES', \"HALALBEE'S\"]), ('bedstuy fish fry', ['BED-STUY FISH FRY', 'Bed-Stuy Fish Fry']), ('halal munchies', ['HALAL MUNCHIES', 'Halal Munchies']), ('again come thank you', ['THANK YOU COME AGAIN', 'THANK YOU, COME AGAIN']), ('mezcals restaurant', ['MEZCALS RESTAURANT', \"MEZCAL'S RESTAURANT\"]), ('cafe luna', ['LUNA CAFE', 'CAFE LUNA']), ('johns papa', [\"PAPA JOHN'S\", 'PAPA JOHNS']), ('coffee gregorys', [\"GREGORY'S COFFEE\", 'GREGORYS COFFEE']), ('baccarat club', ['Baccarat Club', 'BACCARAT CLUB']), ('bell kfc taco', ['KFC, TACO BELL', 'TACO BELL, KFC']), ('coffee ghost hungry', ['HUNGRY GHOST COFFEE', 'Hungry Ghost Coffee']), ('cakes keki modern', ['KEKI MODERN CAKES', 'Keki Modern Cakes']), ('a mmmthats wrap', ['MMM...THATS A WRAP', \"MMM...THAT'S A WRAP\"]), ('cinco de evas mayo x', [\"Eva's x Cinco De Mayo\", \"EVA'S x CINCO DE MAYO\", \"EVA'S X CINCO DE MAYO\"]), ('heights mint', ['MINT HEIGHTS', 'Mint Heights']), ('cha gong', ['GONG CHA', 'Gong Cha']), ('kings wok', [\"KING'S WOK\", 'KINGS WOK']), ('chicken fried kennedy pizza us', ['US KENNEDY FRIED CHICKEN PIZZA', 'US KENNEDY FRIED CHICKEN & PIZZA']), ('etc', ['ETC.', 'ETC']), ('east shop snack wind', ['EAST WIND SNACK SHOP', 'East Wind Snack Shop']), ('brooklyn of patrizias', ['PATRIZIAS OF BROOKLYN', \"PATRIZIA'S OF BROOKLYN\"]), ('juniors', ['JUNIORS', \"JUNIOR'S\"]), ('bowl poke', ['POKE BOWL', 'Poke Bowl']), ('pizzeria tonys', [\"TONY'S PIZZERIA\", 'TONYS PIZZERIA']), ('dunkin popeyes', [\"POPEYES, DUNKIN'\", \"DUNKIN', POPEYES\"]), ('cafe madison', ['CAFE MADISON', 'MADISON CAFE']), ('lennys pizzeria', [\"LENNY'S PIZZERIA\", 'LENNYS PIZZERIA']), ('cafe metro', ['CAFE METRO', 'METRO CAFE']), ('flavors jamaican', ['Jamaican Flavors', 'JAMAICAN FLAVORS']), ('cafe hestia', ['CAFÉ HESTIA', 'CAFE HESTIA']), ('coffee fillup', ['Fillup Coffee', 'FILLUP COFFEE']), ('blank street', ['BLANK STREET', 'Blank Street']), ('dr smood', ['DR SMOOD', 'DR. SMOOD']), ('bento sushi wasabi', ['WASABI SUSHI BENTO', 'WASABI SUSHI & BENTO']), ('patsys pizzeria', ['PATSYS PIZZERIA', \"PATSY'S PIZZERIA\"]), ('rice x yogurt yomies', [\"YOMIE'S RICE X YOGURT\", \"YOMIE'S RICE x YOGURT\"]), ('angelos pizzeria', [\"ANGELO'S PIZZERIA\", 'ANGELOS PIZZERIA']), ('bed fish fry stuy', ['BED STUY FISH FRY', 'Bed Stuy Fish Fry']), ('pizza prince', ['PRINCE PIZZA', 'PIZZA PRINCE']), ('joes pasta pizza', [\"JOE'S PIZZA & PASTA\", 'JOES PIZZA & PASTA']), ('bao by kaya', ['BAO by Kaya', 'BAO BY KAYA']), ('at bar garden the', ['Bar at the Garden', 'BAR AT THE GARDEN']), ('wingstop', ['WingStop', 'WING-STOP', 'WINGSTOP', 'Wingstop']), ('restaurant wimpys', ['WIMPYS RESTAURANT', \"WIMPY'S RESTAURANT\"]), ('bites of xian', [\"BITES OF XI'AN\", 'BITES OF XIAN']), ('good taste', ['GOOD TASTE', 'TASTE GOOD']), ('club metropolitan', ['CLUB METROPOLITAN', 'METROPOLITAN CLUB']), ('cookie crumz', ['Cookie Crumz', 'COOKIE CRUMZ']), ('a pizzeria s', ['A & S PIZZERIA', 'S & A PIZZERIA']), ('colombe la', ['LA COLOMBE', 'La Colombe']), ('lechonera pollo restaurant sabroso', ['LECHONERA & POLLO SABROSO RESTAURANT', 'LECHONERA POLLO SABROSO RESTAURANT']), ('finger joint stickys', [\"Sticky's Finger Joint\", \"STICKY'S FINGER JOINT\"]), ('kellys pub', ['KELLYS PUB', \"KELLY'S PUB\"]), ('justinos pizzeria', ['JUSTINOS PIZZERIA', \"JUSTINO'S PIZZERIA\"]), ('bbq mighty quinns', [\"Mighty Quinn's BBQ\", \"MIGHTY QUINN'S BBQ\"]), ('burger chicken texas', ['TEXAS CHICKEN & BURGER', 'Texas Chicken & Burger']), ('sushi yu', ['SUSHI YU', 'YU SUSHI']), ('donuts dunkin', ['Dunkin Donuts', \"DUNKIN' DONUTS\", 'DUNKIN DONUTS']), ('bake brew eas n', ['E&A’S BAKE N BREW', \"E&A'S BAKE N BREW\"]), ('carvel', ['Carvel', 'CARVEL']), ('capt loui', ['CAPT LOUI', \"CAP'T LOUI\"]), ('eats mexican qdoba', ['QDOBA MEXICAN EATS', 'QDOBA Mexican Eats']), ('mikes pizza', [\"MIKE'S PIZZA\", 'MIKES PIZZA']), ('bell hut pizza taco', ['TACO BELL, PIZZA HUT', 'TACO BELL PIZZA HUT']), ('bakery mocana', ['MOCANA BAKERY', 'BAKERY MOCANA']), ('chicken daves hot', ['DAVES HOT CHICKEN', \"DAVE'S HOT CHICKEN\"]), ('bros grill halal', ['Halal Bros Grill', 'HALAL BROS GRILL']), ('brooklyn tea', ['BROOKLYN TEA', 'Brooklyn Tea']), ('pattanian thai', ['PATTANIAN THAI', 'Pattanian Thai']), ('dominos', ['DOMINOS', 'Dominos', \"DOMINO'S\"]), ('good restaurant taste', ['TASTE GOOD RESTAURANT', 'GOOD TASTE RESTAURANT']), ('bar mayas snack', ['MAYAS SNACK BAR', \"MAYA'S SNACK BAR\"]), ('great wall', ['GREAT WALL', 'Great Wall']), ('dunkinbaskin robbins', ['DUNKIN/BASKIN ROBBINS', \"DUNKIN'/BASKIN ROBBINS\"]), ('hong kong new', ['New Hong Kong', 'NEW HONG KONG']), ('menchies', ['MENCHIES', \"MENCHIE'S\"]), ('china kitchen', ['China Kitchen', 'CHINA KITCHEN']), ('bellini', ['BELLINI', 'Bellini']), ('99 cents fresh pizza', ['FRESH PIZZA 99 CENTS', '99 CENTS FRESH PIZZA']), ('chicken jerk peppas restaurant', ['PEPPAS JERK CHICKEN RESTAURANT', \"PEPPA'S JERK CHICKEN RESTAURANT\"]), ('lucia pizza', ['Lucia Pizza', 'LUCIA PIZZA']), ('bar garden grill', ['GARDEN GRILL & BAR', 'GARDEN BAR & GRILL']), ('chopt', [\"CHOP'T\", 'CHOPT']), ('butler', ['Butler', 'BUTLER']), ('coffee jacks', ['JACKS COFFEE', \"JACK'S COFFEE\"]), ('franks pizza', [\"FRANK'S PIZZA\", 'FRANKS PIZZA']), ('chens garden', [\"CHEN'S GARDEN\", 'CHENS GARDEN']), ('ramen tamashii', ['TAMASHII RAMEN', 'Tamashii Ramen']), ('checkers', [\"CHECKER'S\", 'CHECKERS']), ('chinese no1 restaurant', ['No.1 CHINESE RESTAURANT', 'NO.1 CHINESE RESTAURANT']), ('busters dave', ['DAVE & BUSTERS', \"DAVE & BUSTER'S\"]), ('chicken for mad', ['Mad For Chicken', 'MAD FOR CHICKEN']), ('luigis pizza', [\"LUIGI'S PIZZA\", \"Luigi's Pizza\", 'LUIGIS PIZZA']), ('momentea', ['MOMENTEA', 'Momentea']), ('pizza', ['& PIZZA', 'PIZZA']), ('salumeria sergimmo', ['SERGIMMO SALUMERIA', 'Sergimmo Salumeria']), ('deninos pizzeria tavern', [\"DENINO'S PIZZERIA & TAVERN\", \"DENINO'S PIZZERIA TAVERN\"]), ('fairfield inn suites', ['Fairfield Inn & Suites', 'FAIRFIELD INN & SUITES']), ('dunkin', ['DUNKIN', \"DUNKIN'\", 'Dunkin', 'DUNKIN’']), ('ginos pizzeria restaurant', [\"GINO'S RESTAURANT & PIZZERIA\", \"GINO'S PIZZERIA RESTAURANT\"]), ('kabab king', ['KING KABAB', 'KABAB KING']), ('burger chicken kennedy', ['KENNEDY CHICKEN & BURGER', 'Kennedy Chicken & Burger']), ('cafe spot the', ['THE SPOT CAFE', 'THE SPOT CAFÉ']), ('famous pizza singas', ['Singas Famous Pizza', 'SINGAS FAMOUS PIZZA']), ('2 bros carmens kitchen pizza', ['2 BROS PIZZA / CARMENS KITCHEN', \"CARMEN'S KITCHEN / 2 BROS PIZZA\"]), ('mi tea', ['MI TEA', 'Mi Tea']), ('co sushi', ['SUSHI & CO', 'Sushi & Co']), ('charleys philly steaks', ['CHARLEYS PHILLY STEAKS', \"CHARLEY'S PHILLY STEAKS\"]), ('bar baya', ['BAYA BAR', 'Baya Bar']), ('kyclades taverna', ['TAVERNA KYCLADES', 'Taverna Kyclades']), ('misoya', ['MISO-YA', 'MISOYA']), ('schnippers', ['SCHNIPPERS', \"SCHNIPPER'S\"]), ('celtic playwright pub', ['Playwright Celtic Pub', 'PLAYWRIGHT CELTIC PUB']), ('florinda restaurant', ['FLORINDA RESTAURANT', 'Florinda Restaurant']), ('1 pizza slice', ['$1 PIZZA SLICE', '$1 SLICE PIZZA']), ('kitchen louisiana popeyes', ['Popeyes Louisiana Kitchen', \"POPEYE'S LOUISIANA KITCHEN\", 'POPEYES LOUISIANA KITCHEN']), ('bagel oh', ['OH! BAGEL', 'OH BAGEL']), ('bagels zuckers', [\"ZUCKER'S BAGELS\", 'ZUCKERS BAGELS']), ('kitchen mediterranean taim', ['Taim Mediterranean Kitchen', 'Taim Mediterranean kitchen']), ('corner social', ['CORNER SOCIAL', 'SOCIAL CORNER']), ('bella pizza', ['BELLA PIZZA', 'PIZZA BELLA']), ('bagels liberty', ['LIBERTY BAGELS', 'Liberty Bagels']), ('jacks steakhouse uncle', ['UNCLE JACKS STEAKHOUSE', \"UNCLE JACK'S STEAKHOUSE\"]), ('allowed chewing no', ['NO CHEWING ALLOWED!', 'NO CHEWING ALLOWED']), ('double dragon', ['DOUBLE DRAGON', 'Double Dragon']), ('diner parsons', [\"PARSON'S DINER\", 'PARSONS DINER']), ('la patrona', ['LA PATRONA', 'La Patrona']), ('china new', ['NEW CHINA', 'New China']), ('coffee marathon', ['Marathon Coffee', 'MARATHON COFFEE']), ('cafe effys', ['EFFYS CAFE', \"EFFY'S CAFE\"]), ('carry craft', ['CRAFT & CARRY', 'CRAFT + CARRY']), ('mcdonalds', [\"MCDONALD'S\", 'MCDONALDS', \"McDONALD'S\"]), ('fridays tgi', [\"T.G.I. FRIDAY'S\", \"TGI FRIDAY'S\"]), ('popeyes', [\"Popeye's\", \"POPEYE'S\", 'POPEYES']), ('lounge nicks pizza', ['NICKS PIZZA LOUNGE', \"NICK'S PIZZA LOUNGE\"]), ('damore pizza', ['PIZZA DAMORE', \"PIZZA D'AMORE\"]), ('19 empire restaurant', ['19 EMPIRE RESTAURANT', 'EMPIRE 19 RESTAURANT']), ('hamburger jimbos', [\"JIMBO'S HAMBURGER\", 'JIMBOS HAMBURGER']), ('cream gs ice ices italian louie uncle', ['UNCLE LOUIE G’S ITALIAN ICES & ICE CREAM', \"UNCLE LOUIE G'S ITALIAN ICES & ICE CREAM\"]), ('wendys', ['WENDYS', \"WENDY'S\"]), ('chicken kennedy sandwiches', ['KENNEDY CHICKEN &SANDWICHES', 'KENNEDY CHICKEN & SANDWICHES']), ('brothers pizza', ['BROTHERS PIZZA', \"BROTHER'S PIZZA\"]), ('empanadas mamas', ['MAMAS EMPANADAS', \"MAMA'S EMPANADAS\"]), ('annes auntie', [\"Auntie Anne's\", 'AUNTIE ANNES']), ('dining downstein hall nyu', ['Downstein Dining Hall @NYU', 'DOWNSTEIN DINING HALL @ NYU'])]\n"
     ]
    },
    {
     "name": "stderr",
     "output_type": "stream",
     "text": [
      "                                                                                \r"
     ]
    }
   ],
   "source": [
    "restaurant_rdd = inspection_df.select('DBA').rdd.flatMap(list)\n",
    "print(restaurant_rdd.take(5))\n",
    "duplicates = restaurant_rdd.distinct(). \\\n",
    "\tmap(fingerprint_lenient). \\\n",
    "\tgroupByKey(). \\\n",
    "\tfilter(lambda x: len(x[1])>1). \\\n",
    "\tmapValues(list). \\\n",
    "\tcollect()\n",
    "\n",
    "print(duplicates)"
   ]
  },
  {
   "cell_type": "code",
   "execution_count": 6,
   "id": "634c3a76",
   "metadata": {},
   "outputs": [
    {
     "name": "stderr",
     "output_type": "stream",
     "text": [
      "                                                                                \r"
     ]
    }
   ],
   "source": [
    "replacements = {}\n",
    "for t in duplicates:\n",
    "    n = len(t[1])\n",
    "    for i in range(1, n):\n",
    "        # mark as a replacement if they have the same cuisine type\n",
    "        df1 = inspection_df.filter((inspection_df['DBA'] == t[1][i]) | (inspection_df['DBA'] == t[1][0]))\n",
    "        if df1.select('CUISINE DESCRIPTION').distinct().count() == 1:\n",
    "            replacements[t[1][i]] = t[1][0]"
   ]
  },
  {
   "cell_type": "code",
   "execution_count": 7,
   "id": "c5019011",
   "metadata": {},
   "outputs": [
    {
     "data": {
      "text/plain": [
       "{'SZECHUAN KITCHEN': 'Szechuan Kitchen',\n",
       " 'JAIYA THAI & ORIENTAL RESTAURANT': 'JAIYA THAI ORIENTAL RESTAURANT',\n",
       " 'GINZA SUSHI': 'SUSHI GINZA',\n",
       " \"FRIEDMAN'S\": 'FRIEDMANS',\n",
       " 'DOMINOS PIZZA': \"DOMINO'S PIZZA\",\n",
       " 'KINGS KITCHEN': \"KING'S KITCHEN\",\n",
       " \"DUNKIN' / BASKIN ROBBINS\": 'DUNKIN , BASKIN ROBBINS',\n",
       " 'DUNKIN, BASKIN ROBBINS': 'DUNKIN , BASKIN ROBBINS',\n",
       " 'DUNKIN / BASKIN ROBBINS': 'DUNKIN , BASKIN ROBBINS',\n",
       " 'DUNKIN & BASKIN ROBBINS': 'DUNKIN , BASKIN ROBBINS',\n",
       " 'DUNKIN - BASKIN ROBBINS': 'DUNKIN , BASKIN ROBBINS',\n",
       " 'BARRYS BOOTCAMP': \"BARRY'S BOOTCAMP\",\n",
       " \"APPLEBEE'S\": 'APPLEBEES',\n",
       " 'HUNGRY BURRITO': 'Hungry Burrito',\n",
       " 'HAAGEN DAZS': 'HAAGEN - DAZS',\n",
       " \"SOPHIE'S CUBAN CUISINE\": 'SOPHIES CUBAN CUISINE',\n",
       " \"LUKE'S LOBSTER\": 'LUKES LOBSTER',\n",
       " 'Kennedy Fried Chicken and Pizza': 'KENNEDY FRIED CHICKEN AND PIZZA',\n",
       " 'MAMOUNS FALAFEL': \"MAMOUN'S FALAFEL\",\n",
       " 'Kentucky Fried Chicken': 'KENTUCKY FRIED CHICKEN',\n",
       " 'FISHERMANS COVE': \"FISHERMAN'S COVE\",\n",
       " 'Roma Pizza': 'ROMA PIZZA',\n",
       " \"NINO'S RESTAURANT\": 'NINOS RESTAURANT',\n",
       " 'ANDREWS COFFEE SHOP': \"ANDREW'S COFFEE SHOP\",\n",
       " 'BON APPETIT': 'Bon Appetit',\n",
       " 'MISTURA PERUANA': 'Mistura Peruana',\n",
       " 'Blank Street Coffee': 'BLANK STREET COFFEE',\n",
       " 'Deep Indian Kitchen': 'DEEP INDIAN KITCHEN',\n",
       " 'NO 1 CHINESE RESTAURANT': 'NO. 1 CHINESE RESTAURANT',\n",
       " \"Gino's Pizza\": \"GINO'S PIZZA\",\n",
       " 'THE STANDARD HIGH LINE': 'THE STANDARD, HIGH LINE',\n",
       " 'Cloud M': 'CLOUD M',\n",
       " \"WHITMAN'S\": 'WHITMANS',\n",
       " 'Starbucks': 'STARBUCKS',\n",
       " 'CARVEL, CINNABON': 'CARVEL CINNABON',\n",
       " 'BELLA PIZZA & RESTAURANT': 'BELLA PIZZA RESTAURANT',\n",
       " \"EMACK & BOLIO'S\": 'EMACK & BOLIOS',\n",
       " 'EMPIRE KITCHEN': 'EMPIRE KITCHEN .',\n",
       " 'LUIGIS PIZZERIA': \"LUIGI'S PIZZERIA\",\n",
       " 'PAPA JOHNS PIZZA': \"PAPA JOHN'S PIZZA\",\n",
       " 'KINGS CHEF': \"KING'S CHEF\",\n",
       " 'LITTLE ROY COFFEE CO.': 'LITTLE ROY COFFEE CO',\n",
       " 'GARDEN MARKET HOT DOG CONCESSION': 'HOT DOG CONCESSION, GARDEN MARKET',\n",
       " 'Burger Queens': 'QUEENS BURGER',\n",
       " \"DAN AND JOHN'S WINGS\": 'DAN AND JOHNS WINGS',\n",
       " 'MR  PIZZA': 'MR. PIZZA',\n",
       " 'PEPPAS JERK CHICKEN': \"PEPPA'S JERK CHICKEN\",\n",
       " '99 CENTS FRESH & HOT PIZZA': 'FRESH 99 CENTS HOT PIZZA',\n",
       " 'BLUE BOTTLE COFFEE': 'Blue Bottle Coffee',\n",
       " 'COFFEE Rx ROASTERS': 'COFFEE RX ROASTERS',\n",
       " 'SUSHI KOI': 'KOI SUSHI',\n",
       " 'OH! DUMPLINGS': 'OH DUMPLINGS',\n",
       " 'RALPHS ICES': \"RALPH'S  ICES\",\n",
       " 'Vegan On The Fly': 'VEGAN ON THE FLY',\n",
       " 'SILVER PALACE': 'Silver Palace',\n",
       " 'Halal Munchies': 'HALAL MUNCHIES',\n",
       " 'THANK YOU, COME AGAIN': 'THANK YOU COME AGAIN',\n",
       " \"MEZCAL'S RESTAURANT\": 'MEZCALS RESTAURANT',\n",
       " 'PAPA JOHNS': \"PAPA JOHN'S\",\n",
       " 'GREGORYS COFFEE': \"GREGORY'S COFFEE\",\n",
       " 'TACO BELL, KFC': 'KFC, TACO BELL',\n",
       " 'Keki Modern Cakes': 'KEKI MODERN CAKES',\n",
       " \"MMM...THAT'S A WRAP\": 'MMM...THATS A WRAP',\n",
       " 'Mint Heights': 'MINT HEIGHTS',\n",
       " 'KINGS WOK': \"KING'S WOK\",\n",
       " 'US KENNEDY FRIED CHICKEN & PIZZA': 'US KENNEDY FRIED CHICKEN PIZZA',\n",
       " 'East Wind Snack Shop': 'EAST WIND SNACK SHOP',\n",
       " \"PATRIZIA'S OF BROOKLYN\": 'PATRIZIAS OF BROOKLYN',\n",
       " \"JUNIOR'S\": 'JUNIORS',\n",
       " 'Poke Bowl': 'POKE BOWL',\n",
       " 'TONYS PIZZERIA': \"TONY'S PIZZERIA\",\n",
       " 'LENNYS PIZZERIA': \"LENNY'S PIZZERIA\",\n",
       " 'METRO CAFE': 'CAFE METRO',\n",
       " 'JAMAICAN FLAVORS': 'Jamaican Flavors',\n",
       " 'ANGELOS PIZZERIA': \"ANGELO'S PIZZERIA\",\n",
       " 'Bed Stuy Fish Fry': 'BED STUY FISH FRY',\n",
       " 'PIZZA PRINCE': 'PRINCE PIZZA',\n",
       " 'JOES PIZZA & PASTA': \"JOE'S PIZZA & PASTA\",\n",
       " 'BAR AT THE GARDEN': 'Bar at the Garden',\n",
       " 'WING-STOP': 'WingStop',\n",
       " 'Wingstop': 'WingStop',\n",
       " 'COOKIE CRUMZ': 'Cookie Crumz',\n",
       " 'S & A PIZZERIA': 'A & S PIZZERIA',\n",
       " 'La Colombe': 'LA COLOMBE',\n",
       " \"JUSTINO'S PIZZERIA\": 'JUSTINOS PIZZERIA',\n",
       " \"MIGHTY QUINN'S BBQ\": \"Mighty Quinn's BBQ\",\n",
       " 'Texas Chicken & Burger': 'TEXAS CHICKEN & BURGER',\n",
       " 'YU SUSHI': 'SUSHI YU',\n",
       " \"E&A'S BAKE N BREW\": 'E&A’S BAKE N BREW',\n",
       " \"CAP'T LOUI\": 'CAPT LOUI',\n",
       " 'QDOBA Mexican Eats': 'QDOBA MEXICAN EATS',\n",
       " 'MIKES PIZZA': \"MIKE'S PIZZA\",\n",
       " 'TACO BELL PIZZA HUT': 'TACO BELL, PIZZA HUT',\n",
       " 'BAKERY MOCANA': 'MOCANA BAKERY',\n",
       " 'Brooklyn Tea': 'BROOKLYN TEA',\n",
       " 'Dominos': 'DOMINOS',\n",
       " \"DOMINO'S\": 'DOMINOS',\n",
       " 'GOOD TASTE RESTAURANT': 'TASTE GOOD RESTAURANT',\n",
       " 'Great Wall': 'GREAT WALL',\n",
       " 'NEW HONG KONG': 'New Hong Kong',\n",
       " \"MENCHIE'S\": 'MENCHIES',\n",
       " 'CHINA KITCHEN': 'China Kitchen',\n",
       " 'Bellini': 'BELLINI',\n",
       " '99 CENTS FRESH PIZZA': 'FRESH PIZZA 99 CENTS',\n",
       " \"PEPPA'S JERK CHICKEN RESTAURANT\": 'PEPPAS JERK CHICKEN RESTAURANT',\n",
       " 'LUCIA PIZZA': 'Lucia Pizza',\n",
       " \"JACK'S COFFEE\": 'JACKS COFFEE',\n",
       " 'FRANKS PIZZA': \"FRANK'S PIZZA\",\n",
       " 'CHENS GARDEN': \"CHEN'S GARDEN\",\n",
       " 'Tamashii Ramen': 'TAMASHII RAMEN',\n",
       " 'NO.1 CHINESE RESTAURANT': 'No.1 CHINESE RESTAURANT',\n",
       " \"DAVE & BUSTER'S\": 'DAVE & BUSTERS',\n",
       " \"Luigi's Pizza\": \"LUIGI'S PIZZA\",\n",
       " 'LUIGIS PIZZA': \"LUIGI'S PIZZA\",\n",
       " 'PIZZA': '& PIZZA',\n",
       " 'Sergimmo Salumeria': 'SERGIMMO SALUMERIA',\n",
       " \"DENINO'S PIZZERIA TAVERN\": \"DENINO'S PIZZERIA & TAVERN\",\n",
       " 'FAIRFIELD INN & SUITES': 'Fairfield Inn & Suites',\n",
       " 'Kennedy Chicken & Burger': 'KENNEDY CHICKEN & BURGER',\n",
       " 'Mi Tea': 'MI TEA',\n",
       " 'Taverna Kyclades': 'TAVERNA KYCLADES',\n",
       " 'MISOYA': 'MISO-YA',\n",
       " 'PLAYWRIGHT CELTIC PUB': 'Playwright Celtic Pub',\n",
       " '$1 SLICE PIZZA': '$1 PIZZA SLICE',\n",
       " \"POPEYE'S LOUISIANA KITCHEN\": 'Popeyes Louisiana Kitchen',\n",
       " 'POPEYES LOUISIANA KITCHEN': 'Popeyes Louisiana Kitchen',\n",
       " 'Taim Mediterranean kitchen': 'Taim Mediterranean Kitchen',\n",
       " 'SOCIAL CORNER': 'CORNER SOCIAL',\n",
       " 'PIZZA BELLA': 'BELLA PIZZA',\n",
       " 'Liberty Bagels': 'LIBERTY BAGELS',\n",
       " \"UNCLE JACK'S STEAKHOUSE\": 'UNCLE JACKS STEAKHOUSE',\n",
       " 'Double Dragon': 'DOUBLE DRAGON',\n",
       " 'PARSONS DINER': \"PARSON'S DINER\",\n",
       " 'La Patrona': 'LA PATRONA',\n",
       " 'New China': 'NEW CHINA',\n",
       " 'MARATHON COFFEE': 'Marathon Coffee',\n",
       " \"EFFY'S CAFE\": 'EFFYS CAFE',\n",
       " \"TGI FRIDAY'S\": \"T.G.I. FRIDAY'S\",\n",
       " \"POPEYE'S\": \"Popeye's\",\n",
       " \"NICK'S PIZZA LOUNGE\": 'NICKS PIZZA LOUNGE',\n",
       " \"PIZZA D'AMORE\": 'PIZZA DAMORE',\n",
       " 'JIMBOS HAMBURGER': \"JIMBO'S HAMBURGER\",\n",
       " \"UNCLE LOUIE G'S ITALIAN ICES & ICE CREAM\": 'UNCLE LOUIE G’S ITALIAN ICES & ICE CREAM',\n",
       " 'KENNEDY CHICKEN & SANDWICHES': 'KENNEDY CHICKEN &SANDWICHES',\n",
       " \"BROTHER'S PIZZA\": 'BROTHERS PIZZA'}"
      ]
     },
     "execution_count": 7,
     "metadata": {},
     "output_type": "execute_result"
    },
    {
     "name": "stderr",
     "output_type": "stream",
     "text": [
      "23/05/04 20:13:32 WARN org.apache.spark.scheduler.cluster.YarnSchedulerBackend$YarnSchedulerEndpoint: Requesting driver to remove executor 2 for reason Container marked as failed: container_e07_1683077339950_1874_01_000009 on host: nyu-dataproc-sw-j7dq.c.hpc-dataproc-19b8.internal. Exit status: -100. Diagnostics: Container released on a *lost* node.\n",
      "23/05/04 20:13:32 ERROR org.apache.spark.scheduler.cluster.YarnScheduler: Lost executor 2 on nyu-dataproc-sw-j7dq.c.hpc-dataproc-19b8.internal: Container marked as failed: container_e07_1683077339950_1874_01_000009 on host: nyu-dataproc-sw-j7dq.c.hpc-dataproc-19b8.internal. Exit status: -100. Diagnostics: Container released on a *lost* node.\n",
      "23/05/04 20:13:32 WARN org.apache.spark.scheduler.cluster.YarnSchedulerBackend$YarnSchedulerEndpoint: Requesting driver to remove executor 1 for reason Container marked as failed: container_e07_1683077339950_1874_01_000004 on host: nyu-dataproc-sw-r7cw.c.hpc-dataproc-19b8.internal. Exit status: -100. Diagnostics: Container released on a *lost* node.\n",
      "23/05/04 20:13:32 ERROR org.apache.spark.scheduler.cluster.YarnScheduler: Lost executor 1 on nyu-dataproc-sw-r7cw.c.hpc-dataproc-19b8.internal: Container marked as failed: container_e07_1683077339950_1874_01_000004 on host: nyu-dataproc-sw-r7cw.c.hpc-dataproc-19b8.internal. Exit status: -100. Diagnostics: Container released on a *lost* node.\n"
     ]
    }
   ],
   "source": [
    "replacements"
   ]
  },
  {
   "cell_type": "code",
   "execution_count": 8,
   "id": "b2c55c3f",
   "metadata": {},
   "outputs": [],
   "source": [
    "inspection_df = inspection_df.replace(replacements, subset = 'DBA')\n"
   ]
  },
  {
   "cell_type": "code",
   "execution_count": 9,
   "id": "1a41f781",
   "metadata": {
    "scrolled": true
   },
   "outputs": [
    {
     "name": "stderr",
     "output_type": "stream",
     "text": [
      "                                                                                \r"
     ]
    },
    {
     "name": "stdout",
     "output_type": "stream",
     "text": [
      "['Pizza', 'Japanese', 'Chinese', 'American', 'Mexican']\n"
     ]
    },
    {
     "name": "stderr",
     "output_type": "stream",
     "text": [
      "[Stage 1531:>                                                       (0 + 8) / 8]\r"
     ]
    },
    {
     "name": "stdout",
     "output_type": "stream",
     "text": [
      "[]\n"
     ]
    },
    {
     "name": "stderr",
     "output_type": "stream",
     "text": [
      "                                                                                \r"
     ]
    }
   ],
   "source": [
    "cuisine_rdd = inspection_df.select('CUISINE DESCRIPTION').rdd.flatMap(list)\n",
    "print(cuisine_rdd.take(5))\n",
    "duplicates = cuisine_rdd.distinct(). \\\n",
    "\tmap(fingerprint). \\\n",
    "\tgroupByKey(). \\\n",
    "\tfilter(lambda x: len(x[1])>1). \\\n",
    "\tmapValues(list). \\\n",
    "\tcollect()\n",
    "\n",
    "print(duplicates)"
   ]
  },
  {
   "cell_type": "code",
   "execution_count": null,
   "id": "416ce0b7",
   "metadata": {},
   "outputs": [],
   "source": [
    "# no replacement required as all cuisines have a different fingerprint key\n"
   ]
  },
  {
   "cell_type": "code",
   "execution_count": 10,
   "id": "e39e8e59",
   "metadata": {},
   "outputs": [
    {
     "name": "stdout",
     "output_type": "stream",
     "text": [
      "['Cycle Inspection / Re-inspection', 'Cycle Inspection / Re-inspection', 'Cycle Inspection / Re-inspection', 'Administrative Miscellaneous / Initial Inspection', 'Administrative Miscellaneous / Re-inspection']\n",
      "[]\n"
     ]
    },
    {
     "name": "stderr",
     "output_type": "stream",
     "text": [
      "23/05/04 20:20:47 WARN org.apache.spark.deploy.yarn.YarnAllocator: Container from a bad node: container_e07_1683077339950_1874_01_000017 on host: nyu-dataproc-sw-rl7z.c.hpc-dataproc-19b8.internal. Exit status: 143. Diagnostics: [2023-05-04 20:25:43.772]Container killed on request. Exit code is 143\n",
      "[2023-05-04 20:25:43.772]Container exited with a non-zero exit code 143. \n",
      "[2023-05-04 20:25:43.773]Killed by external signal\n",
      ".\n",
      "23/05/04 20:20:47 WARN org.apache.spark.scheduler.cluster.YarnSchedulerBackend$YarnSchedulerEndpoint: Requesting driver to remove executor 3 for reason Container from a bad node: container_e07_1683077339950_1874_01_000017 on host: nyu-dataproc-sw-rl7z.c.hpc-dataproc-19b8.internal. Exit status: 143. Diagnostics: [2023-05-04 20:25:43.772]Container killed on request. Exit code is 143\n",
      "[2023-05-04 20:25:43.772]Container exited with a non-zero exit code 143. \n",
      "[2023-05-04 20:25:43.773]Killed by external signal\n",
      ".\n",
      "23/05/04 20:20:47 ERROR org.apache.spark.scheduler.cluster.YarnScheduler: Lost executor 3 on nyu-dataproc-sw-rl7z.c.hpc-dataproc-19b8.internal: Container from a bad node: container_e07_1683077339950_1874_01_000017 on host: nyu-dataproc-sw-rl7z.c.hpc-dataproc-19b8.internal. Exit status: 143. Diagnostics: [2023-05-04 20:25:43.772]Container killed on request. Exit code is 143\n",
      "[2023-05-04 20:25:43.772]Container exited with a non-zero exit code 143. \n",
      "[2023-05-04 20:25:43.773]Killed by external signal\n",
      ".\n"
     ]
    }
   ],
   "source": [
    "it_rdd = inspection_df.select('INSPECTION TYPE').rdd.flatMap(list)\n",
    "print(it_rdd.take(5))\n",
    "duplicates = it_rdd.distinct(). \\\n",
    "\tmap(fingerprint). \\\n",
    "\tgroupByKey(). \\\n",
    "\tfilter(lambda x: len(x[1])>1). \\\n",
    "\tmapValues(list). \\\n",
    "\tcollect()\n",
    "\n",
    "print(duplicates)"
   ]
  },
  {
   "cell_type": "code",
   "execution_count": null,
   "id": "0b9e7f09",
   "metadata": {},
   "outputs": [],
   "source": [
    "# no replacements required as all inspection types have different fingerprint key"
   ]
  },
  {
   "cell_type": "markdown",
   "id": "50dd4d41",
   "metadata": {},
   "source": [
    "Write the final clean data to csv"
   ]
  },
  {
   "cell_type": "code",
   "execution_count": 12,
   "id": "b2d4e8bd",
   "metadata": {},
   "outputs": [
    {
     "name": "stderr",
     "output_type": "stream",
     "text": [
      "23/05/04 20:53:05 WARN org.apache.spark.deploy.yarn.YarnAllocator: Container from a bad node: container_e07_1683077339950_1874_01_000039 on host: nyu-dataproc-sw-w3n1.c.hpc-dataproc-19b8.internal. Exit status: 143. Diagnostics: [2023-05-04 20:58:01.578]Container killed on request. Exit code is 143\n",
      "[2023-05-04 20:58:01.579]Container exited with a non-zero exit code 143. \n",
      "[2023-05-04 20:58:01.579]Killed by external signal\n",
      ".\n",
      "23/05/04 20:53:05 WARN org.apache.spark.scheduler.cluster.YarnSchedulerBackend$YarnSchedulerEndpoint: Requesting driver to remove executor 6 for reason Container from a bad node: container_e07_1683077339950_1874_01_000039 on host: nyu-dataproc-sw-w3n1.c.hpc-dataproc-19b8.internal. Exit status: 143. Diagnostics: [2023-05-04 20:58:01.578]Container killed on request. Exit code is 143\n",
      "[2023-05-04 20:58:01.579]Container exited with a non-zero exit code 143. \n",
      "[2023-05-04 20:58:01.579]Killed by external signal\n",
      ".\n",
      "23/05/04 20:53:05 ERROR org.apache.spark.scheduler.cluster.YarnScheduler: Lost executor 6 on nyu-dataproc-sw-w3n1.c.hpc-dataproc-19b8.internal: Container from a bad node: container_e07_1683077339950_1874_01_000039 on host: nyu-dataproc-sw-w3n1.c.hpc-dataproc-19b8.internal. Exit status: 143. Diagnostics: [2023-05-04 20:58:01.578]Container killed on request. Exit code is 143\n",
      "[2023-05-04 20:58:01.579]Container exited with a non-zero exit code 143. \n",
      "[2023-05-04 20:58:01.579]Killed by external signal\n",
      ".\n"
     ]
    }
   ],
   "source": [
    "# Write the DataFrame to a CSV file\n",
    "inspection_df.write.format('csv').option('header', True).mode('overwrite').save('DOHMH_New_York_City_Restaurant_Inspection_Results_cleaned_final.csv')\n"
   ]
  },
  {
   "cell_type": "markdown",
   "id": "e61be09e",
   "metadata": {},
   "source": [
    "# START HERE: READ IN FINAL CLEANED DATA "
   ]
  },
  {
   "cell_type": "code",
   "execution_count": 1,
   "id": "93a71fe8",
   "metadata": {},
   "outputs": [
    {
     "name": "stderr",
     "output_type": "stream",
     "text": [
      "Setting default log level to \"WARN\".\n",
      "To adjust logging level use sc.setLogLevel(newLevel). For SparkR, use setLogLevel(newLevel).\n",
      "23/05/09 05:17:04 INFO org.apache.spark.SparkEnv: Registering MapOutputTracker\n",
      "23/05/09 05:17:04 INFO org.apache.spark.SparkEnv: Registering BlockManagerMaster\n",
      "23/05/09 05:17:05 INFO org.apache.spark.SparkEnv: Registering BlockManagerMasterHeartbeat\n",
      "23/05/09 05:17:05 INFO org.apache.spark.SparkEnv: Registering OutputCommitCoordinator\n"
     ]
    }
   ],
   "source": [
    "#start spark session if you havent yet\n",
    "from pyspark import SparkContext, SparkConf\n",
    "cf = SparkConf()\n",
    "cf.set(\"spark.submit.deployMode\",\"client\")\n",
    "sc = SparkContext.getOrCreate(cf)\n",
    "from pyspark.sql import SparkSession\n",
    "spark = SparkSession \\\n",
    "        .builder \\\n",
    "        .appName(\"Python Spark SQL basic example\") \\\n",
    "        .config(\"spark.some.config.option\", \"some-value\") \\\n",
    "        .getOrCreate()"
   ]
  },
  {
   "cell_type": "markdown",
   "id": "67e91ae9",
   "metadata": {},
   "source": [
    "Import libraries that will be needed through the EDA."
   ]
  },
  {
   "cell_type": "code",
   "execution_count": 2,
   "id": "42eccb64",
   "metadata": {},
   "outputs": [],
   "source": [
    "import numpy as np\n",
    "import matplotlib.pyplot as plt\n",
    "import math\n",
    "\n",
    "import string, unicodedata\n",
    "from pyspark.sql import functions as F\n",
    "from pyspark.sql.functions import col, countDistinct, avg, year, to_date, when, count, lag\n",
    "from pyspark.sql.window import Window\n"
   ]
  },
  {
   "cell_type": "markdown",
   "id": "9c711a63",
   "metadata": {},
   "source": [
    "Read in the final clean data into a spark data frame"
   ]
  },
  {
   "cell_type": "code",
   "execution_count": 3,
   "id": "60e5a3eb",
   "metadata": {},
   "outputs": [
    {
     "name": "stderr",
     "output_type": "stream",
     "text": [
      "                                                                                \r"
     ]
    },
    {
     "name": "stdout",
     "output_type": "stream",
     "text": [
      "+--------+-----------+--------+-------+----------+-------------------+---------------+--------------------+--------------+---------------------+-------------+-----+--------------------+---------------+----------------+-------+----------+---------------+\n",
      "|   CAMIS|        DBA|    BORO|ZIPCODE|     PHONE|CUISINE DESCRIPTION|INSPECTION DATE|              ACTION|VIOLATION CODE|VIOLATION DESCRIPTION|CRITICAL FLAG|SCORE|     INSPECTION TYPE|       Latitude|       Longitude|    BIN|       BBL|INSPECTION YEAR|\n",
      "+--------+-----------+--------+-------+----------+-------------------+---------------+--------------------+--------------+---------------------+-------------+-----+--------------------+---------------+----------------+-------+----------+---------------+\n",
      "|41283963|PAPA JOHN'S|Brooklyn|  11220|7189217272|              Pizza|     2022-01-26|Violations were c...|           04L| Evidence of mice ...|     Critical|   13|Cycle Inspection ...|40.640525637746|-74.015090336292|3397962|3008550037|           2022|\n",
      "+--------+-----------+--------+-------+----------+-------------------+---------------+--------------------+--------------+---------------------+-------------+-----+--------------------+---------------+----------------+-------+----------+---------------+\n",
      "only showing top 1 row\n",
      "\n"
     ]
    }
   ],
   "source": [
    "\n",
    "data_path = '/user/mz3327_nyu_edu/DOHMH_New_York_City_Restaurant_Inspection_Results_cleaned_final.csv'\n",
    "\n",
    "inspection_df = spark.read.csv(path=data_path, header=True, inferSchema = True)\n",
    "\n",
    "inspection_df.show(1)"
   ]
  },
  {
   "cell_type": "markdown",
   "id": "2e23afc5",
   "metadata": {},
   "source": [
    "Create a temp view of the Inspections DF to run sql queries "
   ]
  },
  {
   "cell_type": "code",
   "execution_count": 4,
   "id": "3f1f71d9",
   "metadata": {},
   "outputs": [
    {
     "name": "stdout",
     "output_type": "stream",
     "text": [
      "+--------+--------------+---------+-------+----------+-------------------+---------------+--------------------+--------------+---------------------+-------------+-----+--------------------+---------------+----------------+-------+----------+---------------+\n",
      "|   CAMIS|           DBA|     BORO|ZIPCODE|     PHONE|CUISINE DESCRIPTION|INSPECTION DATE|              ACTION|VIOLATION CODE|VIOLATION DESCRIPTION|CRITICAL FLAG|SCORE|     INSPECTION TYPE|       Latitude|       Longitude|    BIN|       BBL|INSPECTION YEAR|\n",
      "+--------+--------------+---------+-------+----------+-------------------+---------------+--------------------+--------------+---------------------+-------------+-----+--------------------+---------------+----------------+-------+----------+---------------+\n",
      "|41530103|BANGKOK 2 THAI|Manhattan|  10010|2124734480|               Thai|     2022-01-25|Violations were c...|           10H| Proper sanitizati...| Not Critical|   11|Cycle Inspection ...|40.735134430091|-73.979666846386|1020540|1009260035|           2022|\n",
      "+--------+--------------+---------+-------+----------+-------------------+---------------+--------------------+--------------+---------------------+-------------+-----+--------------------+---------------+----------------+-------+----------+---------------+\n",
      "\n"
     ]
    }
   ],
   "source": [
    "inspection_df.createOrReplaceTempView(\"inspections\")\n",
    "\n",
    "spark.sql(\"\"\"SELECT *\n",
    "FROM inspections\n",
    "LIMIT 1;\"\"\"  ).show()\n"
   ]
  },
  {
   "cell_type": "markdown",
   "id": "686f6b25",
   "metadata": {},
   "source": [
    "Lets start the Exploratory Data Analsysis by finding the number of total inspections per year."
   ]
  },
  {
   "cell_type": "code",
   "execution_count": 5,
   "id": "0b915a47",
   "metadata": {},
   "outputs": [
    {
     "name": "stderr",
     "output_type": "stream",
     "text": [
      "                                                                                \r"
     ]
    },
    {
     "name": "stdout",
     "output_type": "stream",
     "text": [
      "[3771, 29828, 16034, 21439, 91126, 31864]\n"
     ]
    },
    {
     "data": {
      "image/png": "[encoded data removed]",
      "text/plain": [
       "<Figure size 720x576 with 1 Axes>"
      ]
     },
     "metadata": {
      "needs_background": "light"
     },
     "output_type": "display_data"
    }
   ],
   "source": [
    "\n",
    "count_of_inspections_per_year = []\n",
    "\n",
    "\n",
    "results_dir = 'InspectionDataResults/'\n",
    "\n",
    "for year in range(2018, 2024):\n",
    "    inspections = spark.sql(f\"\"\"\n",
    "        SELECT count(*) as num\n",
    "        FROM inspections\n",
    "        WHERE `INSPECTION YEAR` = '{year}'\n",
    "    \"\"\")\n",
    "    count_of_inspections_per_year.append(inspections.select('num').collect()[0]['num'])\n",
    "print(count_of_inspections_per_year)\n",
    "# plot the number of new restaurants\n",
    "\n",
    "plt.figure(figsize=(10,8))\n",
    "\n",
    "plt.plot(range(2018, 2024), count_of_inspections_per_year)\n",
    "plt.title('Number of Inspections Per Year', fontsize = 25)\n",
    "plt.xlabel('Year',fontsize = 20)\n",
    "plt.ylabel('Inspections',fontsize = 20)\n",
    "\n",
    "file_name = \"count_of_inspections_per_year.png\"\n",
    "\n",
    "plt.savefig(results_dir + file_name)\n",
    "\n",
    "plt.show()\n",
    "\n",
    "\n"
   ]
  },
  {
   "cell_type": "markdown",
   "id": "dc412d20",
   "metadata": {},
   "source": [
    "Clearly there was huge increase in number of total recorded inspections in 2022 when all restarurants were reopened as compared to 2019 before the pandemic. Now lets find number of unique restaurants that were inspected for all years greater than 2017."
   ]
  },
  {
   "cell_type": "code",
   "execution_count": 6,
   "id": "0450e418",
   "metadata": {},
   "outputs": [
    {
     "data": {
      "image/png": "[encoded data removed]",
      "text/plain": [
       "<Figure size 720x576 with 1 Axes>"
      ]
     },
     "metadata": {
      "needs_background": "light"
     },
     "output_type": "display_data"
    }
   ],
   "source": [
    "\n",
    "unique_restaurants = []\n",
    "for year in range(2018, 2024):\n",
    "    restaurants_year = spark.sql(f\"\"\"\n",
    "        SELECT distinct(CAMIS)\n",
    "        FROM inspections\n",
    "        WHERE `INSPECTION YEAR` = '{year}'\n",
    "    \"\"\")\n",
    "    if year == 2018:\n",
    "        unique_restaurants.append(restaurants_year.count())\n",
    "    else:\n",
    "        restaurants_prev_year = spark.sql(f\"\"\"\n",
    "            SELECT distinct(CAMIS)\n",
    "            FROM inspections\n",
    "            WHERE `INSPECTION YEAR` = '{year-1}'\n",
    "        \"\"\")\n",
    "        unique_restaurants.append(restaurants_year.subtract(restaurants_prev_year).count())\n",
    "\n",
    "# plot the number of new restaurants\n",
    "\n",
    "plt.figure(figsize=(10,8))\n",
    "\n",
    "plt.plot(range(2018, 2024), unique_restaurants)\n",
    "plt.title('Number Of Unique Restaurants Per Year',fontsize = 25)\n",
    "plt.xlabel('Year',fontsize = 20)\n",
    "plt.ylabel('Restaurants',fontsize = 20)\n",
    "\n",
    "file_name = \"unique_restaurants_per_year.png\"\n",
    "plt.savefig(results_dir + file_name)\n",
    "\n",
    "plt.show()\n"
   ]
  },
  {
   "cell_type": "markdown",
   "id": "19ac9185",
   "metadata": {},
   "source": [
    "The two graphs indicate that after  many new restaruants were being inspected after covid, increasing the total count for inspections. Now lets find the the number of total inspections by cuisine description for the years 2019 and 2022. As these two years have the best data to compare before and after the pandemic and see if there are any differences. "
   ]
  },
  {
   "cell_type": "code",
   "execution_count": 7,
   "id": "33dc19d6",
   "metadata": {},
   "outputs": [
    {
     "data": {
      "image/png": "[encoded data removed]",
      "text/plain": [
       "<Figure size 1080x720 with 1 Axes>"
      ]
     },
     "metadata": {
      "needs_background": "light"
     },
     "output_type": "display_data"
    }
   ],
   "source": [
    "\n",
    "inspections_2019 = spark.sql(\"\"\"\n",
    "    SELECT `CUISINE DESCRIPTION`, COUNT(*) as count\n",
    "    FROM inspections\n",
    "    WHERE `INSPECTION YEAR` = 2019\n",
    "    GROUP BY `CUISINE DESCRIPTION`\n",
    "    ORDER BY count DESC\n",
    "    limit 5\n",
    "\"\"\")\n",
    "inspections_2019_pd = inspections_2019.toPandas()\n",
    "\n",
    "inspections_2022 = spark.sql(\"\"\"\n",
    "    SELECT `CUISINE DESCRIPTION`, COUNT(*) as count\n",
    "    FROM inspections\n",
    "    WHERE `INSPECTION YEAR` = 2022\n",
    "    GROUP BY `CUISINE DESCRIPTION`\n",
    "    ORDER BY count DESC\n",
    "    limit 5\n",
    "\"\"\")\n",
    "inspections_2022_pd = inspections_2022.toPandas()\n",
    "\n",
    "# get the set of all cuisine descriptions for both years\n",
    "cuisines_2019 = set(inspections_2019_pd['CUISINE DESCRIPTION'])\n",
    "cuisines_2022 = set(inspections_2022_pd['CUISINE DESCRIPTION'])\n",
    "all_cuisines = sorted(cuisines_2019.union(cuisines_2022))\n",
    "\n",
    "# get the counts for each cuisine for both years\n",
    "counts_2019 = [inspections_2019_pd[inspections_2019_pd['CUISINE DESCRIPTION'] == cuisine]['count'].iloc[0] if cuisine in cuisines_2019 else 0 for cuisine in all_cuisines]\n",
    "counts_2022 = [inspections_2022_pd[inspections_2022_pd['CUISINE DESCRIPTION'] == cuisine]['count'].iloc[0] if cuisine in cuisines_2022 else 0 for cuisine in all_cuisines]\n",
    "\n",
    "# plot the number of inspections for all cuisines in 2019 and 2022\n",
    "\n",
    "fig, ax = plt.subplots(figsize=(15, 10))\n",
    "width = 0.35\n",
    "x = np.arange(len(all_cuisines))\n",
    "ax.bar(x, counts_2019, width=width, label='2019')\n",
    "ax.bar(x + width, counts_2022, width=width, label='2022')\n",
    "ax.set_xticks(x + width / 2)\n",
    "ax.set_xticklabels(all_cuisines, rotation=45, ha='right')\n",
    "ax.set_xlabel('Cuisine Description',fontsize = 20)\n",
    "ax.set_ylabel('Inspections',fontsize = 20)\n",
    "ax.set_title('Number of Inspections By Cuisine Type',fontsize = 40)\n",
    "ax.legend(fontsize=\"20\")\n",
    "plt.tight_layout()\n",
    "\n",
    "file_name = \"Number_of_Inspections_By_Cuisine_Type.png\"\n",
    "plt.savefig(results_dir + file_name)\n",
    "plt.show()\n"
   ]
  },
  {
   "cell_type": "markdown",
   "id": "33d8fbda",
   "metadata": {},
   "source": [
    "The grapgh above indicates we have some new cuisine types with overall more inspectoins in 2022 such as coffee/Tea and Mexican. Lets normalize the findings above and see the which have more inspections per number of restaurants for each of those years."
   ]
  },
  {
   "cell_type": "code",
   "execution_count": 8,
   "id": "08ef35c5",
   "metadata": {},
   "outputs": [
    {
     "name": "stdout",
     "output_type": "stream",
     "text": [
      "Coffee/Tea: 17.03% increase from 2019 to 2022\n",
      "Chinese: 9.47% increase from 2019 to 2022\n",
      "Pizza: 7.41% increase from 2019 to 2022\n",
      "American: 3.66% increase from 2019 to 2022\n",
      "Mexican: -5.91% increase from 2019 to 2022\n",
      "Latin American: -6.64% increase from 2019 to 2022\n",
      "Italian: -16.11% increase from 2019 to 2022\n"
     ]
    }
   ],
   "source": [
    "from pyspark.sql.functions import col, year\n",
    "\n",
    "# create an empty dictionary to hold the results\n",
    "results = {}\n",
    "cuisines = [\"American\", \"Chinese\", \"Coffee/Tea\", \"Italian\", \"Latin American\", \"Mexican\", \"Pizza\"]\n",
    "\n",
    "# loop through all unique cuisine types in the dataset\n",
    "for cuisine in cuisines:\n",
    "    # count the number of inspections for the current cuisine type in 2019 and 2022\n",
    "    count_2019 = inspection_df.filter((col(\"CUISINE DESCRIPTION\") == cuisine) & (year(col(\"INSPECTION DATE\")) == 2019)).count()\n",
    "    count_2022 = inspection_df.filter((col(\"CUISINE DESCRIPTION\") == cuisine) & (year(col(\"INSPECTION DATE\")) == 2022)).count()\n",
    "\n",
    "    # count the number of unique restaurants for the current cuisine type in 2019 and 2022\n",
    "    unique_restaurants_2019 = inspection_df.filter((col(\"CUISINE DESCRIPTION\") == cuisine) & (year(col(\"INSPECTION DATE\")) == 2019)).agg(countDistinct('CAMIS')).collect()[0][0]\n",
    "    unique_restaurants_2022 = inspection_df.filter((col(\"CUISINE DESCRIPTION\") == cuisine) & (year(col(\"INSPECTION DATE\")) == 2022)).agg(countDistinct('CAMIS')).collect()[0][0]\n",
    "\n",
    "    # calculate the inspections per restaurant for the current cuisine type in 2019 and 2022\n",
    "    inspections_per_restaurant_2019 = count_2019 / unique_restaurants_2019 if unique_restaurants_2019 != 0 else 0\n",
    "    inspections_per_restaurant_2022 = count_2022 / unique_restaurants_2022 if unique_restaurants_2022 != 0 else 0\n",
    "\n",
    "    # calculate the percentage increase from 2019 to 2022\n",
    "    if inspections_per_restaurant_2019 != 0:\n",
    "        pct_increase = (inspections_per_restaurant_2022 - inspections_per_restaurant_2019) / inspections_per_restaurant_2019 * 100\n",
    "\n",
    "        # add the result to the dictionary\n",
    "        results[cuisine] = pct_increase\n",
    "\n",
    "# print the results\n",
    "for cuisine, pct_increase in sorted(results.items(), key=lambda x: x[1], reverse=True):\n",
    "    print(f\"{cuisine}: {pct_increase:.2f}% increase from 2019 to 2022\")\n"
   ]
  },
  {
   "cell_type": "markdown",
   "id": "98e64ee9",
   "metadata": {},
   "source": [
    "Based on the findings above we can see that Coffee/tea and Chinese had the highest increase in inpections per prestaurant count from 2019 to 2022. Lets take a closer look at those two. "
   ]
  },
  {
   "cell_type": "markdown",
   "id": "50eef76c",
   "metadata": {},
   "source": [
    " "
   ]
  },
  {
   "cell_type": "markdown",
   "id": "d4cbaf27",
   "metadata": {},
   "source": [
    "First I want to see if people working from home affected the number of unique coffee restaurants once the pandamic started. Lets see the change in unique restaurants between coffee and all other cuisine types."
   ]
  },
  {
   "cell_type": "code",
   "execution_count": 9,
   "id": "3e871888",
   "metadata": {},
   "outputs": [
    {
     "name": "stdout",
     "output_type": "stream",
     "text": [
      "   count  year  percent_change\n",
      "0     25  2018             NaN\n",
      "1    407  2019       15.280000\n",
      "2    258  2020       -0.366093\n",
      "3    561  2021        1.174419\n",
      "4   1546  2022        1.755793\n"
     ]
    }
   ],
   "source": [
    "unique_coffee_shops = spark.sql(\"\"\" \n",
    "SELECT COUNT(DISTINCT CAMIS) AS count, YEAR(`INSPECTION DATE`) AS year\n",
    "FROM inspections\n",
    "WHERE `CUISINE DESCRIPTION` = 'Coffee/Tea' AND YEAR(`INSPECTION DATE`) BETWEEN 2018 AND 2022\n",
    "GROUP BY YEAR(`INSPECTION DATE`)\n",
    "ORDER BY year ASC\n",
    "\n",
    "\"\"\")\n",
    "\n",
    "# convert the Spark DataFrame to a Pandas DataFrame\n",
    "unique_coffee_shops_pd = unique_coffee_shops.toPandas()\n",
    "\n",
    "# calculate the percentage change between consecutive years\n",
    "percent_change = unique_coffee_shops_pd['count'].pct_change()\n",
    "\n",
    "# add the percentage change as a new column to the DataFrame\n",
    "unique_coffee_shops_pd['percent_change'] = percent_change\n",
    "\n",
    "# print the resulting DataFrame\n",
    "print(unique_coffee_shops_pd)\n"
   ]
  },
  {
   "cell_type": "code",
   "execution_count": 10,
   "id": "bdc94612",
   "metadata": {},
   "outputs": [
    {
     "name": "stdout",
     "output_type": "stream",
     "text": [
      "   count  year  percent_change\n",
      "0    904  2018             NaN\n",
      "1   6330  2019        6.002212\n",
      "2   4535  2020       -0.283570\n",
      "3   5211  2021        0.149063\n",
      "4  18325  2022        2.516600\n"
     ]
    }
   ],
   "source": [
    "unique_not_coffee_shops = spark.sql(\"\"\" \n",
    "SELECT COUNT(DISTINCT CAMIS) AS count, YEAR(`INSPECTION DATE`) AS year\n",
    "FROM inspections\n",
    "WHERE `CUISINE DESCRIPTION` != 'Coffee/Tea' AND YEAR(`INSPECTION DATE`) BETWEEN 2018 AND 2022\n",
    "GROUP BY YEAR(`INSPECTION DATE`)\n",
    "ORDER BY year ASC\n",
    "\n",
    "\"\"\")\n",
    "\n",
    "# convert the Spark DataFrame to a Pandas DataFrame\n",
    "unique_not_coffee_shops_pd = unique_not_coffee_shops.toPandas()\n",
    "\n",
    "# calculate the percentage change between consecutive years\n",
    "percent_change = unique_not_coffee_shops_pd['count'].pct_change()\n",
    "\n",
    "# add the percentage change as a new column to the DataFrame\n",
    "unique_not_coffee_shops_pd['percent_change'] = percent_change\n",
    "\n",
    "# print the resulting DataFrame\n",
    "print(unique_not_coffee_shops_pd)\n"
   ]
  },
  {
   "cell_type": "code",
   "execution_count": 11,
   "id": "da689463",
   "metadata": {},
   "outputs": [
    {
     "data": {
      "image/png": "[encoded data removed]",
      "text/plain": [
       "<Figure size 1440x720 with 1 Axes>"
      ]
     },
     "metadata": {
      "needs_background": "light"
     },
     "output_type": "display_data"
    }
   ],
   "source": [
    "# plot the percent change for unique coffee shops and non-coffee shops\n",
    "fig, ax = plt.subplots(figsize=(20, 10))\n",
    "ax.plot(unique_coffee_shops_pd['year'].to_numpy(), unique_coffee_shops_pd['percent_change'].to_numpy(), label='Coffee/Tea')\n",
    "ax.plot(unique_not_coffee_shops_pd['year'].to_numpy(), unique_not_coffee_shops_pd['percent_change'].to_numpy(), label='Not Coffee/Tea')\n",
    "ax.set_xticks(range(2019, 2023))\n",
    "ax.set_xlabel('Year', fontsize = 20)\n",
    "ax.set_ylabel('Percent Change', fontsize = 20)\n",
    "ax.set_title('YoY change For Number of Unique Coffee Shops vs Other Restaurant Types', fontsize =20)\n",
    "ax.legend(fontsize=\"20\")\n",
    "\n",
    "file_name = \"percent_change_for_unique_coffee_shops.png\"\n",
    "plt.savefig(results_dir + file_name)\n",
    "\n",
    "plt.show()\n"
   ]
  },
  {
   "cell_type": "markdown",
   "id": "ac9bce51",
   "metadata": {},
   "source": [
    "Based on our findings we can see that the number of unique Coffee/Tea restaurants decreased by 36% from 2019 to 2022 as compared to all other cuisine types which decreased by 28%. Further the increase from 2021 to 2022 was far fewer compared to other cuisine types."
   ]
  },
  {
   "cell_type": "markdown",
   "id": "40453975",
   "metadata": {},
   "source": [
    " "
   ]
  },
  {
   "cell_type": "markdown",
   "id": "eef00f65",
   "metadata": {},
   "source": [
    " "
   ]
  },
  {
   "cell_type": "markdown",
   "id": "5f2a1547",
   "metadata": {},
   "source": [
    "Now lets take a look at chinese restauarants and compare the inspections to see if the pandameic caused the inspections on chinese restaurants to increease. "
   ]
  },
  {
   "cell_type": "markdown",
   "id": "bbba01f2",
   "metadata": {},
   "source": [
    "Lets find the increase of inspection of chinese and asian restaruants from 2019 to 2022 comprared to american and all other cuisine types. "
   ]
  },
  {
   "cell_type": "code",
   "execution_count": 12,
   "id": "bf85078d",
   "metadata": {},
   "outputs": [
    {
     "name": "stdout",
     "output_type": "stream",
     "text": [
      "Percentage increase for Asian/Asian Fusion and Chinese cuisine types: 232.79%\n",
      "Percentage increase for American cuisine types: 140.44%\n",
      "Percentage increase for all other cuisine types: 202.07%\n"
     ]
    }
   ],
   "source": [
    "from pyspark.sql.functions import col, year\n",
    "\n",
    "# Count the number of inspections for Asian/Asian Fusion and Chinese cuisine types in 2019 and 2022\n",
    "asian_chinese_counts_2019 = inspection_df.filter((col(\"CUISINE DESCRIPTION\").isin(['Asian/Asian Fusion', 'Chinese'])) & (year(col(\"INSPECTION DATE\")) == 2019)).count()\n",
    "asian_chinese_counts_2022 = inspection_df.filter((col(\"CUISINE DESCRIPTION\").isin(['Asian/Asian Fusion', 'Chinese'])) & (year(col(\"INSPECTION DATE\")) == 2022)).count()\n",
    "# Calculate the percentage increase for Asian/Asian Fusion and Chinese cuisine types\n",
    "asian_chinese_pct_increase = (asian_chinese_counts_2022 - asian_chinese_counts_2019) / asian_chinese_counts_2019 * 100\n",
    "\n",
    "\n",
    "\n",
    "# Count the number of inspections for American cuisine types in 2019 and 2022\n",
    "american_counts_2019 = inspection_df.filter((col(\"CUISINE DESCRIPTION\") == \"American\") & (year(col(\"INSPECTION DATE\")) == 2019)).count()\n",
    "american_counts_2022 = inspection_df.filter((col(\"CUISINE DESCRIPTION\") == \"American\") & (year(col(\"INSPECTION DATE\")) == 2022)).count()\n",
    "# Calculate the percentage increase for American cuisine types\n",
    "american_pct_increase = (american_counts_2022 - american_counts_2019) / american_counts_2019 * 100\n",
    "\n",
    "\n",
    "# Count the number of inspections for all other cuisine types in 2019 and 2022\n",
    "other_cuisine_counts_2019 = inspection_df.filter(~col(\"CUISINE DESCRIPTION\").isin(['Asian/Asian Fusion', 'Chinese']) & (year(col(\"INSPECTION DATE\")) == 2019)).count()\n",
    "other_cuisine_counts_2022 = inspection_df.filter(~col(\"CUISINE DESCRIPTION\").isin(['Asian/Asian Fusion', 'Chinese']) & (year(col(\"INSPECTION DATE\")) == 2022)).count()\n",
    "# Calculate the percentage increase for all other cuisine types\n",
    "other_cuisine_pct_increase = (other_cuisine_counts_2022 - other_cuisine_counts_2019) / other_cuisine_counts_2019 * 100\n",
    "\n",
    "# Print the results\n",
    "print(f\"Percentage increase for Asian/Asian Fusion and Chinese cuisine types: {asian_chinese_pct_increase:.2f}%\")\n",
    "print(f\"Percentage increase for American cuisine types: {american_pct_increase:.2f}%\")\n",
    "print(f\"Percentage increase for all other cuisine types: {other_cuisine_pct_increase:.2f}%\")\n"
   ]
  },
  {
   "cell_type": "markdown",
   "id": "e0ec3d9a",
   "metadata": {},
   "source": [
    "Display the findings on a graph"
   ]
  },
  {
   "cell_type": "code",
   "execution_count": 13,
   "id": "2ed121c8",
   "metadata": {},
   "outputs": [
    {
     "data": {
      "image/png": "[encoded data removed]",
      "text/plain": [
       "<Figure size 720x432 with 1 Axes>"
      ]
     },
     "metadata": {
      "needs_background": "light"
     },
     "output_type": "display_data"
    }
   ],
   "source": [
    "\n",
    "# Define the data\n",
    "cuisine_types = ['Asian/Chinese', 'Other','American']\n",
    "pct_increases = [asian_chinese_pct_increase, other_cuisine_pct_increase,american_pct_increase ,]\n",
    "\n",
    "plt.figure(figsize=(10,6))\n",
    "plt.bar(cuisine_types, pct_increases)\n",
    "\n",
    "plt.xlabel('Cuisine Types', fontsize = 20)\n",
    "plt.ylabel('Percentage Increase',fontsize = 20)\n",
    "plt.title('Percentage Increase in Inspections by Cuisine Type (2019 to 2022)', fontsize = 20)\n",
    "\n",
    "\n",
    "file_name = \"Percentage_Increase_in_Inspections_by_Cuisine_Type.png\"\n",
    "plt.savefig(results_dir + file_name)\n",
    "\n",
    "plt.show()\n"
   ]
  },
  {
   "cell_type": "markdown",
   "id": "c71c7979",
   "metadata": {},
   "source": [
    "The Graph above clearly shows that Chinese restaurants has a high increase in inspections from 2019 to 2022 compared to the average inccrease amongst all restaurants and particulary American restaurants."
   ]
  },
  {
   "cell_type": "code",
   "execution_count": null,
   "id": "b7d59dee",
   "metadata": {},
   "outputs": [],
   "source": []
  },
  {
   "cell_type": "markdown",
   "id": "5656cecf",
   "metadata": {},
   "source": [
    "Now lets see if new violation types were introduced after the pandamic. "
   ]
  },
  {
   "cell_type": "code",
   "execution_count": 14,
   "id": "17070c7d",
   "metadata": {},
   "outputs": [
    {
     "name": "stderr",
     "output_type": "stream",
     "text": [
      "                                                                                \r"
     ]
    },
    {
     "name": "stdout",
     "output_type": "stream",
     "text": [
      "+--------------+-----+\n",
      "|VIOLATION CODE|count|\n",
      "+--------------+-----+\n",
      "|         20-04|  550|\n",
      "|         20-06|  460|\n",
      "|           09E|  331|\n",
      "|         20-01|  290|\n",
      "|         28-06|  256|\n",
      "|         20-08|  190|\n",
      "|         19-10|  133|\n",
      "|         19-06|  123|\n",
      "|         28-01|  117|\n",
      "|         16-02|  111|\n",
      "+--------------+-----+\n",
      "only showing top 10 rows\n",
      "\n"
     ]
    }
   ],
   "source": [
    "# get set of violation codes for inspections before 2020\n",
    "before_2020_violations = inspection_df.filter(year(col(\"INSPECTION DATE\")) < 2020) \\\n",
    "    .select(\"VIOLATION CODE\").distinct()\n",
    "\n",
    "# get set of violation codes for inspections in 2020 and after\n",
    "after_2020_violations = inspection_df.filter(year(col(\"INSPECTION DATE\")) >= 2020) \\\n",
    "    .select(\"VIOLATION CODE\").distinct()\n",
    "\n",
    "# get set difference of violation codes between 2020 and after and before 2020\n",
    "new_violations = after_2020_violations.subtract(before_2020_violations)\n",
    "\n",
    "new_violations_list = (new_violations.select('VIOLATION CODE').\n",
    "      rdd.flatMap(lambda x: x).collect())\n",
    "\n",
    "\n",
    "new_violations_count = inspection_df.filter(col(\"VIOLATION CODE\").isin(new_violations_list)) \\\n",
    "    .groupBy(\"VIOLATION CODE\").count() \\\n",
    "    .orderBy(col(\"count\").desc())\n",
    "\n",
    "new_violations_count.show(10)\n",
    "\n"
   ]
  },
  {
   "cell_type": "markdown",
   "id": "15448809",
   "metadata": {},
   "source": [
    "After reading the description of the codes above on https://www.nyc.gov/assets/doh/downloads/pdf/about/healthcode/health-code-chapter23.pdf we can conclude that there were a lot more different violations that were previously not given by inspectors indicating that inspections could have got more strict.\n",
    "\n",
    "20-04 -Alcohol use during pregnancy sign not posted*** \n",
    "20-06 -Grade card not posted after reopening when FSE ordered closed by BFSCS\n",
    "09E - Wash hands sign not posted\n",
    "20-01-Allergy poster not posted or not in correct location\n",
    "28-06-Contract with pest management professional, record of pest exterminations, activities not kept on premises\n",
    "20-08-Failure to post or conspicuously post healthyeating information***\n",
    "19-10- Failure to display required signage about plastic straw availability\n",
    "19-06- Providing single-use, non-compostable plastic straws to customers without customer request \n",
    "28-01- Insufficient heat in commercial premises\n",
    "16-02-Nutritional fact labels and/or ingredient label is not maintained on site\n",
    "\n"
   ]
  },
  {
   "cell_type": "code",
   "execution_count": null,
   "id": "5b1e3163",
   "metadata": {},
   "outputs": [],
   "source": []
  },
  {
   "cell_type": "markdown",
   "id": "4efaa04d",
   "metadata": {},
   "source": [
    "Check if certain violations were more prominent in 2022 than 2019"
   ]
  },
  {
   "cell_type": "code",
   "execution_count": 15,
   "id": "67afbd6d",
   "metadata": {},
   "outputs": [
    {
     "name": "stdout",
     "output_type": "stream",
     "text": [
      "Top 5 violations in 2019:\n",
      "   VIOLATION CODE  count\n",
      "0            10F   4505\n",
      "1            08A   3329\n",
      "2            06D   2193\n",
      "3            04L   2002\n",
      "4            04N   1758\n",
      "\n",
      "Top 5 violations in 2022:\n",
      "   VIOLATION CODE  count\n",
      "0            10F   2565\n",
      "1            08A   1666\n",
      "2            04L   1237\n",
      "3            06D   1187\n",
      "4            06C    941\n"
     ]
    }
   ],
   "source": [
    "violations_2019 = spark.sql(\"\"\"\n",
    "    SELECT `VIOLATION CODE`, COUNT(*) as count\n",
    "    FROM inspections\n",
    "    WHERE `INSPECTION YEAR` = '2019'\n",
    "    GROUP BY `VIOLATION CODE`\n",
    "    ORDER BY count DESC\n",
    "    LIMIT 5\n",
    "\"\"\")\n",
    "\n",
    "violations_2022 = spark.sql(\"\"\"\n",
    "    SELECT `VIOLATION CODE`, COUNT(*) as count\n",
    "    FROM inspections\n",
    "    WHERE `INSPECTION YEAR` = '2020'\n",
    "    GROUP BY `VIOLATION CODE`\n",
    "    ORDER BY count DESC\n",
    "    LIMIT 5\n",
    "\"\"\")\n",
    "\n",
    "# convert the PySpark DataFrames to pandas DataFrames\n",
    "violations_2019_pd = violations_2019.toPandas()\n",
    "violations_2022_pd = violations_2022.toPandas()\n",
    "\n",
    "# display the pandas DataFrames\n",
    "print('Top 5 violations in 2019:\\n', violations_2019_pd)\n",
    "print('\\nTop 5 violations in 2022:\\n', violations_2022_pd)\n"
   ]
  },
  {
   "cell_type": "markdown",
   "id": "0ab65ee4",
   "metadata": {},
   "source": [
    "Based on the information above there is not much difference in the top violations which could indicate anything"
   ]
  },
  {
   "cell_type": "code",
   "execution_count": null,
   "id": "7782f548",
   "metadata": {},
   "outputs": [],
   "source": []
  },
  {
   "cell_type": "markdown",
   "id": "d5dea95b",
   "metadata": {},
   "source": [
    "Find TOP 3 MOST AMOUNT of inspections by ZIPCODE PER YEAR STARTING IN 2019 THEN GRAPH the change for each of those zip codes  "
   ]
  },
  {
   "cell_type": "code",
   "execution_count": 16,
   "id": "3fb406b7",
   "metadata": {},
   "outputs": [
    {
     "name": "stdout",
     "output_type": "stream",
     "text": [
      "Top 3 zip codes for inspections in 2019:\n",
      "+-------+-----+\n",
      "|ZIPCODE|count|\n",
      "+-------+-----+\n",
      "|  10003|  755|\n",
      "|  10019|  725|\n",
      "|  10036|  680|\n",
      "+-------+-----+\n",
      "\n",
      "Top 3 zip codes for inspections in 2022:\n",
      "+-------+-----+\n",
      "|ZIPCODE|count|\n",
      "+-------+-----+\n",
      "|  10013| 2282|\n",
      "|  10003| 2098|\n",
      "|  10019| 1914|\n",
      "+-------+-----+\n",
      "\n"
     ]
    }
   ],
   "source": [
    "from pyspark.sql.functions import year\n",
    "\n",
    "# filter inspections for 2019 and find top 3 zip codes\n",
    "top_zips_2019 = inspection_df.filter(year(col(\"INSPECTION DATE\")) == 2019) \\\n",
    "    .groupBy('ZIPCODE').count().orderBy('count', ascending=False).limit(3)\n",
    "\n",
    "# filter inspections for 2022 and find top 3 zip codes\n",
    "top_zips_2022 = inspection_df.filter(year(col(\"INSPECTION DATE\")) == 2022) \\\n",
    "    .groupBy('ZIPCODE').count().orderBy('count', ascending=False).limit(3)\n",
    "\n",
    "# show results\n",
    "print(\"Top 3 zip codes for inspections in 2019:\")\n",
    "top_zips_2019.show()\n",
    "\n",
    "print(\"Top 3 zip codes for inspections in 2022:\")\n",
    "top_zips_2022.show()\n"
   ]
  },
  {
   "cell_type": "markdown",
   "id": "8eee3ce8",
   "metadata": {},
   "source": [
    "We can see with the data above that there was a change in top 3 with the highest changing to 10013. Lets map the zipcodes to their respective neighborhood and plot the top 3 for each year. "
   ]
  },
  {
   "cell_type": "code",
   "execution_count": 28,
   "id": "624f29d6",
   "metadata": {},
   "outputs": [
    {
     "data": {
      "image/png": "[encoded data removed]",
      "text/plain": [
       "<Figure size 720x432 with 1 Axes>"
      ]
     },
     "metadata": {
      "needs_background": "light"
     },
     "output_type": "display_data"
    },
    {
     "data": {
      "image/png": "[encoded data removed]",
      "text/plain": [
       "<Figure size 720x432 with 1 Axes>"
      ]
     },
     "metadata": {
      "needs_background": "light"
     },
     "output_type": "display_data"
    }
   ],
   "source": [
    "#conver to pandas\n",
    "data_2019 = top_zips_2019.toPandas()\n",
    "data_2022 = top_zips_2022.toPandas()\n",
    "\n",
    "# create a dictionary mapping zip codes to neighborhoods\n",
    "zip_to_neighborhood = {\n",
    "    '10003': 'East Village',\n",
    "    '10013': 'Chinatown',\n",
    "    '10019': 'Midtown West',\n",
    "    '10036': 'Midtown',\n",
    "    '10002': 'Lower East Side'\n",
    "}\n",
    "\n",
    "\n",
    "\n",
    "# create the bar chart for 2019\n",
    "fig, ax = plt.subplots(figsize = (10,6))\n",
    "\n",
    "colors = ['blue', 'orange', 'green']\n",
    "\n",
    "ax.bar([zip_to_neighborhood.get(str(zip_code), 'Unknown') for zip_code in data_2019['ZIPCODE']], data_2019['count'], color=colors)\n",
    "\n",
    "ax.set_xlabel('Neighborhood')\n",
    "ax.set_ylabel('Number of inspections')\n",
    "ax.set_title('Top 3 Zip Codes with the Most Inspections in 2019')\n",
    "\n",
    "ax.set_xticklabels([zip_to_neighborhood.get(str(zip_code), 'Unknown') for zip_code in data_2019['ZIPCODE']])\n",
    "\n",
    "plt.subplots_adjust(left=0.4, bottom=0.2)\n",
    "\n",
    "plt.xticks(rotation=45, ha='right')\n",
    "file_name = \"Top_3_Zip_Codes_2019.png\"\n",
    "plt.savefig(results_dir + file_name)\n",
    "plt.show()\n",
    "\n",
    "\n",
    "\n",
    "\n",
    "#create the bar chart for 2022\n",
    "colors = ['red', 'blue', 'orange']\n",
    "\n",
    "fig, ax = plt.subplots(figsize = (10,6))\n",
    "ax.bar([zip_to_neighborhood.get(str(zip_code), 'Unknown') for zip_code in data_2022['ZIPCODE']], data_2022['count'], color=colors)\n",
    "\n",
    "ax.set_xlabel('Neighborhood')\n",
    "ax.set_ylabel('Number of inspections')\n",
    "ax.set_title('Top 3 Zip Codes with the Most Inspections in 2022')\n",
    "\n",
    "# set the x-axis tick labels to the neighborhood names\n",
    "ax.set_xticklabels([zip_to_neighborhood.get(str(zip_code), 'Unknown') for zip_code in data_2022['ZIPCODE']])\n",
    "\n",
    "plt.subplots_adjust(left=0.4, bottom=0.2)\n",
    "plt.xticks(rotation=45, ha='right')\n",
    "file_name = \"Top_3_Zip_Codes_2022.png\"\n",
    "plt.savefig(results_dir + file_name)\n",
    "plt.show()\n"
   ]
  },
  {
   "cell_type": "code",
   "execution_count": null,
   "id": "97c75308",
   "metadata": {},
   "outputs": [],
   "source": []
  },
  {
   "cell_type": "code",
   "execution_count": null,
   "id": "284da6ee",
   "metadata": {},
   "outputs": [],
   "source": []
  },
  {
   "cell_type": "markdown",
   "id": "a28a0b7f",
   "metadata": {},
   "source": [
    "Moving forward with the EDA, lets determine if the inspections became more strict. The first method we can use is to compare the number of restaraunts that of which have closed due to the inspections failing."
   ]
  },
  {
   "cell_type": "markdown",
   "id": "3a4317c2",
   "metadata": {},
   "source": [
    "Lets use the action column to compare when ACTION includes \"CLOSED\" "
   ]
  },
  {
   "cell_type": "code",
   "execution_count": 18,
   "id": "b2bec76a",
   "metadata": {},
   "outputs": [
    {
     "name": "stdout",
     "output_type": "stream",
     "text": [
      "Number of closed restaurants in 2019: 999\n",
      "Number of closed restaurants in 2022: 3734\n",
      "Percentage increase: 273.77%\n"
     ]
    }
   ],
   "source": [
    "# filter inspections for closed restaurants in 2019\n",
    "closed_2019 = inspection_df.filter(\"YEAR(`INSPECTION DATE`) == 2019 AND (`Action` == 'Establishment Closed by DOHMH. Violations were cited in the following area(s) and those requiring immediate action were addressed.' OR `Action` == 'Establishment re-closed by DOHMH.')\")\n",
    "closed_2019_count = closed_2019.count()\n",
    "\n",
    "# filter inspections for closed restaurants in 2022\n",
    "closed_2022 = inspection_df.filter(\"YEAR(`INSPECTION DATE`) == 2022 AND (`Action` == 'Establishment Closed by DOHMH. Violations were cited in the following area(s) and those requiring immediate action were addressed.' OR `Action` == 'Establishment re-closed by DOHMH.')\")\n",
    "closed_2022_count = closed_2022.count()\n",
    "\n",
    "# calculate the percentage increase\n",
    "closed_increase = ((closed_2022_count - closed_2019_count) / closed_2019_count) * 100\n",
    "\n",
    "# print the counts for each year and the percentage increase\n",
    "print(f\"Number of closed restaurants in 2019: {closed_2019_count}\")\n",
    "print(f\"Number of closed restaurants in 2022: {closed_2022_count}\")\n",
    "print(f\"Percentage increase: {closed_increase:.2f}%\")\n"
   ]
  },
  {
   "cell_type": "markdown",
   "id": "1fce5ba6",
   "metadata": {},
   "source": [
    "FIND PERCENT CHANGE IN CRIITCAL FLAG = Critical "
   ]
  },
  {
   "cell_type": "code",
   "execution_count": 19,
   "id": "1a415e7d",
   "metadata": {},
   "outputs": [
    {
     "name": "stdout",
     "output_type": "stream",
     "text": [
      "Number of Critical Flags in 2019: 16254\n",
      "Number of Critical Flags in 2022: 51099\n",
      "Perecnt increase: 214.38%\n"
     ]
    }
   ],
   "source": [
    "\n",
    "\n",
    "critical_2019 = inspection_df.filter(\"YEAR(`INSPECTION DATE`) == 2019 AND `CRITICAL FLAG` == 'Critical'\")\n",
    "critical_2019_count = critical_2019.count()\n",
    "\n",
    "# filter inspections for closed restaurants in 2022\n",
    "critical_2022 = inspection_df.filter(\"YEAR(`INSPECTION DATE`) == 2022 AND `CRITICAL FLAG` == 'Critical'\")\n",
    "critical_2022_count = critical_2022.count()\n",
    "\n",
    "critical_flag_increase = ((critical_2022_count -critical_2019_count) / critical_2019_count) *100\n",
    "\n",
    "# print the counts for each year\n",
    "print(f\"Number of Critical Flags in 2019: {critical_2019_count}\")\n",
    "print(f\"Number of Critical Flags in 2022: {critical_2022_count}\")\n",
    "print(f\"Perecnt increase: {critical_flag_increase:.2f}%\")"
   ]
  },
  {
   "cell_type": "markdown",
   "id": "67cf1414",
   "metadata": {},
   "source": [
    "Count number of unique restaurants for 2019 AND 2022"
   ]
  },
  {
   "cell_type": "code",
   "execution_count": 20,
   "id": "fbbee7dc",
   "metadata": {},
   "outputs": [
    {
     "name": "stdout",
     "output_type": "stream",
     "text": [
      "Number of unique restaurants in 2019: 6737\n",
      "Number of unique restaurants in 2022: 19871\n",
      "Percent Icncrease: 194.95%\n"
     ]
    }
   ],
   "source": [
    "# count number of unique restaurants for 2019\n",
    "unique_restaurants_2019 = inspection_df.filter(inspection_df['INSPECTION DATE'].contains('2019')) \\\n",
    "                                        .agg(countDistinct('CAMIS')).collect()[0][0]\n",
    "print(\"Number of unique restaurants in 2019:\", unique_restaurants_2019)\n",
    "\n",
    "# count number of unique restaurants for 2022\n",
    "unique_restaurants_2022 = inspection_df.filter(inspection_df['INSPECTION DATE'].contains('2022')) \\\n",
    "                                        .agg(countDistinct('CAMIS')).collect()[0][0]\n",
    "print(\"Number of unique restaurants in 2022:\", unique_restaurants_2022)\n",
    "\n",
    "\n",
    "unique_increase = ((unique_restaurants_2022 - unique_restaurants_2019) / unique_restaurants_2019) * 100\n",
    "print(f\"Percent Icncrease: {unique_increase:.2f}%\")"
   ]
  },
  {
   "cell_type": "code",
   "execution_count": 21,
   "id": "c9dcd5aa",
   "metadata": {},
   "outputs": [
    {
     "data": {
      "image/png": "[encoded data removed]",
      "text/plain": [
       "<Figure size 1080x720 with 1 Axes>"
      ]
     },
     "metadata": {
      "needs_background": "light"
     },
     "output_type": "display_data"
    }
   ],
   "source": [
    "\n",
    "\n",
    "# create the bar chart\n",
    "fig, ax = plt.subplots(figsize=(15, 10))\n",
    "ax.barh(['Closed Restaurants', 'Critical Flag Violations', 'Unique Restaurants'], \n",
    "        [closed_increase, critical_flag_increase, unique_increase], \n",
    "        color=['red', 'green', 'blue'])\n",
    "\n",
    "ax.set_xlabel('Percentage Increase', fontsize=15)\n",
    "ax.set_title('Percent Increase from 2019 to 2022', fontsize=20)\n",
    "\n",
    "plt.subplots_adjust(left=0.4, bottom=0.5, right=0.95, top=0.9)\n",
    "\n",
    "\n",
    "file_name = \"Percent_Increase_Closed.png\"\n",
    "plt.savefig(results_dir + file_name)\n",
    "plt.show()\n",
    "\n",
    "\n",
    "\n"
   ]
  },
  {
   "cell_type": "code",
   "execution_count": 22,
   "id": "873cbe0c",
   "metadata": {
    "scrolled": true
   },
   "outputs": [
    {
     "data": {
      "image/png": "[encoded data removed]",
      "text/plain": [
       "<Figure size 720x288 with 1 Axes>"
      ]
     },
     "metadata": {
      "needs_background": "light"
     },
     "output_type": "display_data"
    }
   ],
   "source": [
    "\n",
    "# get the average score for each year after 2018\n",
    "avg_scores = spark.sql('''\n",
    "    SELECT YEAR(`INSPECTION DATE`) AS Year, ROUND(AVG(`SCORE`), 2) AS Avg_Score\n",
    "    FROM inspections\n",
    "    WHERE YEAR(`INSPECTION DATE`) >= 2019\n",
    "    GROUP BY Year\n",
    "    ORDER BY Year ASC\n",
    "''')\n",
    "\n",
    "# convert to pandas dataframe\n",
    "avg_scores_pd = avg_scores.toPandas()\n",
    "\n",
    "# create the bar chart\n",
    "fig, ax = plt.subplots(figsize = (10,4))\n",
    "ax.bar(avg_scores_pd['Year'], avg_scores_pd['Avg_Score'], color='blue')\n",
    "\n",
    "\n",
    "ax.set_xlabel('Year', fontsize = 15)\n",
    "ax.set_ylabel('Average Score', fontsize = 15)\n",
    "ax.set_title('Average Inspection Score by Year', fontsize = 25)\n",
    "\n",
    "file_name = \"Average_Inspection_Score_by_Year.png\"\n",
    "plt.savefig(results_dir + file_name)\n",
    "plt.show()\n"
   ]
  },
  {
   "cell_type": "markdown",
   "id": "5a535d6e",
   "metadata": {},
   "source": [
    "The graph indicates that the avg score per inspection is increasing each year after 2020. This can point to the possssibilty that the inspections are indeed more stricter after the pandemic. "
   ]
  },
  {
   "cell_type": "markdown",
   "id": "fbb27e59",
   "metadata": {},
   "source": [
    "Now check if Chinese restaurants in particular had more scrutiny than other restaurants in terms of the avg score from 2019 to 2022. "
   ]
  },
  {
   "cell_type": "code",
   "execution_count": 23,
   "id": "b2d8ae16",
   "metadata": {},
   "outputs": [
    {
     "data": {
      "image/png": "[encoded data removed]",
      "text/plain": [
       "<Figure size 720x576 with 1 Axes>"
      ]
     },
     "metadata": {
      "needs_background": "light"
     },
     "output_type": "display_data"
    }
   ],
   "source": [
    "from pyspark.sql.functions import col, year\n",
    "\n",
    "# calculate average score for Chinese restaurants in 2019\n",
    "chinese_2019 = inspection_df.filter((col(\"CUISINE DESCRIPTION\") == \"Chinese\") & (year(col(\"INSPECTION DATE\")) == 2019))\n",
    "chinese_2019_avg = chinese_2019.agg(avg(col(\"SCORE\")).alias(\"avg_score\")).collect()[0][\"avg_score\"]\n",
    "\n",
    "# calculate average score for Chinese restaurants in 2022\n",
    "chinese_2022 = inspection_df.filter((col(\"CUISINE DESCRIPTION\") == \"Chinese\") & (year(col(\"INSPECTION DATE\")) == 2022))\n",
    "chinese_2022_avg = chinese_2022.agg(avg(col(\"SCORE\")).alias(\"avg_score\")).collect()[0][\"avg_score\"]\n",
    "\n",
    "# calculate average score for all restaurants except Chinese in 2019 and 2022\n",
    "all_2019 = inspection_df.filter((~col(\"CUISINE DESCRIPTION\").isin([\"Chinese\"])) & (year(col(\"INSPECTION DATE\")) == 2019))\n",
    "all_2022 = inspection_df.filter((~col(\"CUISINE DESCRIPTION\").isin([\"Chinese\"])) & (year(col(\"INSPECTION DATE\")) == 2022))\n",
    "all_2019_avg = all_2019.agg(avg(col(\"SCORE\")).alias(\"avg_score\")).collect()[0][\"avg_score\"]\n",
    "all_2022_avg = all_2022.agg(avg(col(\"SCORE\")).alias(\"avg_score\")).collect()[0][\"avg_score\"]\n",
    "\n",
    "# calculate percent change in average score for Chinese restaurants from 2019 to 2022\n",
    "chinese_change = ((chinese_2022_avg - chinese_2019_avg) / chinese_2019_avg) * 100\n",
    "\n",
    "# calculate percent change in average score for all restaurants except Chinese from 2019 to 2022\n",
    "all_other_change = ((all_2022_avg - all_2019_avg) / all_2019_avg) * 100\n",
    "\n",
    "# plot the results\n",
    "# create the bar chart\n",
    "fig, ax = plt.subplots(figsize=(10, 8))\n",
    "ax.bar(['Chinese', 'All except Chinese'], [chinese_change, all_other_change], color=['red', 'blue'], alpha=0.8)\n",
    "\n",
    "# add labels and title\n",
    "ax.set_xlabel('Cuisine', fontsize=15)\n",
    "ax.set_ylabel('Change in Average Score', fontsize=15)\n",
    "ax.set_title('Change in Average Score from 2019 to 2022', fontsize=20)\n",
    "\n",
    "file_name = \"Chinese_Vs_Other_score.png\"\n",
    "plt.savefig(results_dir + file_name)\n",
    "\n",
    "# show the plot\n",
    "plt.show()\n"
   ]
  },
  {
   "cell_type": "code",
   "execution_count": null,
   "id": "766c4576",
   "metadata": {},
   "outputs": [],
   "source": [
    "print(done)"
   ]
  }
 ],
 "metadata": {
  "kernelspec": {
   "display_name": "Python 3 (ipykernel)",
   "language": "python",
   "name": "python3"
  },
  "language_info": {
   "codemirror_mode": {
    "name": "ipython",
    "version": 3
   },
   "file_extension": ".py",
   "mimetype": "text/x-python",
   "name": "python",
   "nbconvert_exporter": "python",
   "pygments_lexer": "ipython3",
   "version": "3.8.13"
  }
 },
 "nbformat": 4,
 "nbformat_minor": 5
}
