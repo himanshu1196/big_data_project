{
 "cells": [
  {
   "cell_type": "code",
   "execution_count": 1,
   "id": "c397f0d5",
   "metadata": {},
   "outputs": [
    {
     "name": "stderr",
     "output_type": "stream",
     "text": [
      "Setting default log level to \"WARN\".\n",
      "To adjust logging level use sc.setLogLevel(newLevel). For SparkR, use setLogLevel(newLevel).\n",
      "23/04/13 01:12:21 INFO org.apache.spark.SparkEnv: Registering MapOutputTracker\n",
      "23/04/13 01:12:21 INFO org.apache.spark.SparkEnv: Registering BlockManagerMaster\n",
      "23/04/13 01:12:22 INFO org.apache.spark.SparkEnv: Registering BlockManagerMasterHeartbeat\n",
      "23/04/13 01:12:22 INFO org.apache.spark.SparkEnv: Registering OutputCommitCoordinator\n"
     ]
    }
   ],
   "source": [
    "#start spark session\n",
    "from pyspark import SparkContext, SparkConf\n",
    "cf = SparkConf()\n",
    "cf.set(\"spark.submit.deployMode\",\"client\")\n",
    "sc = SparkContext.getOrCreate(cf)\n",
    "from pyspark.sql import SparkSession\n",
    "spark = SparkSession \\\n",
    "        .builder \\\n",
    "        .appName(\"Python Spark SQL basic example\") \\\n",
    "        .config(\"spark.some.config.option\", \"some-value\") \\\n",
    "        .getOrCreate()"
   ]
  },
  {
   "cell_type": "code",
   "execution_count": 2,
   "id": "6b8e11dd",
   "metadata": {},
   "outputs": [
    {
     "name": "stderr",
     "output_type": "stream",
     "text": [
      "23/04/13 01:12:49 WARN org.apache.spark.scheduler.cluster.YarnScheduler: Initial job has not accepted any resources; check your cluster UI to ensure that workers are registered and have sufficient resources\n",
      "23/04/13 01:13:04 WARN org.apache.spark.scheduler.cluster.YarnScheduler: Initial job has not accepted any resources; check your cluster UI to ensure that workers are registered and have sufficient resources\n",
      "23/04/13 01:13:19 WARN org.apache.spark.scheduler.cluster.YarnScheduler: Initial job has not accepted any resources; check your cluster UI to ensure that workers are registered and have sufficient resources\n",
      "23/04/13 01:13:34 WARN org.apache.spark.scheduler.cluster.YarnScheduler: Initial job has not accepted any resources; check your cluster UI to ensure that workers are registered and have sufficient resources\n",
      "23/04/13 01:13:49 WARN org.apache.spark.scheduler.cluster.YarnScheduler: Initial job has not accepted any resources; check your cluster UI to ensure that workers are registered and have sufficient resources\n",
      "23/04/13 01:14:04 WARN org.apache.spark.scheduler.cluster.YarnScheduler: Initial job has not accepted any resources; check your cluster UI to ensure that workers are registered and have sufficient resources\n",
      "23/04/13 01:14:19 WARN org.apache.spark.scheduler.cluster.YarnScheduler: Initial job has not accepted any resources; check your cluster UI to ensure that workers are registered and have sufficient resources\n",
      "23/04/13 01:14:34 WARN org.apache.spark.scheduler.cluster.YarnScheduler: Initial job has not accepted any resources; check your cluster UI to ensure that workers are registered and have sufficient resources\n",
      "23/04/13 01:14:49 WARN org.apache.spark.scheduler.cluster.YarnScheduler: Initial job has not accepted any resources; check your cluster UI to ensure that workers are registered and have sufficient resources\n",
      "23/04/13 01:15:04 WARN org.apache.spark.scheduler.cluster.YarnScheduler: Initial job has not accepted any resources; check your cluster UI to ensure that workers are registered and have sufficient resources\n",
      "23/04/13 01:15:19 WARN org.apache.spark.scheduler.cluster.YarnScheduler: Initial job has not accepted any resources; check your cluster UI to ensure that workers are registered and have sufficient resources\n",
      "23/04/13 01:15:34 WARN org.apache.spark.scheduler.cluster.YarnScheduler: Initial job has not accepted any resources; check your cluster UI to ensure that workers are registered and have sufficient resources\n",
      "23/04/13 01:15:49 WARN org.apache.spark.scheduler.cluster.YarnScheduler: Initial job has not accepted any resources; check your cluster UI to ensure that workers are registered and have sufficient resources\n",
      "23/04/13 01:16:04 WARN org.apache.spark.scheduler.cluster.YarnScheduler: Initial job has not accepted any resources; check your cluster UI to ensure that workers are registered and have sufficient resources\n",
      "23/04/13 01:16:19 WARN org.apache.spark.scheduler.cluster.YarnScheduler: Initial job has not accepted any resources; check your cluster UI to ensure that workers are registered and have sufficient resources\n",
      "23/04/13 01:16:34 WARN org.apache.spark.scheduler.cluster.YarnScheduler: Initial job has not accepted any resources; check your cluster UI to ensure that workers are registered and have sufficient resources\n",
      "23/04/13 01:16:49 WARN org.apache.spark.scheduler.cluster.YarnScheduler: Initial job has not accepted any resources; check your cluster UI to ensure that workers are registered and have sufficient resources\n",
      "23/04/13 01:17:04 WARN org.apache.spark.scheduler.cluster.YarnScheduler: Initial job has not accepted any resources; check your cluster UI to ensure that workers are registered and have sufficient resources\n",
      "23/04/13 01:17:19 WARN org.apache.spark.scheduler.cluster.YarnScheduler: Initial job has not accepted any resources; check your cluster UI to ensure that workers are registered and have sufficient resources\n",
      "23/04/13 01:17:34 WARN org.apache.spark.scheduler.cluster.YarnScheduler: Initial job has not accepted any resources; check your cluster UI to ensure that workers are registered and have sufficient resources\n",
      "                                                                                \r"
     ]
    }
   ],
   "source": [
    "# read data\n",
    "inspection_df = spark.read.csv(path='/user/hp2427_nyu_edu/shared/DOHMH_New_York_City_Restaurant_Inspection_Results.csv',header=True)\n",
    "applications_df = spark.read.csv(path='/user/hp2427_nyu_edu/shared/open-restaurant-applications.csv',header=True)\n",
    "restaurants_df = spark.read.csv(path='/user/hp2427_nyu_edu/shared/restaurants.csv',header=True)"
   ]
  },
  {
   "cell_type": "markdown",
   "id": "4872c04e",
   "metadata": {},
   "source": [
    "## Uniqueness constraints : \n",
    "\n",
    "Each summons_number should be unique; this can be checked by comparing the number of rows and the number of unique values for summons_number column"
   ]
  },
  {
   "cell_type": "markdown",
   "id": "0f3f09a4",
   "metadata": {},
   "source": [
    "## Value contraints :\n",
    "\n",
    "vehicle_year can only take values <=2023"
   ]
  },
  {
   "cell_type": "markdown",
   "id": "ab7ed169",
   "metadata": {},
   "source": [
    "## Use of master data :\n",
    "\n",
    "plate_type can only take values from the list given here : https://www.nyc.gov/html/dof/html/pdf/faq/stars_codes.pdf"
   ]
  },
  {
   "cell_type": "markdown",
   "id": "03b784eb",
   "metadata": {},
   "source": [
    "## Outlier detection using Clustering"
   ]
  },
  {
   "cell_type": "code",
   "execution_count": 12,
   "id": "b094e6f1",
   "metadata": {},
   "outputs": [],
   "source": [
    "import string, unicodedata\n",
    "def fingerprint(value):\n",
    "    key = unicodedata.normalize('NFKD', value).encode('ascii','ignore').decode()\n",
    "    key = set(key.strip().lower().translate(str.maketrans('','',string.punctuation)).split())\n",
    "    key = ' '.join(sorted(list(key)))\n",
    "    return (key, value)"
   ]
  },
  {
   "cell_type": "markdown",
   "id": "f20f7cdc",
   "metadata": {},
   "source": [
    "## Functional dependencies\n",
    "\n",
    "entries with same plate_id should have same vehicle_make.\n",
    "\n",
    "plate_id ---> vehicle_make is a functional dependency"
   ]
  },
  {
   "cell_type": "code",
   "execution_count": null,
   "id": "237b81b6",
   "metadata": {},
   "outputs": [],
   "source": []
  }
 ],
 "metadata": {
  "kernelspec": {
   "display_name": "Python 3 (ipykernel)",
   "language": "python",
   "name": "python3"
  },
  "language_info": {
   "codemirror_mode": {
    "name": "ipython",
    "version": 3
   },
   "file_extension": ".py",
   "mimetype": "text/x-python",
   "name": "python",
   "nbconvert_exporter": "python",
   "pygments_lexer": "ipython3",
   "version": "3.8.13"
  }
 },
 "nbformat": 4,
 "nbformat_minor": 5
}
