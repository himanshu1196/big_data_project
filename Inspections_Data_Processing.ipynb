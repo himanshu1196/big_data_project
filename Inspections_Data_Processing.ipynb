{
  "cells": [
    {
      "cell_type": "markdown",
      "id": "fae730d0",
      "metadata": {
        "id": "fae730d0"
      },
      "source": [
        "## CLEAN THE DATA SET"
      ]
    },
    {
      "cell_type": "markdown",
      "id": "79b7fe1f",
      "metadata": {
        "id": "79b7fe1f"
      },
      "source": [
        "Environment Used: \n",
        "NYU HPC Cluster with\n",
        "MemTotal:       123658260 kB memory\n",
        "10GB of disk space (Less than 2 GB utilized)\n",
        "Operating System : \n",
        "\tDistributor ID: Debian\n",
        "Description:    Debian GNU/Linux 10 (buster)\n",
        "Release:        10\n",
        "Codename:       buster\n",
        "\n",
        "If you want to do this locally you will need to downlaod the dataset from\n",
        "https://data.cityofnewyork.us/Health/DOHMH-New-York-City-Restaurant-Inspection-Results/rs6k-p7g6\n",
        "Save the dataset you will need to remeber the path to read into a pandas data frame.\n",
        "\n",
        "If you use dataproc upload the datset from your computer to dataproc and in your home directory using the following command\n",
        "\n",
        "SMALL TRANSFERS:\n",
        "You can add smaller files to HDFS by copying them to your local filesystem / non-HDFS  home directory and then copying them from there to HDFS.  Note that there is a limit on the size of your local filesystem home directory, so you should only perform these steps for smaller amounts of data- for larger datasets you should use the method described in the Large Transfers section.\n",
        "\n",
        "Navigate to the command line interface by going to http://dataproc.hpc.nyu.edu/ssh.\n",
        "\n",
        "In the upper right portion of the header banner, select Upload File.  Use the web browser dialog to select your file.\n",
        "Once the file is uploaded to your Unix directory, run the following command to copy it into HDFS:\n",
        "\n",
        "hdfs dfs -put /home/<your_netid>_nyu_edu/<path_to_file> <hdfs_path>\n",
        "\n",
        "To retrieve data from HDFS and copy it to your local filesystem home directory, you can use one of the following commands:\n",
        "\n",
        "hdfs dfs -get <hdfs_path> /home/<your_netid>_nyu_edu/<path_to_file>\n",
        "\n",
        "LARGE TRANSFERS:\n",
        "To upload large datasets to HDFS, first navigate to the data ingest website at https://dataproc.hpc.nyu.edu/ingest. The data ingest website provides a web interface for temporary cloud-based bucket storage.  Any datasets that are uploaded to the data ingest website will remain there for 2 days.  Before these 2 days have elapsed, you will need to upload your datasets to your HDFS home directory.  To do that you can use the following command after logging in:\n",
        "\n",
        "hadoop distcp gs://nyu-dataproc-hdfs-ingest/<file_or_folder_name> /user/<your_net_id>_nyu_edu"
      ]
    },
    {
      "cell_type": "markdown",
      "id": "dc48073a",
      "metadata": {
        "id": "dc48073a"
      },
      "source": [
        "READ IN THE DATA FROM YOUR LOCAL COMPUTER INTO A PANDAS DATA FRAME. INSERT THE PATH WHERE THE DATASET IS STORED ON YOUR COMPUTER. "
      ]
    },
    {
      "cell_type": "code",
      "execution_count": 1,
      "id": "ff1e73fc",
      "metadata": {
        "colab": {
          "base_uri": "https://localhost:8080/"
        },
        "id": "ff1e73fc",
        "outputId": "a7021ff8-9334-48cd-abc0-0e470fb96b6c"
      },
      "outputs": [
        {
          "output_type": "stream",
          "name": "stdout",
          "text": [
            "1683930759.3566287\n"
          ]
        }
      ],
      "source": [
        "import os\n",
        "import time\n",
        "start_time = time.time()\n",
        "print(start_time)"
      ]
    },
    {
      "cell_type": "code",
      "source": [
        "data_dir = 'data'\n",
        "results_dir = 'results'\n",
        "if not os.path.exists(results_dir):\n",
        "    os.makedirs(results_dir)"
      ],
      "metadata": {
        "id": "soPggjI6IuE9"
      },
      "id": "soPggjI6IuE9",
      "execution_count": 48,
      "outputs": []
    },
    {
      "cell_type": "code",
      "execution_count": 2,
      "id": "727a3353",
      "metadata": {
        "colab": {
          "base_uri": "https://localhost:8080/",
          "height": 548
        },
        "id": "727a3353",
        "outputId": "36160903-2f60-4199-bef5-3060d5de4523"
      },
      "outputs": [
        {
          "output_type": "execute_result",
          "data": {
            "text/plain": [
              "      CAMIS          DBA      BORO BUILDING                   STREET  ZIPCODE  \\\n",
              "0  41283963  PAPA JOHN'S  Brooklyn     5804                 5 AVENUE  11220.0   \n",
              "1  50133127          NaN    Queens    19005             HILLSIDE AVE  11423.0   \n",
              "2  50113539    MackaTree  Brooklyn      417  MARCUS GARVEY BOULEVARD  11216.0   \n",
              "3  50059874  GINZA SUSHI  Brooklyn     2809             OCEAN AVENUE  11229.0   \n",
              "4  50131148          NaN     Bronx      969             PROSPECT AVE  10459.0   \n",
              "\n",
              "        PHONE CUISINE DESCRIPTION INSPECTION DATE  \\\n",
              "0  7189217272               Pizza      01/26/2022   \n",
              "1  9176797448                 NaN      01/01/1900   \n",
              "2  3476792021                 NaN      01/01/1900   \n",
              "3  7187696028            Japanese      12/27/2022   \n",
              "4  6466833982                 NaN      01/01/1900   \n",
              "\n",
              "                                            ACTION VIOLATION CODE  \\\n",
              "0  Violations were cited in the following area(s).            04L   \n",
              "1                                              NaN            NaN   \n",
              "2                                              NaN            NaN   \n",
              "3  Violations were cited in the following area(s).            04M   \n",
              "4                                              NaN            NaN   \n",
              "\n",
              "                               VIOLATION DESCRIPTION   CRITICAL FLAG  SCORE  \\\n",
              "0  Evidence of mice or live mice present in facil...        Critical   13.0   \n",
              "1                                                NaN  Not Applicable    NaN   \n",
              "2                                                NaN  Not Applicable    NaN   \n",
              "3  Live roaches in facility's food or non-food area.        Critical   21.0   \n",
              "4                                                NaN  Not Applicable    NaN   \n",
              "\n",
              "  GRADE  GRADE DATE RECORD DATE                   INSPECTION TYPE   Latitude  \\\n",
              "0     A  01/26/2022  04/14/2023  Cycle Inspection / Re-inspection  40.640526   \n",
              "1   NaN         NaN  04/14/2023                               NaN  40.715737   \n",
              "2   NaN         NaN  04/14/2023                               NaN  40.682815   \n",
              "3     B  12/27/2022  04/14/2023  Cycle Inspection / Re-inspection  40.593102   \n",
              "4   NaN         NaN  04/14/2023                               NaN  40.822922   \n",
              "\n",
              "   Longitude  Community Board  Council District  Census Tract        BIN  \\\n",
              "0 -74.015090            307.0              38.0        7400.0  3397962.0   \n",
              "1 -73.771779            408.0              23.0       47800.0  4223678.0   \n",
              "2 -73.937999            303.0              36.0       27500.0  3046354.0   \n",
              "3 -73.950210            315.0              48.0       59401.0  3202166.0   \n",
              "4 -73.900281            203.0              17.0       12901.0  2098575.0   \n",
              "\n",
              "            BBL   NTA  Location Point1  Zip Codes  Community Districts  \\\n",
              "0  3.008550e+09  BK32              NaN        NaN                  NaN   \n",
              "1  4.104990e+09  QN06              NaN        NaN                  NaN   \n",
              "2  3.016640e+09  BK35              NaN        NaN                  NaN   \n",
              "3  3.074050e+09  BK17              NaN        NaN                  NaN   \n",
              "4  2.026780e+09  BX33              NaN        NaN                  NaN   \n",
              "\n",
              "   Borough Boundaries  City Council Districts  Police Precincts  \n",
              "0                 NaN                     NaN               NaN  \n",
              "1                 NaN                     NaN               NaN  \n",
              "2                 NaN                     NaN               NaN  \n",
              "3                 NaN                     NaN               NaN  \n",
              "4                 NaN                     NaN               NaN  "
            ],
            "text/html": [
              "\n",
              "  <div id=\"df-635828eb-a5c3-40a2-bdc1-7132547d67a0\">\n",
              "    <div class=\"colab-df-container\">\n",
              "      <div>\n",
              "<style scoped>\n",
              "    .dataframe tbody tr th:only-of-type {\n",
              "        vertical-align: middle;\n",
              "    }\n",
              "\n",
              "    .dataframe tbody tr th {\n",
              "        vertical-align: top;\n",
              "    }\n",
              "\n",
              "    .dataframe thead th {\n",
              "        text-align: right;\n",
              "    }\n",
              "</style>\n",
              "<table border=\"1\" class=\"dataframe\">\n",
              "  <thead>\n",
              "    <tr style=\"text-align: right;\">\n",
              "      <th></th>\n",
              "      <th>CAMIS</th>\n",
              "      <th>DBA</th>\n",
              "      <th>BORO</th>\n",
              "      <th>BUILDING</th>\n",
              "      <th>STREET</th>\n",
              "      <th>ZIPCODE</th>\n",
              "      <th>PHONE</th>\n",
              "      <th>CUISINE DESCRIPTION</th>\n",
              "      <th>INSPECTION DATE</th>\n",
              "      <th>ACTION</th>\n",
              "      <th>VIOLATION CODE</th>\n",
              "      <th>VIOLATION DESCRIPTION</th>\n",
              "      <th>CRITICAL FLAG</th>\n",
              "      <th>SCORE</th>\n",
              "      <th>GRADE</th>\n",
              "      <th>GRADE DATE</th>\n",
              "      <th>RECORD DATE</th>\n",
              "      <th>INSPECTION TYPE</th>\n",
              "      <th>Latitude</th>\n",
              "      <th>Longitude</th>\n",
              "      <th>Community Board</th>\n",
              "      <th>Council District</th>\n",
              "      <th>Census Tract</th>\n",
              "      <th>BIN</th>\n",
              "      <th>BBL</th>\n",
              "      <th>NTA</th>\n",
              "      <th>Location Point1</th>\n",
              "      <th>Zip Codes</th>\n",
              "      <th>Community Districts</th>\n",
              "      <th>Borough Boundaries</th>\n",
              "      <th>City Council Districts</th>\n",
              "      <th>Police Precincts</th>\n",
              "    </tr>\n",
              "  </thead>\n",
              "  <tbody>\n",
              "    <tr>\n",
              "      <th>0</th>\n",
              "      <td>41283963</td>\n",
              "      <td>PAPA JOHN'S</td>\n",
              "      <td>Brooklyn</td>\n",
              "      <td>5804</td>\n",
              "      <td>5 AVENUE</td>\n",
              "      <td>11220.0</td>\n",
              "      <td>7189217272</td>\n",
              "      <td>Pizza</td>\n",
              "      <td>01/26/2022</td>\n",
              "      <td>Violations were cited in the following area(s).</td>\n",
              "      <td>04L</td>\n",
              "      <td>Evidence of mice or live mice present in facil...</td>\n",
              "      <td>Critical</td>\n",
              "      <td>13.0</td>\n",
              "      <td>A</td>\n",
              "      <td>01/26/2022</td>\n",
              "      <td>04/14/2023</td>\n",
              "      <td>Cycle Inspection / Re-inspection</td>\n",
              "      <td>40.640526</td>\n",
              "      <td>-74.015090</td>\n",
              "      <td>307.0</td>\n",
              "      <td>38.0</td>\n",
              "      <td>7400.0</td>\n",
              "      <td>3397962.0</td>\n",
              "      <td>3.008550e+09</td>\n",
              "      <td>BK32</td>\n",
              "      <td>NaN</td>\n",
              "      <td>NaN</td>\n",
              "      <td>NaN</td>\n",
              "      <td>NaN</td>\n",
              "      <td>NaN</td>\n",
              "      <td>NaN</td>\n",
              "    </tr>\n",
              "    <tr>\n",
              "      <th>1</th>\n",
              "      <td>50133127</td>\n",
              "      <td>NaN</td>\n",
              "      <td>Queens</td>\n",
              "      <td>19005</td>\n",
              "      <td>HILLSIDE AVE</td>\n",
              "      <td>11423.0</td>\n",
              "      <td>9176797448</td>\n",
              "      <td>NaN</td>\n",
              "      <td>01/01/1900</td>\n",
              "      <td>NaN</td>\n",
              "      <td>NaN</td>\n",
              "      <td>NaN</td>\n",
              "      <td>Not Applicable</td>\n",
              "      <td>NaN</td>\n",
              "      <td>NaN</td>\n",
              "      <td>NaN</td>\n",
              "      <td>04/14/2023</td>\n",
              "      <td>NaN</td>\n",
              "      <td>40.715737</td>\n",
              "      <td>-73.771779</td>\n",
              "      <td>408.0</td>\n",
              "      <td>23.0</td>\n",
              "      <td>47800.0</td>\n",
              "      <td>4223678.0</td>\n",
              "      <td>4.104990e+09</td>\n",
              "      <td>QN06</td>\n",
              "      <td>NaN</td>\n",
              "      <td>NaN</td>\n",
              "      <td>NaN</td>\n",
              "      <td>NaN</td>\n",
              "      <td>NaN</td>\n",
              "      <td>NaN</td>\n",
              "    </tr>\n",
              "    <tr>\n",
              "      <th>2</th>\n",
              "      <td>50113539</td>\n",
              "      <td>MackaTree</td>\n",
              "      <td>Brooklyn</td>\n",
              "      <td>417</td>\n",
              "      <td>MARCUS GARVEY BOULEVARD</td>\n",
              "      <td>11216.0</td>\n",
              "      <td>3476792021</td>\n",
              "      <td>NaN</td>\n",
              "      <td>01/01/1900</td>\n",
              "      <td>NaN</td>\n",
              "      <td>NaN</td>\n",
              "      <td>NaN</td>\n",
              "      <td>Not Applicable</td>\n",
              "      <td>NaN</td>\n",
              "      <td>NaN</td>\n",
              "      <td>NaN</td>\n",
              "      <td>04/14/2023</td>\n",
              "      <td>NaN</td>\n",
              "      <td>40.682815</td>\n",
              "      <td>-73.937999</td>\n",
              "      <td>303.0</td>\n",
              "      <td>36.0</td>\n",
              "      <td>27500.0</td>\n",
              "      <td>3046354.0</td>\n",
              "      <td>3.016640e+09</td>\n",
              "      <td>BK35</td>\n",
              "      <td>NaN</td>\n",
              "      <td>NaN</td>\n",
              "      <td>NaN</td>\n",
              "      <td>NaN</td>\n",
              "      <td>NaN</td>\n",
              "      <td>NaN</td>\n",
              "    </tr>\n",
              "    <tr>\n",
              "      <th>3</th>\n",
              "      <td>50059874</td>\n",
              "      <td>GINZA SUSHI</td>\n",
              "      <td>Brooklyn</td>\n",
              "      <td>2809</td>\n",
              "      <td>OCEAN AVENUE</td>\n",
              "      <td>11229.0</td>\n",
              "      <td>7187696028</td>\n",
              "      <td>Japanese</td>\n",
              "      <td>12/27/2022</td>\n",
              "      <td>Violations were cited in the following area(s).</td>\n",
              "      <td>04M</td>\n",
              "      <td>Live roaches in facility's food or non-food area.</td>\n",
              "      <td>Critical</td>\n",
              "      <td>21.0</td>\n",
              "      <td>B</td>\n",
              "      <td>12/27/2022</td>\n",
              "      <td>04/14/2023</td>\n",
              "      <td>Cycle Inspection / Re-inspection</td>\n",
              "      <td>40.593102</td>\n",
              "      <td>-73.950210</td>\n",
              "      <td>315.0</td>\n",
              "      <td>48.0</td>\n",
              "      <td>59401.0</td>\n",
              "      <td>3202166.0</td>\n",
              "      <td>3.074050e+09</td>\n",
              "      <td>BK17</td>\n",
              "      <td>NaN</td>\n",
              "      <td>NaN</td>\n",
              "      <td>NaN</td>\n",
              "      <td>NaN</td>\n",
              "      <td>NaN</td>\n",
              "      <td>NaN</td>\n",
              "    </tr>\n",
              "    <tr>\n",
              "      <th>4</th>\n",
              "      <td>50131148</td>\n",
              "      <td>NaN</td>\n",
              "      <td>Bronx</td>\n",
              "      <td>969</td>\n",
              "      <td>PROSPECT AVE</td>\n",
              "      <td>10459.0</td>\n",
              "      <td>6466833982</td>\n",
              "      <td>NaN</td>\n",
              "      <td>01/01/1900</td>\n",
              "      <td>NaN</td>\n",
              "      <td>NaN</td>\n",
              "      <td>NaN</td>\n",
              "      <td>Not Applicable</td>\n",
              "      <td>NaN</td>\n",
              "      <td>NaN</td>\n",
              "      <td>NaN</td>\n",
              "      <td>04/14/2023</td>\n",
              "      <td>NaN</td>\n",
              "      <td>40.822922</td>\n",
              "      <td>-73.900281</td>\n",
              "      <td>203.0</td>\n",
              "      <td>17.0</td>\n",
              "      <td>12901.0</td>\n",
              "      <td>2098575.0</td>\n",
              "      <td>2.026780e+09</td>\n",
              "      <td>BX33</td>\n",
              "      <td>NaN</td>\n",
              "      <td>NaN</td>\n",
              "      <td>NaN</td>\n",
              "      <td>NaN</td>\n",
              "      <td>NaN</td>\n",
              "      <td>NaN</td>\n",
              "    </tr>\n",
              "  </tbody>\n",
              "</table>\n",
              "</div>\n",
              "      <button class=\"colab-df-convert\" onclick=\"convertToInteractive('df-635828eb-a5c3-40a2-bdc1-7132547d67a0')\"\n",
              "              title=\"Convert this dataframe to an interactive table.\"\n",
              "              style=\"display:none;\">\n",
              "        \n",
              "  <svg xmlns=\"http://www.w3.org/2000/svg\" height=\"24px\"viewBox=\"0 0 24 24\"\n",
              "       width=\"24px\">\n",
              "    <path d=\"M0 0h24v24H0V0z\" fill=\"none\"/>\n",
              "    <path d=\"M18.56 5.44l.94 2.06.94-2.06 2.06-.94-2.06-.94-.94-2.06-.94 2.06-2.06.94zm-11 1L8.5 8.5l.94-2.06 2.06-.94-2.06-.94L8.5 2.5l-.94 2.06-2.06.94zm10 10l.94 2.06.94-2.06 2.06-.94-2.06-.94-.94-2.06-.94 2.06-2.06.94z\"/><path d=\"M17.41 7.96l-1.37-1.37c-.4-.4-.92-.59-1.43-.59-.52 0-1.04.2-1.43.59L10.3 9.45l-7.72 7.72c-.78.78-.78 2.05 0 2.83L4 21.41c.39.39.9.59 1.41.59.51 0 1.02-.2 1.41-.59l7.78-7.78 2.81-2.81c.8-.78.8-2.07 0-2.86zM5.41 20L4 18.59l7.72-7.72 1.47 1.35L5.41 20z\"/>\n",
              "  </svg>\n",
              "      </button>\n",
              "      \n",
              "  <style>\n",
              "    .colab-df-container {\n",
              "      display:flex;\n",
              "      flex-wrap:wrap;\n",
              "      gap: 12px;\n",
              "    }\n",
              "\n",
              "    .colab-df-convert {\n",
              "      background-color: #E8F0FE;\n",
              "      border: none;\n",
              "      border-radius: 50%;\n",
              "      cursor: pointer;\n",
              "      display: none;\n",
              "      fill: #1967D2;\n",
              "      height: 32px;\n",
              "      padding: 0 0 0 0;\n",
              "      width: 32px;\n",
              "    }\n",
              "\n",
              "    .colab-df-convert:hover {\n",
              "      background-color: #E2EBFA;\n",
              "      box-shadow: 0px 1px 2px rgba(60, 64, 67, 0.3), 0px 1px 3px 1px rgba(60, 64, 67, 0.15);\n",
              "      fill: #174EA6;\n",
              "    }\n",
              "\n",
              "    [theme=dark] .colab-df-convert {\n",
              "      background-color: #3B4455;\n",
              "      fill: #D2E3FC;\n",
              "    }\n",
              "\n",
              "    [theme=dark] .colab-df-convert:hover {\n",
              "      background-color: #434B5C;\n",
              "      box-shadow: 0px 1px 3px 1px rgba(0, 0, 0, 0.15);\n",
              "      filter: drop-shadow(0px 1px 2px rgba(0, 0, 0, 0.3));\n",
              "      fill: #FFFFFF;\n",
              "    }\n",
              "  </style>\n",
              "\n",
              "      <script>\n",
              "        const buttonEl =\n",
              "          document.querySelector('#df-635828eb-a5c3-40a2-bdc1-7132547d67a0 button.colab-df-convert');\n",
              "        buttonEl.style.display =\n",
              "          google.colab.kernel.accessAllowed ? 'block' : 'none';\n",
              "\n",
              "        async function convertToInteractive(key) {\n",
              "          const element = document.querySelector('#df-635828eb-a5c3-40a2-bdc1-7132547d67a0');\n",
              "          const dataTable =\n",
              "            await google.colab.kernel.invokeFunction('convertToInteractive',\n",
              "                                                     [key], {});\n",
              "          if (!dataTable) return;\n",
              "\n",
              "          const docLinkHtml = 'Like what you see? Visit the ' +\n",
              "            '<a target=\"_blank\" href=https://colab.research.google.com/notebooks/data_table.ipynb>data table notebook</a>'\n",
              "            + ' to learn more about interactive tables.';\n",
              "          element.innerHTML = '';\n",
              "          dataTable['output_type'] = 'display_data';\n",
              "          await google.colab.output.renderOutput(dataTable, element);\n",
              "          const docLink = document.createElement('div');\n",
              "          docLink.innerHTML = docLinkHtml;\n",
              "          element.appendChild(docLink);\n",
              "        }\n",
              "      </script>\n",
              "    </div>\n",
              "  </div>\n",
              "  "
            ]
          },
          "metadata": {},
          "execution_count": 2
        }
      ],
      "source": [
        "\n",
        "data_path = os.path.join(data_dir, 'DOHMH_New_York_City_Restaurant_Inspection_Results.csv')\n",
        "\n",
        "# read data\n",
        "import pandas as pd\n",
        "\n",
        "pd.set_option('display.max_columns', None)\n",
        "\n",
        "df = pd.read_csv(data_path)\n",
        "\n",
        "df.head()"
      ]
    },
    {
      "cell_type": "markdown",
      "id": "32fa75b8",
      "metadata": {
        "id": "32fa75b8"
      },
      "source": [
        "Check what fraction of rows are null for each column.\n"
      ]
    },
    {
      "cell_type": "code",
      "execution_count": 3,
      "id": "63725d03",
      "metadata": {
        "colab": {
          "base_uri": "https://localhost:8080/"
        },
        "id": "63725d03",
        "outputId": "dd341f58-f084-4711-cd11-c1e9847877b6"
      },
      "outputs": [
        {
          "output_type": "stream",
          "name": "stdout",
          "text": [
            "CAMIS                     0.000000\n",
            "DBA                       0.008443\n",
            "BORO                      0.000000\n",
            "BUILDING                  0.001956\n",
            "STREET                    0.000132\n",
            "ZIPCODE                   0.013753\n",
            "PHONE                     0.000054\n",
            "CUISINE DESCRIPTION       0.021255\n",
            "INSPECTION DATE           0.000000\n",
            "ACTION                    0.021255\n",
            "VIOLATION CODE            0.027051\n",
            "VIOLATION DESCRIPTION     0.027051\n",
            "CRITICAL FLAG             0.000000\n",
            "SCORE                     0.053488\n",
            "GRADE                     0.504984\n",
            "GRADE DATE                0.540296\n",
            "RECORD DATE               0.000000\n",
            "INSPECTION TYPE           0.021255\n",
            "Latitude                  0.001540\n",
            "Longitude                 0.001540\n",
            "Community Board           0.016769\n",
            "Council District          0.016769\n",
            "Census Tract              0.016769\n",
            "BIN                       0.022020\n",
            "BBL                       0.003148\n",
            "NTA                       0.016769\n",
            "Location Point1           1.000000\n",
            "Zip Codes                 1.000000\n",
            "Community Districts       1.000000\n",
            "Borough Boundaries        1.000000\n",
            "City Council Districts    1.000000\n",
            "Police Precincts          1.000000\n",
            "Name: mean, dtype: float64\n"
          ]
        }
      ],
      "source": [
        "null_stats = df.isna().astype(int).describe()\n",
        "print(null_stats.loc['mean', :])"
      ]
    },
    {
      "cell_type": "markdown",
      "id": "a17aa109",
      "metadata": {
        "id": "a17aa109"
      },
      "source": [
        " "
      ]
    },
    {
      "cell_type": "markdown",
      "id": "d424bd05",
      "metadata": {
        "id": "d424bd05"
      },
      "source": [
        "Drop columns which contain at least 50% null values"
      ]
    },
    {
      "cell_type": "code",
      "execution_count": 4,
      "id": "ac47a7bf",
      "metadata": {
        "scrolled": true,
        "colab": {
          "base_uri": "https://localhost:8080/",
          "height": 439
        },
        "id": "ac47a7bf",
        "outputId": "d55e2df8-b662-4464-e99a-c4f93d449c00"
      },
      "outputs": [
        {
          "output_type": "stream",
          "name": "stdout",
          "text": [
            "GRADE 0.5049840402841859\n",
            "GRADE DATE 0.5402964437536467\n",
            "Location Point1 1.0\n",
            "Zip Codes 1.0\n",
            "Community Districts 1.0\n",
            "Borough Boundaries 1.0\n",
            "City Council Districts 1.0\n",
            "Police Precincts 1.0\n"
          ]
        },
        {
          "output_type": "execute_result",
          "data": {
            "text/plain": [
              "              CAMIS        ZIPCODE          SCORE       Latitude  \\\n",
              "count  2.039510e+05  201146.000000  193042.000000  203637.000000   \n",
              "mean   4.726189e+07   10701.716494      21.952316      40.172066   \n",
              "std    4.147896e+06     593.847106      16.992658       4.724882   \n",
              "min    3.007544e+07    8512.000000       0.000000       0.000000   \n",
              "25%    4.159531e+07   10023.000000      11.000000      40.683423   \n",
              "50%    5.005502e+07   11101.000000      18.000000      40.730754   \n",
              "75%    5.009823e+07   11230.000000      29.000000      40.761606   \n",
              "max    5.013498e+07   14228.000000     157.000000      40.912822   \n",
              "\n",
              "           Longitude  Community Board  Council District   Census Tract  \\\n",
              "count  203637.000000    200531.000000     200531.000000  200531.000000   \n",
              "mean      -72.932447       252.679516         20.575527   29878.452658   \n",
              "std         8.577463       129.608585         15.775838   31372.564573   \n",
              "min       -74.249101       101.000000          1.000000     100.000000   \n",
              "25%       -73.988909       106.000000          4.000000    7900.000000   \n",
              "50%       -73.956289       302.000000         20.000000   17300.000000   \n",
              "75%       -73.896112       401.000000         34.000000   42200.000000   \n",
              "max         0.000000       595.000000         51.000000  162100.000000   \n",
              "\n",
              "                BIN           BBL  \n",
              "count  1.994600e+05  2.033090e+05  \n",
              "mean   2.554362e+06  2.441907e+09  \n",
              "std    1.340449e+06  1.332931e+09  \n",
              "min    1.000000e+06  1.000000e+00  \n",
              "25%    1.049985e+06  1.010640e+09  \n",
              "50%    3.016610e+06  3.006000e+09  \n",
              "75%    4.003516e+06  4.002340e+09  \n",
              "max    5.799501e+06  5.270001e+09  "
            ],
            "text/html": [
              "\n",
              "  <div id=\"df-39a65186-0d85-4018-82d5-0adcb948a801\">\n",
              "    <div class=\"colab-df-container\">\n",
              "      <div>\n",
              "<style scoped>\n",
              "    .dataframe tbody tr th:only-of-type {\n",
              "        vertical-align: middle;\n",
              "    }\n",
              "\n",
              "    .dataframe tbody tr th {\n",
              "        vertical-align: top;\n",
              "    }\n",
              "\n",
              "    .dataframe thead th {\n",
              "        text-align: right;\n",
              "    }\n",
              "</style>\n",
              "<table border=\"1\" class=\"dataframe\">\n",
              "  <thead>\n",
              "    <tr style=\"text-align: right;\">\n",
              "      <th></th>\n",
              "      <th>CAMIS</th>\n",
              "      <th>ZIPCODE</th>\n",
              "      <th>SCORE</th>\n",
              "      <th>Latitude</th>\n",
              "      <th>Longitude</th>\n",
              "      <th>Community Board</th>\n",
              "      <th>Council District</th>\n",
              "      <th>Census Tract</th>\n",
              "      <th>BIN</th>\n",
              "      <th>BBL</th>\n",
              "    </tr>\n",
              "  </thead>\n",
              "  <tbody>\n",
              "    <tr>\n",
              "      <th>count</th>\n",
              "      <td>2.039510e+05</td>\n",
              "      <td>201146.000000</td>\n",
              "      <td>193042.000000</td>\n",
              "      <td>203637.000000</td>\n",
              "      <td>203637.000000</td>\n",
              "      <td>200531.000000</td>\n",
              "      <td>200531.000000</td>\n",
              "      <td>200531.000000</td>\n",
              "      <td>1.994600e+05</td>\n",
              "      <td>2.033090e+05</td>\n",
              "    </tr>\n",
              "    <tr>\n",
              "      <th>mean</th>\n",
              "      <td>4.726189e+07</td>\n",
              "      <td>10701.716494</td>\n",
              "      <td>21.952316</td>\n",
              "      <td>40.172066</td>\n",
              "      <td>-72.932447</td>\n",
              "      <td>252.679516</td>\n",
              "      <td>20.575527</td>\n",
              "      <td>29878.452658</td>\n",
              "      <td>2.554362e+06</td>\n",
              "      <td>2.441907e+09</td>\n",
              "    </tr>\n",
              "    <tr>\n",
              "      <th>std</th>\n",
              "      <td>4.147896e+06</td>\n",
              "      <td>593.847106</td>\n",
              "      <td>16.992658</td>\n",
              "      <td>4.724882</td>\n",
              "      <td>8.577463</td>\n",
              "      <td>129.608585</td>\n",
              "      <td>15.775838</td>\n",
              "      <td>31372.564573</td>\n",
              "      <td>1.340449e+06</td>\n",
              "      <td>1.332931e+09</td>\n",
              "    </tr>\n",
              "    <tr>\n",
              "      <th>min</th>\n",
              "      <td>3.007544e+07</td>\n",
              "      <td>8512.000000</td>\n",
              "      <td>0.000000</td>\n",
              "      <td>0.000000</td>\n",
              "      <td>-74.249101</td>\n",
              "      <td>101.000000</td>\n",
              "      <td>1.000000</td>\n",
              "      <td>100.000000</td>\n",
              "      <td>1.000000e+06</td>\n",
              "      <td>1.000000e+00</td>\n",
              "    </tr>\n",
              "    <tr>\n",
              "      <th>25%</th>\n",
              "      <td>4.159531e+07</td>\n",
              "      <td>10023.000000</td>\n",
              "      <td>11.000000</td>\n",
              "      <td>40.683423</td>\n",
              "      <td>-73.988909</td>\n",
              "      <td>106.000000</td>\n",
              "      <td>4.000000</td>\n",
              "      <td>7900.000000</td>\n",
              "      <td>1.049985e+06</td>\n",
              "      <td>1.010640e+09</td>\n",
              "    </tr>\n",
              "    <tr>\n",
              "      <th>50%</th>\n",
              "      <td>5.005502e+07</td>\n",
              "      <td>11101.000000</td>\n",
              "      <td>18.000000</td>\n",
              "      <td>40.730754</td>\n",
              "      <td>-73.956289</td>\n",
              "      <td>302.000000</td>\n",
              "      <td>20.000000</td>\n",
              "      <td>17300.000000</td>\n",
              "      <td>3.016610e+06</td>\n",
              "      <td>3.006000e+09</td>\n",
              "    </tr>\n",
              "    <tr>\n",
              "      <th>75%</th>\n",
              "      <td>5.009823e+07</td>\n",
              "      <td>11230.000000</td>\n",
              "      <td>29.000000</td>\n",
              "      <td>40.761606</td>\n",
              "      <td>-73.896112</td>\n",
              "      <td>401.000000</td>\n",
              "      <td>34.000000</td>\n",
              "      <td>42200.000000</td>\n",
              "      <td>4.003516e+06</td>\n",
              "      <td>4.002340e+09</td>\n",
              "    </tr>\n",
              "    <tr>\n",
              "      <th>max</th>\n",
              "      <td>5.013498e+07</td>\n",
              "      <td>14228.000000</td>\n",
              "      <td>157.000000</td>\n",
              "      <td>40.912822</td>\n",
              "      <td>0.000000</td>\n",
              "      <td>595.000000</td>\n",
              "      <td>51.000000</td>\n",
              "      <td>162100.000000</td>\n",
              "      <td>5.799501e+06</td>\n",
              "      <td>5.270001e+09</td>\n",
              "    </tr>\n",
              "  </tbody>\n",
              "</table>\n",
              "</div>\n",
              "      <button class=\"colab-df-convert\" onclick=\"convertToInteractive('df-39a65186-0d85-4018-82d5-0adcb948a801')\"\n",
              "              title=\"Convert this dataframe to an interactive table.\"\n",
              "              style=\"display:none;\">\n",
              "        \n",
              "  <svg xmlns=\"http://www.w3.org/2000/svg\" height=\"24px\"viewBox=\"0 0 24 24\"\n",
              "       width=\"24px\">\n",
              "    <path d=\"M0 0h24v24H0V0z\" fill=\"none\"/>\n",
              "    <path d=\"M18.56 5.44l.94 2.06.94-2.06 2.06-.94-2.06-.94-.94-2.06-.94 2.06-2.06.94zm-11 1L8.5 8.5l.94-2.06 2.06-.94-2.06-.94L8.5 2.5l-.94 2.06-2.06.94zm10 10l.94 2.06.94-2.06 2.06-.94-2.06-.94-.94-2.06-.94 2.06-2.06.94z\"/><path d=\"M17.41 7.96l-1.37-1.37c-.4-.4-.92-.59-1.43-.59-.52 0-1.04.2-1.43.59L10.3 9.45l-7.72 7.72c-.78.78-.78 2.05 0 2.83L4 21.41c.39.39.9.59 1.41.59.51 0 1.02-.2 1.41-.59l7.78-7.78 2.81-2.81c.8-.78.8-2.07 0-2.86zM5.41 20L4 18.59l7.72-7.72 1.47 1.35L5.41 20z\"/>\n",
              "  </svg>\n",
              "      </button>\n",
              "      \n",
              "  <style>\n",
              "    .colab-df-container {\n",
              "      display:flex;\n",
              "      flex-wrap:wrap;\n",
              "      gap: 12px;\n",
              "    }\n",
              "\n",
              "    .colab-df-convert {\n",
              "      background-color: #E8F0FE;\n",
              "      border: none;\n",
              "      border-radius: 50%;\n",
              "      cursor: pointer;\n",
              "      display: none;\n",
              "      fill: #1967D2;\n",
              "      height: 32px;\n",
              "      padding: 0 0 0 0;\n",
              "      width: 32px;\n",
              "    }\n",
              "\n",
              "    .colab-df-convert:hover {\n",
              "      background-color: #E2EBFA;\n",
              "      box-shadow: 0px 1px 2px rgba(60, 64, 67, 0.3), 0px 1px 3px 1px rgba(60, 64, 67, 0.15);\n",
              "      fill: #174EA6;\n",
              "    }\n",
              "\n",
              "    [theme=dark] .colab-df-convert {\n",
              "      background-color: #3B4455;\n",
              "      fill: #D2E3FC;\n",
              "    }\n",
              "\n",
              "    [theme=dark] .colab-df-convert:hover {\n",
              "      background-color: #434B5C;\n",
              "      box-shadow: 0px 1px 3px 1px rgba(0, 0, 0, 0.15);\n",
              "      filter: drop-shadow(0px 1px 2px rgba(0, 0, 0, 0.3));\n",
              "      fill: #FFFFFF;\n",
              "    }\n",
              "  </style>\n",
              "\n",
              "      <script>\n",
              "        const buttonEl =\n",
              "          document.querySelector('#df-39a65186-0d85-4018-82d5-0adcb948a801 button.colab-df-convert');\n",
              "        buttonEl.style.display =\n",
              "          google.colab.kernel.accessAllowed ? 'block' : 'none';\n",
              "\n",
              "        async function convertToInteractive(key) {\n",
              "          const element = document.querySelector('#df-39a65186-0d85-4018-82d5-0adcb948a801');\n",
              "          const dataTable =\n",
              "            await google.colab.kernel.invokeFunction('convertToInteractive',\n",
              "                                                     [key], {});\n",
              "          if (!dataTable) return;\n",
              "\n",
              "          const docLinkHtml = 'Like what you see? Visit the ' +\n",
              "            '<a target=\"_blank\" href=https://colab.research.google.com/notebooks/data_table.ipynb>data table notebook</a>'\n",
              "            + ' to learn more about interactive tables.';\n",
              "          element.innerHTML = '';\n",
              "          dataTable['output_type'] = 'display_data';\n",
              "          await google.colab.output.renderOutput(dataTable, element);\n",
              "          const docLink = document.createElement('div');\n",
              "          docLink.innerHTML = docLinkHtml;\n",
              "          element.appendChild(docLink);\n",
              "        }\n",
              "      </script>\n",
              "    </div>\n",
              "  </div>\n",
              "  "
            ]
          },
          "metadata": {},
          "execution_count": 4
        }
      ],
      "source": [
        "# drop columns which contain at least 50% null values\n",
        "drop_columns = []\n",
        "for col in null_stats.columns:\n",
        "    if null_stats.loc['mean', col] >= 0.5:\n",
        "        print(col, null_stats.loc['mean', col])\n",
        "        drop_columns.append(col)\n",
        "\n",
        "df.drop(columns = drop_columns, inplace=True)\n",
        "df.describe()"
      ]
    },
    {
      "cell_type": "markdown",
      "id": "74689e25",
      "metadata": {
        "id": "74689e25"
      },
      "source": [
        " "
      ]
    },
    {
      "cell_type": "markdown",
      "id": "700bfaa6",
      "metadata": {
        "id": "700bfaa6"
      },
      "source": [
        "Check null stats for remaining columns"
      ]
    },
    {
      "cell_type": "code",
      "execution_count": 5,
      "id": "85211cd0",
      "metadata": {
        "colab": {
          "base_uri": "https://localhost:8080/"
        },
        "id": "85211cd0",
        "outputId": "bcbb5599-8d35-4398-c7e7-26b9c62b9671"
      },
      "outputs": [
        {
          "output_type": "execute_result",
          "data": {
            "text/plain": [
              "CAMIS                    0.000000\n",
              "DBA                      0.008443\n",
              "BORO                     0.000000\n",
              "BUILDING                 0.001956\n",
              "STREET                   0.000132\n",
              "ZIPCODE                  0.013753\n",
              "PHONE                    0.000054\n",
              "CUISINE DESCRIPTION      0.021255\n",
              "INSPECTION DATE          0.000000\n",
              "ACTION                   0.021255\n",
              "VIOLATION CODE           0.027051\n",
              "VIOLATION DESCRIPTION    0.027051\n",
              "CRITICAL FLAG            0.000000\n",
              "SCORE                    0.053488\n",
              "RECORD DATE              0.000000\n",
              "INSPECTION TYPE          0.021255\n",
              "Latitude                 0.001540\n",
              "Longitude                0.001540\n",
              "Community Board          0.016769\n",
              "Council District         0.016769\n",
              "Census Tract             0.016769\n",
              "BIN                      0.022020\n",
              "BBL                      0.003148\n",
              "NTA                      0.016769\n",
              "Name: mean, dtype: float64"
            ]
          },
          "metadata": {},
          "execution_count": 5
        }
      ],
      "source": [
        "df.isna().astype(int).describe().loc['mean', :]"
      ]
    },
    {
      "cell_type": "markdown",
      "id": "237c317c",
      "metadata": {
        "id": "237c317c"
      },
      "source": [
        " "
      ]
    },
    {
      "cell_type": "markdown",
      "id": "c0df569c",
      "metadata": {
        "id": "c0df569c"
      },
      "source": [
        " Discard columns that are not required for the analysis"
      ]
    },
    {
      "cell_type": "code",
      "execution_count": 6,
      "id": "413a0553",
      "metadata": {
        "colab": {
          "base_uri": "https://localhost:8080/"
        },
        "id": "413a0553",
        "outputId": "3e5525fd-7f9a-428f-af5e-667509ecfd3b"
      },
      "outputs": [
        {
          "output_type": "stream",
          "name": "stdout",
          "text": [
            "<class 'pandas.core.frame.DataFrame'>\n",
            "RangeIndex: 203951 entries, 0 to 203950\n",
            "Data columns (total 17 columns):\n",
            " #   Column                 Non-Null Count   Dtype  \n",
            "---  ------                 --------------   -----  \n",
            " 0   CAMIS                  203951 non-null  int64  \n",
            " 1   DBA                    202229 non-null  object \n",
            " 2   BORO                   203951 non-null  object \n",
            " 3   ZIPCODE                201146 non-null  float64\n",
            " 4   PHONE                  203940 non-null  object \n",
            " 5   CUISINE DESCRIPTION    199616 non-null  object \n",
            " 6   INSPECTION DATE        203951 non-null  object \n",
            " 7   ACTION                 199616 non-null  object \n",
            " 8   VIOLATION CODE         198434 non-null  object \n",
            " 9   VIOLATION DESCRIPTION  198434 non-null  object \n",
            " 10  CRITICAL FLAG          203951 non-null  object \n",
            " 11  SCORE                  193042 non-null  float64\n",
            " 12  INSPECTION TYPE        199616 non-null  object \n",
            " 13  Latitude               203637 non-null  float64\n",
            " 14  Longitude              203637 non-null  float64\n",
            " 15  BIN                    199460 non-null  float64\n",
            " 16  BBL                    203309 non-null  float64\n",
            "dtypes: float64(6), int64(1), object(10)\n",
            "memory usage: 26.5+ MB\n"
          ]
        }
      ],
      "source": [
        "\n",
        "df.drop(columns = ['BUILDING', 'STREET', 'RECORD DATE', 'Community Board', 'Council District', 'Census Tract', 'NTA'], inplace=True)\n",
        "df.info()"
      ]
    },
    {
      "cell_type": "markdown",
      "id": "b5f5db6b",
      "metadata": {
        "id": "b5f5db6b"
      },
      "source": [
        " "
      ]
    },
    {
      "cell_type": "markdown",
      "id": "dbe038fe",
      "metadata": {
        "id": "dbe038fe"
      },
      "source": [
        "Remove null values in the cusine description column"
      ]
    },
    {
      "cell_type": "code",
      "execution_count": 7,
      "id": "fa710e59",
      "metadata": {
        "scrolled": true,
        "colab": {
          "base_uri": "https://localhost:8080/"
        },
        "id": "fa710e59",
        "outputId": "0a5ca8f5-194d-4438-f7a2-cc45e70f9289"
      },
      "outputs": [
        {
          "output_type": "stream",
          "name": "stdout",
          "text": [
            "<class 'pandas.core.frame.DataFrame'>\n",
            "Int64Index: 199616 entries, 0 to 203950\n",
            "Data columns (total 17 columns):\n",
            " #   Column                 Non-Null Count   Dtype  \n",
            "---  ------                 --------------   -----  \n",
            " 0   CAMIS                  199616 non-null  int64  \n",
            " 1   DBA                    199616 non-null  object \n",
            " 2   BORO                   199616 non-null  object \n",
            " 3   ZIPCODE                196902 non-null  float64\n",
            " 4   PHONE                  199607 non-null  object \n",
            " 5   CUISINE DESCRIPTION    199616 non-null  object \n",
            " 6   INSPECTION DATE        199616 non-null  object \n",
            " 7   ACTION                 199616 non-null  object \n",
            " 8   VIOLATION CODE         198434 non-null  object \n",
            " 9   VIOLATION DESCRIPTION  198434 non-null  object \n",
            " 10  CRITICAL FLAG          199616 non-null  object \n",
            " 11  SCORE                  193042 non-null  float64\n",
            " 12  INSPECTION TYPE        199616 non-null  object \n",
            " 13  Latitude               199368 non-null  float64\n",
            " 14  Longitude              199368 non-null  float64\n",
            " 15  BIN                    195336 non-null  float64\n",
            " 16  BBL                    199049 non-null  float64\n",
            "dtypes: float64(6), int64(1), object(10)\n",
            "memory usage: 27.4+ MB\n"
          ]
        }
      ],
      "source": [
        "df = df[df['CUISINE DESCRIPTION'].notnull()]\n",
        "df.info()"
      ]
    },
    {
      "cell_type": "markdown",
      "id": "9c4bb3c5",
      "metadata": {
        "id": "9c4bb3c5"
      },
      "source": [
        " "
      ]
    },
    {
      "cell_type": "markdown",
      "id": "ba15a904",
      "metadata": {
        "id": "ba15a904"
      },
      "source": [
        "Check rows which have null zip codes"
      ]
    },
    {
      "cell_type": "code",
      "execution_count": 8,
      "id": "5761f502",
      "metadata": {
        "colab": {
          "base_uri": "https://localhost:8080/",
          "height": 1000
        },
        "id": "5761f502",
        "outputId": "1de0becc-85ea-498e-cb1d-85dd13a789fc"
      },
      "outputs": [
        {
          "output_type": "execute_result",
          "data": {
            "text/plain": [
              "        CAMIS                                   DBA       BORO  ZIPCODE  \\\n",
              "61   50105605         LALIBELA ETHIOPIAN RESTAURANT  Manhattan      NaN   \n",
              "79   41395519                  CITI FIELD STAND 321     Queens      NaN   \n",
              "96   50039447                           CHINA HOUSE      Bronx      NaN   \n",
              "170  50068583           RED STAR CHINESE RESTAURANT  Manhattan      NaN   \n",
              "287  41395496       CITI FIELD TWO BOOTS, STAND 318     Queens      NaN   \n",
              "293  41395505  CITI FIELD NATHAN'S FAMOUS STAND 325     Queens      NaN   \n",
              "321  41423331                CHOP-STICKS RESTAURANT      Bronx      NaN   \n",
              "338  41203533                    GREAT TASTE BAKERY  Manhattan      NaN   \n",
              "376  40720858         PIER SIXTY ONE-THE LIGHTHOUSE  Manhattan      NaN   \n",
              "459  41203533                    GREAT TASTE BAKERY  Manhattan      NaN   \n",
              "462  41184659                   LA CASA DEL MOFONGO  Manhattan      NaN   \n",
              "495  50018572     NIKKO HIBACHI STEAKHOUSE & LOUNGE     Queens      NaN   \n",
              "508  50001856                                DUNKIN  Manhattan      NaN   \n",
              "545  41276645                ECUATORIANA RESTAURANT  Manhattan      NaN   \n",
              "561  40958170                            SOHO HOUSE  Manhattan      NaN   \n",
              "563  41395419                  CITI FIELD STAND 402     Queens      NaN   \n",
              "767  41395378           CITI FIELD STERLING KITCHEN     Queens      NaN   \n",
              "822  40874933                    NUMERO 28 PIZZERIA  Manhattan      NaN   \n",
              "830  40874933                    NUMERO 28 PIZZERIA  Manhattan      NaN   \n",
              "842  50018572     NIKKO HIBACHI STEAKHOUSE & LOUNGE     Queens      NaN   \n",
              "\n",
              "          PHONE       CUISINE DESCRIPTION INSPECTION DATE  \\\n",
              "61   9178819775                 Ethiopian      11/29/2021   \n",
              "79   7185958100                  American      06/13/2017   \n",
              "96   7188936187                   Chinese      03/09/2019   \n",
              "170  6463355592                   Chinese      05/09/2019   \n",
              "287  7185958100                  American      06/07/2016   \n",
              "293  7185958100                   Hotdogs      06/07/2016   \n",
              "321  7182048119                   Chinese      04/04/2022   \n",
              "338  6466424110  Bakery Products/Desserts      08/16/2021   \n",
              "376  2123366146                  American      03/08/2022   \n",
              "459  6466424110  Bakery Products/Desserts      11/18/2019   \n",
              "462  2127401200            Latin American      02/23/2023   \n",
              "495  7188208818                  Japanese      08/23/2021   \n",
              "508  2122806414                    Donuts      08/29/2022   \n",
              "545  2124914626                   Spanish      03/08/2023   \n",
              "561  2126279800                  American      03/13/2020   \n",
              "563  7185958146                  American      06/05/2018   \n",
              "767  7185958100                  American      06/07/2016   \n",
              "822  2124639653                   Italian      05/25/2017   \n",
              "830  2124639653                   Italian      09/26/2019   \n",
              "842  7188208818                  Japanese      12/01/2021   \n",
              "\n",
              "                                                ACTION VIOLATION CODE  \\\n",
              "61     Violations were cited in the following area(s).            04M   \n",
              "79   No violations were recorded at the time of thi...            NaN   \n",
              "96     Violations were cited in the following area(s).            20F   \n",
              "170    Violations were cited in the following area(s).            04L   \n",
              "287  No violations were recorded at the time of thi...            NaN   \n",
              "293  No violations were recorded at the time of thi...            NaN   \n",
              "321    Violations were cited in the following area(s).            09B   \n",
              "338    Violations were cited in the following area(s).            22F   \n",
              "376    Violations were cited in the following area(s).            04L   \n",
              "459    Violations were cited in the following area(s).            02B   \n",
              "462    Violations were cited in the following area(s).            09B   \n",
              "495    Violations were cited in the following area(s).            02B   \n",
              "508    Violations were cited in the following area(s).            04L   \n",
              "545    Violations were cited in the following area(s).            02B   \n",
              "561    Violations were cited in the following area(s).            10J   \n",
              "563  No violations were recorded at the time of thi...            NaN   \n",
              "767  No violations were recorded at the time of thi...            NaN   \n",
              "822    Violations were cited in the following area(s).            09B   \n",
              "830  No violations were recorded at the time of thi...            NaN   \n",
              "842    Violations were cited in the following area(s).            06F   \n",
              "\n",
              "                                 VIOLATION DESCRIPTION   CRITICAL FLAG  SCORE  \\\n",
              "61   Live roaches present in facility's food and/or...        Critical   45.0   \n",
              "79                                                 NaN  Not Applicable    0.0   \n",
              "96               Current letter grade sign not posted.    Not Critical    NaN   \n",
              "170  Evidence of mice or live mice present in facil...        Critical   30.0   \n",
              "287                                                NaN  Not Applicable    0.0   \n",
              "293                                                NaN  Not Applicable    0.0   \n",
              "321                       Thawing procedures improper.    Not Critical    6.0   \n",
              "338                            MISBRANDED AND LABELING    Not Critical    NaN   \n",
              "376  Evidence of mice or live mice present in facil...        Critical   29.0   \n",
              "459         Hot food item not held at or above 140º F.        Critical   24.0   \n",
              "462                        Thawing procedure improper.    Not Critical   25.0   \n",
              "495         Hot food item not held at or above 140º F.        Critical   33.0   \n",
              "508  Evidence of mice or live mice in establishment...        Critical   26.0   \n",
              "545     Hot TCS food item not held at or above 140 °F.        Critical   12.0   \n",
              "561                          Hand wash sign not posted    Not Critical   23.0   \n",
              "563                                                NaN  Not Applicable    0.0   \n",
              "767                                                NaN  Not Applicable    0.0   \n",
              "822                       Thawing procedures improper.    Not Critical   12.0   \n",
              "830                                                NaN  Not Applicable    NaN   \n",
              "842  Wiping cloths soiled or not stored in sanitizi...        Critical   10.0   \n",
              "\n",
              "                                       INSPECTION TYPE  Latitude  Longitude  \\\n",
              "61       Pre-permit (Operational) / Initial Inspection       0.0        0.0   \n",
              "79               Cycle Inspection / Initial Inspection       0.0        0.0   \n",
              "96   Administrative Miscellaneous / Initial Inspection       0.0        0.0   \n",
              "170              Cycle Inspection / Initial Inspection       0.0        0.0   \n",
              "287              Cycle Inspection / Initial Inspection       0.0        0.0   \n",
              "293              Cycle Inspection / Initial Inspection       0.0        0.0   \n",
              "321              Cycle Inspection / Initial Inspection       0.0        0.0   \n",
              "338  Administrative Miscellaneous / Initial Inspection       0.0        0.0   \n",
              "376              Cycle Inspection / Initial Inspection       0.0        0.0   \n",
              "459                   Cycle Inspection / Re-inspection       0.0        0.0   \n",
              "462              Cycle Inspection / Initial Inspection       0.0        0.0   \n",
              "495              Cycle Inspection / Initial Inspection       0.0        0.0   \n",
              "508              Cycle Inspection / Initial Inspection       0.0        0.0   \n",
              "545                   Cycle Inspection / Re-inspection       0.0        0.0   \n",
              "561              Cycle Inspection / Initial Inspection       0.0        0.0   \n",
              "563              Cycle Inspection / Initial Inspection       0.0        0.0   \n",
              "767              Cycle Inspection / Initial Inspection       0.0        0.0   \n",
              "822              Cycle Inspection / Initial Inspection       0.0        0.0   \n",
              "830       Administrative Miscellaneous / Re-inspection       0.0        0.0   \n",
              "842                   Cycle Inspection / Re-inspection       0.0        0.0   \n",
              "\n",
              "     BIN  BBL  \n",
              "61   NaN  1.0  \n",
              "79   NaN  4.0  \n",
              "96   NaN  2.0  \n",
              "170  NaN  1.0  \n",
              "287  NaN  4.0  \n",
              "293  NaN  4.0  \n",
              "321  NaN  2.0  \n",
              "338  NaN  1.0  \n",
              "376  NaN  1.0  \n",
              "459  NaN  1.0  \n",
              "462  NaN  1.0  \n",
              "495  NaN  4.0  \n",
              "508  NaN  1.0  \n",
              "545  NaN  1.0  \n",
              "561  NaN  1.0  \n",
              "563  NaN  4.0  \n",
              "767  NaN  4.0  \n",
              "822  NaN  1.0  \n",
              "830  NaN  1.0  \n",
              "842  NaN  4.0  "
            ],
            "text/html": [
              "\n",
              "  <div id=\"df-5d051aba-44e9-43b0-b41d-e107ec7fbcf9\">\n",
              "    <div class=\"colab-df-container\">\n",
              "      <div>\n",
              "<style scoped>\n",
              "    .dataframe tbody tr th:only-of-type {\n",
              "        vertical-align: middle;\n",
              "    }\n",
              "\n",
              "    .dataframe tbody tr th {\n",
              "        vertical-align: top;\n",
              "    }\n",
              "\n",
              "    .dataframe thead th {\n",
              "        text-align: right;\n",
              "    }\n",
              "</style>\n",
              "<table border=\"1\" class=\"dataframe\">\n",
              "  <thead>\n",
              "    <tr style=\"text-align: right;\">\n",
              "      <th></th>\n",
              "      <th>CAMIS</th>\n",
              "      <th>DBA</th>\n",
              "      <th>BORO</th>\n",
              "      <th>ZIPCODE</th>\n",
              "      <th>PHONE</th>\n",
              "      <th>CUISINE DESCRIPTION</th>\n",
              "      <th>INSPECTION DATE</th>\n",
              "      <th>ACTION</th>\n",
              "      <th>VIOLATION CODE</th>\n",
              "      <th>VIOLATION DESCRIPTION</th>\n",
              "      <th>CRITICAL FLAG</th>\n",
              "      <th>SCORE</th>\n",
              "      <th>INSPECTION TYPE</th>\n",
              "      <th>Latitude</th>\n",
              "      <th>Longitude</th>\n",
              "      <th>BIN</th>\n",
              "      <th>BBL</th>\n",
              "    </tr>\n",
              "  </thead>\n",
              "  <tbody>\n",
              "    <tr>\n",
              "      <th>61</th>\n",
              "      <td>50105605</td>\n",
              "      <td>LALIBELA ETHIOPIAN RESTAURANT</td>\n",
              "      <td>Manhattan</td>\n",
              "      <td>NaN</td>\n",
              "      <td>9178819775</td>\n",
              "      <td>Ethiopian</td>\n",
              "      <td>11/29/2021</td>\n",
              "      <td>Violations were cited in the following area(s).</td>\n",
              "      <td>04M</td>\n",
              "      <td>Live roaches present in facility's food and/or...</td>\n",
              "      <td>Critical</td>\n",
              "      <td>45.0</td>\n",
              "      <td>Pre-permit (Operational) / Initial Inspection</td>\n",
              "      <td>0.0</td>\n",
              "      <td>0.0</td>\n",
              "      <td>NaN</td>\n",
              "      <td>1.0</td>\n",
              "    </tr>\n",
              "    <tr>\n",
              "      <th>79</th>\n",
              "      <td>41395519</td>\n",
              "      <td>CITI FIELD STAND 321</td>\n",
              "      <td>Queens</td>\n",
              "      <td>NaN</td>\n",
              "      <td>7185958100</td>\n",
              "      <td>American</td>\n",
              "      <td>06/13/2017</td>\n",
              "      <td>No violations were recorded at the time of thi...</td>\n",
              "      <td>NaN</td>\n",
              "      <td>NaN</td>\n",
              "      <td>Not Applicable</td>\n",
              "      <td>0.0</td>\n",
              "      <td>Cycle Inspection / Initial Inspection</td>\n",
              "      <td>0.0</td>\n",
              "      <td>0.0</td>\n",
              "      <td>NaN</td>\n",
              "      <td>4.0</td>\n",
              "    </tr>\n",
              "    <tr>\n",
              "      <th>96</th>\n",
              "      <td>50039447</td>\n",
              "      <td>CHINA HOUSE</td>\n",
              "      <td>Bronx</td>\n",
              "      <td>NaN</td>\n",
              "      <td>7188936187</td>\n",
              "      <td>Chinese</td>\n",
              "      <td>03/09/2019</td>\n",
              "      <td>Violations were cited in the following area(s).</td>\n",
              "      <td>20F</td>\n",
              "      <td>Current letter grade sign not posted.</td>\n",
              "      <td>Not Critical</td>\n",
              "      <td>NaN</td>\n",
              "      <td>Administrative Miscellaneous / Initial Inspection</td>\n",
              "      <td>0.0</td>\n",
              "      <td>0.0</td>\n",
              "      <td>NaN</td>\n",
              "      <td>2.0</td>\n",
              "    </tr>\n",
              "    <tr>\n",
              "      <th>170</th>\n",
              "      <td>50068583</td>\n",
              "      <td>RED STAR CHINESE RESTAURANT</td>\n",
              "      <td>Manhattan</td>\n",
              "      <td>NaN</td>\n",
              "      <td>6463355592</td>\n",
              "      <td>Chinese</td>\n",
              "      <td>05/09/2019</td>\n",
              "      <td>Violations were cited in the following area(s).</td>\n",
              "      <td>04L</td>\n",
              "      <td>Evidence of mice or live mice present in facil...</td>\n",
              "      <td>Critical</td>\n",
              "      <td>30.0</td>\n",
              "      <td>Cycle Inspection / Initial Inspection</td>\n",
              "      <td>0.0</td>\n",
              "      <td>0.0</td>\n",
              "      <td>NaN</td>\n",
              "      <td>1.0</td>\n",
              "    </tr>\n",
              "    <tr>\n",
              "      <th>287</th>\n",
              "      <td>41395496</td>\n",
              "      <td>CITI FIELD TWO BOOTS, STAND 318</td>\n",
              "      <td>Queens</td>\n",
              "      <td>NaN</td>\n",
              "      <td>7185958100</td>\n",
              "      <td>American</td>\n",
              "      <td>06/07/2016</td>\n",
              "      <td>No violations were recorded at the time of thi...</td>\n",
              "      <td>NaN</td>\n",
              "      <td>NaN</td>\n",
              "      <td>Not Applicable</td>\n",
              "      <td>0.0</td>\n",
              "      <td>Cycle Inspection / Initial Inspection</td>\n",
              "      <td>0.0</td>\n",
              "      <td>0.0</td>\n",
              "      <td>NaN</td>\n",
              "      <td>4.0</td>\n",
              "    </tr>\n",
              "    <tr>\n",
              "      <th>293</th>\n",
              "      <td>41395505</td>\n",
              "      <td>CITI FIELD NATHAN'S FAMOUS STAND 325</td>\n",
              "      <td>Queens</td>\n",
              "      <td>NaN</td>\n",
              "      <td>7185958100</td>\n",
              "      <td>Hotdogs</td>\n",
              "      <td>06/07/2016</td>\n",
              "      <td>No violations were recorded at the time of thi...</td>\n",
              "      <td>NaN</td>\n",
              "      <td>NaN</td>\n",
              "      <td>Not Applicable</td>\n",
              "      <td>0.0</td>\n",
              "      <td>Cycle Inspection / Initial Inspection</td>\n",
              "      <td>0.0</td>\n",
              "      <td>0.0</td>\n",
              "      <td>NaN</td>\n",
              "      <td>4.0</td>\n",
              "    </tr>\n",
              "    <tr>\n",
              "      <th>321</th>\n",
              "      <td>41423331</td>\n",
              "      <td>CHOP-STICKS RESTAURANT</td>\n",
              "      <td>Bronx</td>\n",
              "      <td>NaN</td>\n",
              "      <td>7182048119</td>\n",
              "      <td>Chinese</td>\n",
              "      <td>04/04/2022</td>\n",
              "      <td>Violations were cited in the following area(s).</td>\n",
              "      <td>09B</td>\n",
              "      <td>Thawing procedures improper.</td>\n",
              "      <td>Not Critical</td>\n",
              "      <td>6.0</td>\n",
              "      <td>Cycle Inspection / Initial Inspection</td>\n",
              "      <td>0.0</td>\n",
              "      <td>0.0</td>\n",
              "      <td>NaN</td>\n",
              "      <td>2.0</td>\n",
              "    </tr>\n",
              "    <tr>\n",
              "      <th>338</th>\n",
              "      <td>41203533</td>\n",
              "      <td>GREAT TASTE BAKERY</td>\n",
              "      <td>Manhattan</td>\n",
              "      <td>NaN</td>\n",
              "      <td>6466424110</td>\n",
              "      <td>Bakery Products/Desserts</td>\n",
              "      <td>08/16/2021</td>\n",
              "      <td>Violations were cited in the following area(s).</td>\n",
              "      <td>22F</td>\n",
              "      <td>MISBRANDED AND LABELING</td>\n",
              "      <td>Not Critical</td>\n",
              "      <td>NaN</td>\n",
              "      <td>Administrative Miscellaneous / Initial Inspection</td>\n",
              "      <td>0.0</td>\n",
              "      <td>0.0</td>\n",
              "      <td>NaN</td>\n",
              "      <td>1.0</td>\n",
              "    </tr>\n",
              "    <tr>\n",
              "      <th>376</th>\n",
              "      <td>40720858</td>\n",
              "      <td>PIER SIXTY ONE-THE LIGHTHOUSE</td>\n",
              "      <td>Manhattan</td>\n",
              "      <td>NaN</td>\n",
              "      <td>2123366146</td>\n",
              "      <td>American</td>\n",
              "      <td>03/08/2022</td>\n",
              "      <td>Violations were cited in the following area(s).</td>\n",
              "      <td>04L</td>\n",
              "      <td>Evidence of mice or live mice present in facil...</td>\n",
              "      <td>Critical</td>\n",
              "      <td>29.0</td>\n",
              "      <td>Cycle Inspection / Initial Inspection</td>\n",
              "      <td>0.0</td>\n",
              "      <td>0.0</td>\n",
              "      <td>NaN</td>\n",
              "      <td>1.0</td>\n",
              "    </tr>\n",
              "    <tr>\n",
              "      <th>459</th>\n",
              "      <td>41203533</td>\n",
              "      <td>GREAT TASTE BAKERY</td>\n",
              "      <td>Manhattan</td>\n",
              "      <td>NaN</td>\n",
              "      <td>6466424110</td>\n",
              "      <td>Bakery Products/Desserts</td>\n",
              "      <td>11/18/2019</td>\n",
              "      <td>Violations were cited in the following area(s).</td>\n",
              "      <td>02B</td>\n",
              "      <td>Hot food item not held at or above 140º F.</td>\n",
              "      <td>Critical</td>\n",
              "      <td>24.0</td>\n",
              "      <td>Cycle Inspection / Re-inspection</td>\n",
              "      <td>0.0</td>\n",
              "      <td>0.0</td>\n",
              "      <td>NaN</td>\n",
              "      <td>1.0</td>\n",
              "    </tr>\n",
              "    <tr>\n",
              "      <th>462</th>\n",
              "      <td>41184659</td>\n",
              "      <td>LA CASA DEL MOFONGO</td>\n",
              "      <td>Manhattan</td>\n",
              "      <td>NaN</td>\n",
              "      <td>2127401200</td>\n",
              "      <td>Latin American</td>\n",
              "      <td>02/23/2023</td>\n",
              "      <td>Violations were cited in the following area(s).</td>\n",
              "      <td>09B</td>\n",
              "      <td>Thawing procedure improper.</td>\n",
              "      <td>Not Critical</td>\n",
              "      <td>25.0</td>\n",
              "      <td>Cycle Inspection / Initial Inspection</td>\n",
              "      <td>0.0</td>\n",
              "      <td>0.0</td>\n",
              "      <td>NaN</td>\n",
              "      <td>1.0</td>\n",
              "    </tr>\n",
              "    <tr>\n",
              "      <th>495</th>\n",
              "      <td>50018572</td>\n",
              "      <td>NIKKO HIBACHI STEAKHOUSE &amp; LOUNGE</td>\n",
              "      <td>Queens</td>\n",
              "      <td>NaN</td>\n",
              "      <td>7188208818</td>\n",
              "      <td>Japanese</td>\n",
              "      <td>08/23/2021</td>\n",
              "      <td>Violations were cited in the following area(s).</td>\n",
              "      <td>02B</td>\n",
              "      <td>Hot food item not held at or above 140º F.</td>\n",
              "      <td>Critical</td>\n",
              "      <td>33.0</td>\n",
              "      <td>Cycle Inspection / Initial Inspection</td>\n",
              "      <td>0.0</td>\n",
              "      <td>0.0</td>\n",
              "      <td>NaN</td>\n",
              "      <td>4.0</td>\n",
              "    </tr>\n",
              "    <tr>\n",
              "      <th>508</th>\n",
              "      <td>50001856</td>\n",
              "      <td>DUNKIN</td>\n",
              "      <td>Manhattan</td>\n",
              "      <td>NaN</td>\n",
              "      <td>2122806414</td>\n",
              "      <td>Donuts</td>\n",
              "      <td>08/29/2022</td>\n",
              "      <td>Violations were cited in the following area(s).</td>\n",
              "      <td>04L</td>\n",
              "      <td>Evidence of mice or live mice in establishment...</td>\n",
              "      <td>Critical</td>\n",
              "      <td>26.0</td>\n",
              "      <td>Cycle Inspection / Initial Inspection</td>\n",
              "      <td>0.0</td>\n",
              "      <td>0.0</td>\n",
              "      <td>NaN</td>\n",
              "      <td>1.0</td>\n",
              "    </tr>\n",
              "    <tr>\n",
              "      <th>545</th>\n",
              "      <td>41276645</td>\n",
              "      <td>ECUATORIANA RESTAURANT</td>\n",
              "      <td>Manhattan</td>\n",
              "      <td>NaN</td>\n",
              "      <td>2124914626</td>\n",
              "      <td>Spanish</td>\n",
              "      <td>03/08/2023</td>\n",
              "      <td>Violations were cited in the following area(s).</td>\n",
              "      <td>02B</td>\n",
              "      <td>Hot TCS food item not held at or above 140 °F.</td>\n",
              "      <td>Critical</td>\n",
              "      <td>12.0</td>\n",
              "      <td>Cycle Inspection / Re-inspection</td>\n",
              "      <td>0.0</td>\n",
              "      <td>0.0</td>\n",
              "      <td>NaN</td>\n",
              "      <td>1.0</td>\n",
              "    </tr>\n",
              "    <tr>\n",
              "      <th>561</th>\n",
              "      <td>40958170</td>\n",
              "      <td>SOHO HOUSE</td>\n",
              "      <td>Manhattan</td>\n",
              "      <td>NaN</td>\n",
              "      <td>2126279800</td>\n",
              "      <td>American</td>\n",
              "      <td>03/13/2020</td>\n",
              "      <td>Violations were cited in the following area(s).</td>\n",
              "      <td>10J</td>\n",
              "      <td>Hand wash sign not posted</td>\n",
              "      <td>Not Critical</td>\n",
              "      <td>23.0</td>\n",
              "      <td>Cycle Inspection / Initial Inspection</td>\n",
              "      <td>0.0</td>\n",
              "      <td>0.0</td>\n",
              "      <td>NaN</td>\n",
              "      <td>1.0</td>\n",
              "    </tr>\n",
              "    <tr>\n",
              "      <th>563</th>\n",
              "      <td>41395419</td>\n",
              "      <td>CITI FIELD STAND 402</td>\n",
              "      <td>Queens</td>\n",
              "      <td>NaN</td>\n",
              "      <td>7185958146</td>\n",
              "      <td>American</td>\n",
              "      <td>06/05/2018</td>\n",
              "      <td>No violations were recorded at the time of thi...</td>\n",
              "      <td>NaN</td>\n",
              "      <td>NaN</td>\n",
              "      <td>Not Applicable</td>\n",
              "      <td>0.0</td>\n",
              "      <td>Cycle Inspection / Initial Inspection</td>\n",
              "      <td>0.0</td>\n",
              "      <td>0.0</td>\n",
              "      <td>NaN</td>\n",
              "      <td>4.0</td>\n",
              "    </tr>\n",
              "    <tr>\n",
              "      <th>767</th>\n",
              "      <td>41395378</td>\n",
              "      <td>CITI FIELD STERLING KITCHEN</td>\n",
              "      <td>Queens</td>\n",
              "      <td>NaN</td>\n",
              "      <td>7185958100</td>\n",
              "      <td>American</td>\n",
              "      <td>06/07/2016</td>\n",
              "      <td>No violations were recorded at the time of thi...</td>\n",
              "      <td>NaN</td>\n",
              "      <td>NaN</td>\n",
              "      <td>Not Applicable</td>\n",
              "      <td>0.0</td>\n",
              "      <td>Cycle Inspection / Initial Inspection</td>\n",
              "      <td>0.0</td>\n",
              "      <td>0.0</td>\n",
              "      <td>NaN</td>\n",
              "      <td>4.0</td>\n",
              "    </tr>\n",
              "    <tr>\n",
              "      <th>822</th>\n",
              "      <td>40874933</td>\n",
              "      <td>NUMERO 28 PIZZERIA</td>\n",
              "      <td>Manhattan</td>\n",
              "      <td>NaN</td>\n",
              "      <td>2124639653</td>\n",
              "      <td>Italian</td>\n",
              "      <td>05/25/2017</td>\n",
              "      <td>Violations were cited in the following area(s).</td>\n",
              "      <td>09B</td>\n",
              "      <td>Thawing procedures improper.</td>\n",
              "      <td>Not Critical</td>\n",
              "      <td>12.0</td>\n",
              "      <td>Cycle Inspection / Initial Inspection</td>\n",
              "      <td>0.0</td>\n",
              "      <td>0.0</td>\n",
              "      <td>NaN</td>\n",
              "      <td>1.0</td>\n",
              "    </tr>\n",
              "    <tr>\n",
              "      <th>830</th>\n",
              "      <td>40874933</td>\n",
              "      <td>NUMERO 28 PIZZERIA</td>\n",
              "      <td>Manhattan</td>\n",
              "      <td>NaN</td>\n",
              "      <td>2124639653</td>\n",
              "      <td>Italian</td>\n",
              "      <td>09/26/2019</td>\n",
              "      <td>No violations were recorded at the time of thi...</td>\n",
              "      <td>NaN</td>\n",
              "      <td>NaN</td>\n",
              "      <td>Not Applicable</td>\n",
              "      <td>NaN</td>\n",
              "      <td>Administrative Miscellaneous / Re-inspection</td>\n",
              "      <td>0.0</td>\n",
              "      <td>0.0</td>\n",
              "      <td>NaN</td>\n",
              "      <td>1.0</td>\n",
              "    </tr>\n",
              "    <tr>\n",
              "      <th>842</th>\n",
              "      <td>50018572</td>\n",
              "      <td>NIKKO HIBACHI STEAKHOUSE &amp; LOUNGE</td>\n",
              "      <td>Queens</td>\n",
              "      <td>NaN</td>\n",
              "      <td>7188208818</td>\n",
              "      <td>Japanese</td>\n",
              "      <td>12/01/2021</td>\n",
              "      <td>Violations were cited in the following area(s).</td>\n",
              "      <td>06F</td>\n",
              "      <td>Wiping cloths soiled or not stored in sanitizi...</td>\n",
              "      <td>Critical</td>\n",
              "      <td>10.0</td>\n",
              "      <td>Cycle Inspection / Re-inspection</td>\n",
              "      <td>0.0</td>\n",
              "      <td>0.0</td>\n",
              "      <td>NaN</td>\n",
              "      <td>4.0</td>\n",
              "    </tr>\n",
              "  </tbody>\n",
              "</table>\n",
              "</div>\n",
              "      <button class=\"colab-df-convert\" onclick=\"convertToInteractive('df-5d051aba-44e9-43b0-b41d-e107ec7fbcf9')\"\n",
              "              title=\"Convert this dataframe to an interactive table.\"\n",
              "              style=\"display:none;\">\n",
              "        \n",
              "  <svg xmlns=\"http://www.w3.org/2000/svg\" height=\"24px\"viewBox=\"0 0 24 24\"\n",
              "       width=\"24px\">\n",
              "    <path d=\"M0 0h24v24H0V0z\" fill=\"none\"/>\n",
              "    <path d=\"M18.56 5.44l.94 2.06.94-2.06 2.06-.94-2.06-.94-.94-2.06-.94 2.06-2.06.94zm-11 1L8.5 8.5l.94-2.06 2.06-.94-2.06-.94L8.5 2.5l-.94 2.06-2.06.94zm10 10l.94 2.06.94-2.06 2.06-.94-2.06-.94-.94-2.06-.94 2.06-2.06.94z\"/><path d=\"M17.41 7.96l-1.37-1.37c-.4-.4-.92-.59-1.43-.59-.52 0-1.04.2-1.43.59L10.3 9.45l-7.72 7.72c-.78.78-.78 2.05 0 2.83L4 21.41c.39.39.9.59 1.41.59.51 0 1.02-.2 1.41-.59l7.78-7.78 2.81-2.81c.8-.78.8-2.07 0-2.86zM5.41 20L4 18.59l7.72-7.72 1.47 1.35L5.41 20z\"/>\n",
              "  </svg>\n",
              "      </button>\n",
              "      \n",
              "  <style>\n",
              "    .colab-df-container {\n",
              "      display:flex;\n",
              "      flex-wrap:wrap;\n",
              "      gap: 12px;\n",
              "    }\n",
              "\n",
              "    .colab-df-convert {\n",
              "      background-color: #E8F0FE;\n",
              "      border: none;\n",
              "      border-radius: 50%;\n",
              "      cursor: pointer;\n",
              "      display: none;\n",
              "      fill: #1967D2;\n",
              "      height: 32px;\n",
              "      padding: 0 0 0 0;\n",
              "      width: 32px;\n",
              "    }\n",
              "\n",
              "    .colab-df-convert:hover {\n",
              "      background-color: #E2EBFA;\n",
              "      box-shadow: 0px 1px 2px rgba(60, 64, 67, 0.3), 0px 1px 3px 1px rgba(60, 64, 67, 0.15);\n",
              "      fill: #174EA6;\n",
              "    }\n",
              "\n",
              "    [theme=dark] .colab-df-convert {\n",
              "      background-color: #3B4455;\n",
              "      fill: #D2E3FC;\n",
              "    }\n",
              "\n",
              "    [theme=dark] .colab-df-convert:hover {\n",
              "      background-color: #434B5C;\n",
              "      box-shadow: 0px 1px 3px 1px rgba(0, 0, 0, 0.15);\n",
              "      filter: drop-shadow(0px 1px 2px rgba(0, 0, 0, 0.3));\n",
              "      fill: #FFFFFF;\n",
              "    }\n",
              "  </style>\n",
              "\n",
              "      <script>\n",
              "        const buttonEl =\n",
              "          document.querySelector('#df-5d051aba-44e9-43b0-b41d-e107ec7fbcf9 button.colab-df-convert');\n",
              "        buttonEl.style.display =\n",
              "          google.colab.kernel.accessAllowed ? 'block' : 'none';\n",
              "\n",
              "        async function convertToInteractive(key) {\n",
              "          const element = document.querySelector('#df-5d051aba-44e9-43b0-b41d-e107ec7fbcf9');\n",
              "          const dataTable =\n",
              "            await google.colab.kernel.invokeFunction('convertToInteractive',\n",
              "                                                     [key], {});\n",
              "          if (!dataTable) return;\n",
              "\n",
              "          const docLinkHtml = 'Like what you see? Visit the ' +\n",
              "            '<a target=\"_blank\" href=https://colab.research.google.com/notebooks/data_table.ipynb>data table notebook</a>'\n",
              "            + ' to learn more about interactive tables.';\n",
              "          element.innerHTML = '';\n",
              "          dataTable['output_type'] = 'display_data';\n",
              "          await google.colab.output.renderOutput(dataTable, element);\n",
              "          const docLink = document.createElement('div');\n",
              "          docLink.innerHTML = docLinkHtml;\n",
              "          element.appendChild(docLink);\n",
              "        }\n",
              "      </script>\n",
              "    </div>\n",
              "  </div>\n",
              "  "
            ]
          },
          "metadata": {},
          "execution_count": 8
        }
      ],
      "source": [
        "\n",
        "df[df['ZIPCODE'].isnull()].head(20)"
      ]
    },
    {
      "cell_type": "markdown",
      "id": "8a4ba217",
      "metadata": {
        "id": "8a4ba217"
      },
      "source": [
        "As the data above doesn't represent a specific sub population we can drop the small number of rows. \n",
        "Therefore we will remove null values in the zipcode column"
      ]
    },
    {
      "cell_type": "code",
      "execution_count": 9,
      "id": "683b82ab",
      "metadata": {
        "colab": {
          "base_uri": "https://localhost:8080/"
        },
        "id": "683b82ab",
        "outputId": "594adf5e-8b9e-42f8-a344-c8910cd180b9"
      },
      "outputs": [
        {
          "output_type": "stream",
          "name": "stdout",
          "text": [
            "<class 'pandas.core.frame.DataFrame'>\n",
            "Int64Index: 196902 entries, 0 to 203950\n",
            "Data columns (total 17 columns):\n",
            " #   Column                 Non-Null Count   Dtype  \n",
            "---  ------                 --------------   -----  \n",
            " 0   CAMIS                  196902 non-null  int64  \n",
            " 1   DBA                    196902 non-null  object \n",
            " 2   BORO                   196902 non-null  object \n",
            " 3   ZIPCODE                196902 non-null  float64\n",
            " 4   PHONE                  196893 non-null  object \n",
            " 5   CUISINE DESCRIPTION    196902 non-null  object \n",
            " 6   INSPECTION DATE        196902 non-null  object \n",
            " 7   ACTION                 196902 non-null  object \n",
            " 8   VIOLATION CODE         195786 non-null  object \n",
            " 9   VIOLATION DESCRIPTION  195786 non-null  object \n",
            " 10  CRITICAL FLAG          196902 non-null  object \n",
            " 11  SCORE                  190413 non-null  float64\n",
            " 12  INSPECTION TYPE        196902 non-null  object \n",
            " 13  Latitude               196654 non-null  float64\n",
            " 14  Longitude              196654 non-null  float64\n",
            " 15  BIN                    195318 non-null  float64\n",
            " 16  BBL                    196335 non-null  float64\n",
            "dtypes: float64(6), int64(1), object(10)\n",
            "memory usage: 27.0+ MB\n"
          ]
        }
      ],
      "source": [
        "\n",
        "df = df[df['ZIPCODE'].notnull()]\n",
        "df.info()"
      ]
    },
    {
      "cell_type": "markdown",
      "id": "fa6c1110",
      "metadata": {
        "id": "fa6c1110"
      },
      "source": [
        " "
      ]
    },
    {
      "cell_type": "markdown",
      "id": "bd4fff05",
      "metadata": {
        "id": "bd4fff05"
      },
      "source": [
        "Convert INSPECTION DATE column to datetime"
      ]
    },
    {
      "cell_type": "code",
      "execution_count": 10,
      "id": "b2db6720",
      "metadata": {
        "id": "b2db6720"
      },
      "outputs": [],
      "source": [
        "\n",
        "df[\"INSPECTION DATE\"] = pd.to_datetime(df[\"INSPECTION DATE\"])\n",
        "df['INSPECTION YEAR'] = df['INSPECTION DATE'].dt.year"
      ]
    },
    {
      "cell_type": "code",
      "execution_count": 11,
      "id": "88d49cf4",
      "metadata": {
        "colab": {
          "base_uri": "https://localhost:8080/"
        },
        "id": "88d49cf4",
        "outputId": "b9a24093-5766-472c-9e35-263093904429"
      },
      "outputs": [
        {
          "output_type": "execute_result",
          "data": {
            "text/plain": [
              "INSPECTION YEAR\n",
              "2022    91126\n",
              "2023    31864\n",
              "2019    29828\n",
              "2021    21439\n",
              "2020    16034\n",
              "2018     3771\n",
              "2017     2229\n",
              "2016      582\n",
              "2015       20\n",
              "2013        6\n",
              "2012        2\n",
              "2011        1\n",
              "Name: INSPECTION YEAR, dtype: int64"
            ]
          },
          "metadata": {},
          "execution_count": 11
        }
      ],
      "source": [
        "# find rows where inspection date is < 2016 or  > 2023\n",
        "df2 = df.groupby(['INSPECTION YEAR'])['INSPECTION YEAR'].count()\n",
        "df2.sort_values(ascending = False).head(15)"
      ]
    },
    {
      "cell_type": "markdown",
      "id": "9e712a51",
      "metadata": {
        "id": "9e712a51"
      },
      "source": [
        " "
      ]
    },
    {
      "cell_type": "markdown",
      "id": "f5e60205",
      "metadata": {
        "id": "f5e60205"
      },
      "source": [
        "Removing the small fraction of rows which have inspection year <= 2016"
      ]
    },
    {
      "cell_type": "code",
      "execution_count": 12,
      "id": "b789192d",
      "metadata": {
        "id": "b789192d"
      },
      "outputs": [],
      "source": [
        "df = df[df['INSPECTION YEAR'] > 2016]"
      ]
    },
    {
      "cell_type": "markdown",
      "id": "76dc8429",
      "metadata": {
        "id": "76dc8429"
      },
      "source": [
        "Drop duplicate rows"
      ]
    },
    {
      "cell_type": "code",
      "execution_count": 13,
      "id": "cb9c6f00",
      "metadata": {
        "id": "cb9c6f00"
      },
      "outputs": [],
      "source": [
        "df = df.drop_duplicates()"
      ]
    },
    {
      "cell_type": "markdown",
      "id": "376c5cd4",
      "metadata": {
        "id": "376c5cd4"
      },
      "source": [
        "Counting unique values in CAMIS column: Establishments are uniquely identified by their CAMIS (record ID) number.\n"
      ]
    },
    {
      "cell_type": "code",
      "execution_count": 14,
      "id": "bf171569",
      "metadata": {
        "colab": {
          "base_uri": "https://localhost:8080/"
        },
        "id": "bf171569",
        "outputId": "b88bb2c8-5f1c-4ad9-edef-333ef0f1e92c"
      },
      "outputs": [
        {
          "output_type": "stream",
          "name": "stdout",
          "text": [
            "23624\n",
            "196290\n"
          ]
        }
      ],
      "source": [
        "print(len(df[\"CAMIS\"].unique()))\n",
        "print(len(df.index))"
      ]
    },
    {
      "cell_type": "markdown",
      "id": "a914a3aa",
      "metadata": {
        "id": "a914a3aa"
      },
      "source": [
        "Checking for invalid values in BORO column"
      ]
    },
    {
      "cell_type": "code",
      "execution_count": 15,
      "id": "82a97090",
      "metadata": {
        "colab": {
          "base_uri": "https://localhost:8080/"
        },
        "id": "82a97090",
        "outputId": "b9483b5b-1a31-4898-9c2d-47167befd757"
      },
      "outputs": [
        {
          "output_type": "execute_result",
          "data": {
            "text/plain": [
              "array(['Brooklyn', 'Queens', 'Manhattan', 'Bronx', 'Staten Island', '0'],\n",
              "      dtype=object)"
            ]
          },
          "metadata": {},
          "execution_count": 15
        }
      ],
      "source": [
        "df['BORO'].unique()"
      ]
    },
    {
      "cell_type": "code",
      "execution_count": 16,
      "id": "d1bdd538",
      "metadata": {
        "colab": {
          "base_uri": "https://localhost:8080/"
        },
        "id": "d1bdd538",
        "outputId": "a1c74ec8-ef83-4002-c2f5-9423ed9c2dcb"
      },
      "outputs": [
        {
          "output_type": "execute_result",
          "data": {
            "text/plain": [
              "BORO\n",
              "Manhattan        72789\n",
              "Brooklyn         52526\n",
              "Queens           46185\n",
              "Bronx            18397\n",
              "Staten Island     6363\n",
              "0                   30\n",
              "Name: BORO, dtype: int64"
            ]
          },
          "metadata": {},
          "execution_count": 16
        }
      ],
      "source": [
        "df2 = df.groupby(['BORO'])['BORO'].count()\n",
        "df2.sort_values(ascending = False).head(15)"
      ]
    },
    {
      "cell_type": "markdown",
      "id": "488c0231",
      "metadata": {
        "id": "488c0231"
      },
      "source": [
        "Change 0 to UNKNOWN; value can be inferred from zipcode if required for analysis"
      ]
    },
    {
      "cell_type": "code",
      "execution_count": 17,
      "id": "2aa5b566",
      "metadata": {
        "id": "2aa5b566"
      },
      "outputs": [],
      "source": [
        "df['BORO'] = df['BORO'].replace('0', 'UNKNOWN')"
      ]
    },
    {
      "cell_type": "markdown",
      "id": "14565cf5",
      "metadata": {
        "id": "14565cf5"
      },
      "source": [
        "Change column types"
      ]
    },
    {
      "cell_type": "code",
      "execution_count": 18,
      "id": "ebab1fec",
      "metadata": {
        "id": "ebab1fec"
      },
      "outputs": [],
      "source": [
        "df['CAMIS'] = df['CAMIS'].astype(str)\n",
        "df['ZIPCODE'] = df['ZIPCODE'].astype(int).astype(str)\n",
        "df['BIN'] = df['BIN'].astype('Int64').astype(str)\n",
        "df['BBL'] = df['BBL'].astype('Int64').astype(str)"
      ]
    },
    {
      "cell_type": "markdown",
      "id": "a5ccc09f",
      "metadata": {
        "id": "a5ccc09f"
      },
      "source": [
        "Ensure all zipcodes are of same length - add preceding 0s if required\n"
      ]
    },
    {
      "cell_type": "code",
      "execution_count": 19,
      "id": "531221a8",
      "metadata": {
        "colab": {
          "base_uri": "https://localhost:8080/"
        },
        "id": "531221a8",
        "outputId": "dada445a-1801-4e2b-9975-a72ac3d5e1cd"
      },
      "outputs": [
        {
          "output_type": "execute_result",
          "data": {
            "text/plain": [
              "array([5])"
            ]
          },
          "metadata": {},
          "execution_count": 19
        }
      ],
      "source": [
        "df['ZIPCODE'].str.len().unique()"
      ]
    },
    {
      "cell_type": "markdown",
      "id": "c7a5f641",
      "metadata": {
        "id": "c7a5f641"
      },
      "source": [
        "Ensure violation codes are valid; data sourced from : https://www.nyc.gov/assets/doh/downloads/pdf/about/healthcode/health-code-chapter23.pdf\n"
      ]
    },
    {
      "cell_type": "code",
      "execution_count": 20,
      "id": "cc15a5d1",
      "metadata": {
        "colab": {
          "base_uri": "https://localhost:8080/"
        },
        "id": "cc15a5d1",
        "outputId": "e10639e7-6b68-457d-de17-3e916082c5a4"
      },
      "outputs": [
        {
          "output_type": "execute_result",
          "data": {
            "text/plain": [
              "{'10I',\n",
              " '10J',\n",
              " '15A1',\n",
              " '15E2',\n",
              " '15E3',\n",
              " '15F1',\n",
              " '15F2',\n",
              " '15F6',\n",
              " '15F7',\n",
              " '15F8',\n",
              " '15I',\n",
              " '15L',\n",
              " '15S',\n",
              " '16A',\n",
              " '16B',\n",
              " '16C',\n",
              " '16D',\n",
              " '16E',\n",
              " '17A1',\n",
              " '18B',\n",
              " '18C',\n",
              " '18D',\n",
              " '18F',\n",
              " '18G',\n",
              " '20A',\n",
              " '20C',\n",
              " '20D',\n",
              " '20E',\n",
              " '20F',\n",
              " '22A',\n",
              " '22C',\n",
              " '22E',\n",
              " '22F',\n",
              " '22G',\n",
              " nan}"
            ]
          },
          "metadata": {},
          "execution_count": 20
        }
      ],
      "source": [
        "valid_codes = ['02A','02B','02C','02D','02E','02F','02G','02H','02I','02J','03A','03B','03C','03D','03E','03F','03G','03I','04A','04B','04C','04D','04E','04F','04G','04H','04I','04J','04K','04L','04M','04N','04O','04P','05A','05B','05C','05D','05E','05F','05G','05H','05I','06A','06B','06C','06D','06E','06F','06G','06H','06I','06J','07A','08A','08B','08C','09A','09B','09C','09D','09E','10A','10B','10C','10D','10E','10F','10G','10H','15-01','15-05','15-06','15-07','15-08','15-09','15-13','15-14','15-15','15-16','15-17','15-21','15-22','15-26','15-27','15-28','15-29','15-30','15-31','15-32','15-33','15-34','15-35','15-36','15-37','15-38','15-39','15-40','15-41','15-42','15-48','15-49','15-50','15-51','15-52','15-53','15-54','15-55','15-56','16-01','16-02','16-03','16-04','16-06','16-08','16-09','16-10','16-11','17-01','17-03','18-01','18-02','18-08','18-10','18-11','18-12','18-13','18-14','18-15','18-25','19-01','19-02','19-03','19-04','19-05','19-06','19-07','19-08','19-09','19-10','19-11','20-01','20-02','20-03','20-04','20-05','20-06','20-07','20-08','26-04','28-01','28-02','28-03','28-04','28-05','28-06','28-07','28-09','28-10']\n",
        "data_codes = set(list(df['VIOLATION CODE'].unique()))\n",
        "valid_codes_set = set(valid_codes)\n",
        "data_codes - valid_codes_set\n",
        "# TODO : remove these rows?"
      ]
    },
    {
      "cell_type": "markdown",
      "id": "8eb8846d",
      "metadata": {
        "id": "8eb8846d"
      },
      "source": [
        "Checking that Latitude and Longitude are in a small range around New York"
      ]
    },
    {
      "cell_type": "code",
      "execution_count": 21,
      "id": "54763f9c",
      "metadata": {
        "colab": {
          "base_uri": "https://localhost:8080/",
          "height": 300
        },
        "id": "54763f9c",
        "outputId": "f56f37b1-1bf4-4d21-955e-c170daf84ccf"
      },
      "outputs": [
        {
          "output_type": "execute_result",
          "data": {
            "text/plain": [
              "            Latitude      Longitude\n",
              "count  196048.000000  196048.000000\n",
              "mean       40.727602     -73.941057\n",
              "std         0.068768       0.075316\n",
              "min        40.499563     -74.248708\n",
              "25%        40.685782     -73.989096\n",
              "50%        40.732205     -73.957162\n",
              "75%        40.761992     -73.899441\n",
              "max        40.912822     -73.700928"
            ],
            "text/html": [
              "\n",
              "  <div id=\"df-f40a0e6a-96a7-4ca1-abdf-944ebc256b92\">\n",
              "    <div class=\"colab-df-container\">\n",
              "      <div>\n",
              "<style scoped>\n",
              "    .dataframe tbody tr th:only-of-type {\n",
              "        vertical-align: middle;\n",
              "    }\n",
              "\n",
              "    .dataframe tbody tr th {\n",
              "        vertical-align: top;\n",
              "    }\n",
              "\n",
              "    .dataframe thead th {\n",
              "        text-align: right;\n",
              "    }\n",
              "</style>\n",
              "<table border=\"1\" class=\"dataframe\">\n",
              "  <thead>\n",
              "    <tr style=\"text-align: right;\">\n",
              "      <th></th>\n",
              "      <th>Latitude</th>\n",
              "      <th>Longitude</th>\n",
              "    </tr>\n",
              "  </thead>\n",
              "  <tbody>\n",
              "    <tr>\n",
              "      <th>count</th>\n",
              "      <td>196048.000000</td>\n",
              "      <td>196048.000000</td>\n",
              "    </tr>\n",
              "    <tr>\n",
              "      <th>mean</th>\n",
              "      <td>40.727602</td>\n",
              "      <td>-73.941057</td>\n",
              "    </tr>\n",
              "    <tr>\n",
              "      <th>std</th>\n",
              "      <td>0.068768</td>\n",
              "      <td>0.075316</td>\n",
              "    </tr>\n",
              "    <tr>\n",
              "      <th>min</th>\n",
              "      <td>40.499563</td>\n",
              "      <td>-74.248708</td>\n",
              "    </tr>\n",
              "    <tr>\n",
              "      <th>25%</th>\n",
              "      <td>40.685782</td>\n",
              "      <td>-73.989096</td>\n",
              "    </tr>\n",
              "    <tr>\n",
              "      <th>50%</th>\n",
              "      <td>40.732205</td>\n",
              "      <td>-73.957162</td>\n",
              "    </tr>\n",
              "    <tr>\n",
              "      <th>75%</th>\n",
              "      <td>40.761992</td>\n",
              "      <td>-73.899441</td>\n",
              "    </tr>\n",
              "    <tr>\n",
              "      <th>max</th>\n",
              "      <td>40.912822</td>\n",
              "      <td>-73.700928</td>\n",
              "    </tr>\n",
              "  </tbody>\n",
              "</table>\n",
              "</div>\n",
              "      <button class=\"colab-df-convert\" onclick=\"convertToInteractive('df-f40a0e6a-96a7-4ca1-abdf-944ebc256b92')\"\n",
              "              title=\"Convert this dataframe to an interactive table.\"\n",
              "              style=\"display:none;\">\n",
              "        \n",
              "  <svg xmlns=\"http://www.w3.org/2000/svg\" height=\"24px\"viewBox=\"0 0 24 24\"\n",
              "       width=\"24px\">\n",
              "    <path d=\"M0 0h24v24H0V0z\" fill=\"none\"/>\n",
              "    <path d=\"M18.56 5.44l.94 2.06.94-2.06 2.06-.94-2.06-.94-.94-2.06-.94 2.06-2.06.94zm-11 1L8.5 8.5l.94-2.06 2.06-.94-2.06-.94L8.5 2.5l-.94 2.06-2.06.94zm10 10l.94 2.06.94-2.06 2.06-.94-2.06-.94-.94-2.06-.94 2.06-2.06.94z\"/><path d=\"M17.41 7.96l-1.37-1.37c-.4-.4-.92-.59-1.43-.59-.52 0-1.04.2-1.43.59L10.3 9.45l-7.72 7.72c-.78.78-.78 2.05 0 2.83L4 21.41c.39.39.9.59 1.41.59.51 0 1.02-.2 1.41-.59l7.78-7.78 2.81-2.81c.8-.78.8-2.07 0-2.86zM5.41 20L4 18.59l7.72-7.72 1.47 1.35L5.41 20z\"/>\n",
              "  </svg>\n",
              "      </button>\n",
              "      \n",
              "  <style>\n",
              "    .colab-df-container {\n",
              "      display:flex;\n",
              "      flex-wrap:wrap;\n",
              "      gap: 12px;\n",
              "    }\n",
              "\n",
              "    .colab-df-convert {\n",
              "      background-color: #E8F0FE;\n",
              "      border: none;\n",
              "      border-radius: 50%;\n",
              "      cursor: pointer;\n",
              "      display: none;\n",
              "      fill: #1967D2;\n",
              "      height: 32px;\n",
              "      padding: 0 0 0 0;\n",
              "      width: 32px;\n",
              "    }\n",
              "\n",
              "    .colab-df-convert:hover {\n",
              "      background-color: #E2EBFA;\n",
              "      box-shadow: 0px 1px 2px rgba(60, 64, 67, 0.3), 0px 1px 3px 1px rgba(60, 64, 67, 0.15);\n",
              "      fill: #174EA6;\n",
              "    }\n",
              "\n",
              "    [theme=dark] .colab-df-convert {\n",
              "      background-color: #3B4455;\n",
              "      fill: #D2E3FC;\n",
              "    }\n",
              "\n",
              "    [theme=dark] .colab-df-convert:hover {\n",
              "      background-color: #434B5C;\n",
              "      box-shadow: 0px 1px 3px 1px rgba(0, 0, 0, 0.15);\n",
              "      filter: drop-shadow(0px 1px 2px rgba(0, 0, 0, 0.3));\n",
              "      fill: #FFFFFF;\n",
              "    }\n",
              "  </style>\n",
              "\n",
              "      <script>\n",
              "        const buttonEl =\n",
              "          document.querySelector('#df-f40a0e6a-96a7-4ca1-abdf-944ebc256b92 button.colab-df-convert');\n",
              "        buttonEl.style.display =\n",
              "          google.colab.kernel.accessAllowed ? 'block' : 'none';\n",
              "\n",
              "        async function convertToInteractive(key) {\n",
              "          const element = document.querySelector('#df-f40a0e6a-96a7-4ca1-abdf-944ebc256b92');\n",
              "          const dataTable =\n",
              "            await google.colab.kernel.invokeFunction('convertToInteractive',\n",
              "                                                     [key], {});\n",
              "          if (!dataTable) return;\n",
              "\n",
              "          const docLinkHtml = 'Like what you see? Visit the ' +\n",
              "            '<a target=\"_blank\" href=https://colab.research.google.com/notebooks/data_table.ipynb>data table notebook</a>'\n",
              "            + ' to learn more about interactive tables.';\n",
              "          element.innerHTML = '';\n",
              "          dataTable['output_type'] = 'display_data';\n",
              "          await google.colab.output.renderOutput(dataTable, element);\n",
              "          const docLink = document.createElement('div');\n",
              "          docLink.innerHTML = docLinkHtml;\n",
              "          element.appendChild(docLink);\n",
              "        }\n",
              "      </script>\n",
              "    </div>\n",
              "  </div>\n",
              "  "
            ]
          },
          "metadata": {},
          "execution_count": 21
        }
      ],
      "source": [
        "\n",
        "df.loc[:, ['Latitude', 'Longitude']].describe()"
      ]
    },
    {
      "cell_type": "markdown",
      "id": "bc5af684",
      "metadata": {
        "id": "bc5af684"
      },
      "source": [
        "Save cleaned data"
      ]
    },
    {
      "cell_type": "code",
      "source": [
        "df.to_csv(os.path.join(data_dir, 'DOHMH_New_York_City_Restaurant_Inspection_Results_cleaned.csv'), index = False)"
      ],
      "metadata": {
        "id": "ydP3dVM4F55u"
      },
      "id": "ydP3dVM4F55u",
      "execution_count": 22,
      "outputs": []
    },
    {
      "cell_type": "markdown",
      "id": "a2e4fb4a",
      "metadata": {
        "id": "a2e4fb4a"
      },
      "source": [
        "\n",
        "\n",
        "\n",
        "# READ IN PARTIALLY CLEAN DATA BEFORE FINGERPRINT METHOD IS APPLIED"
      ]
    },
    {
      "cell_type": "code",
      "source": [
        "# install spark for running in colab\n",
        "!apt-get install openjdk-8-jdk-headless -qq > /dev/null\n",
        "!wget -q http://archive.apache.org/dist/spark/spark-3.1.1/spark-3.1.1-bin-hadoop3.2.tgz\n",
        "!tar xf spark-3.1.1-bin-hadoop3.2.tgz\n",
        "!pip install -q findspark"
      ],
      "metadata": {
        "id": "_t01UrcOFTfl"
      },
      "id": "_t01UrcOFTfl",
      "execution_count": 23,
      "outputs": []
    },
    {
      "cell_type": "code",
      "source": [
        "import findspark\n",
        "import os\n",
        "# start spark session\n",
        "\n",
        "os.environ[\"JAVA_HOME\"] = \"/usr/lib/jvm/java-8-openjdk-amd64\"\n",
        "os.environ[\"SPARK_HOME\"] = \"/content/spark-3.1.1-bin-hadoop3.2\"\n",
        "\n",
        "findspark.init()"
      ],
      "metadata": {
        "id": "GAyWRjlVFV_k"
      },
      "id": "GAyWRjlVFV_k",
      "execution_count": 24,
      "outputs": []
    },
    {
      "cell_type": "code",
      "execution_count": 25,
      "id": "9569dc7f",
      "metadata": {
        "id": "9569dc7f"
      },
      "outputs": [],
      "source": [
        "#start spark session\n",
        "from pyspark import SparkContext, SparkConf\n",
        "cf = SparkConf()\n",
        "cf.set(\"spark.submit.deployMode\",\"client\")\n",
        "sc = SparkContext.getOrCreate(cf)\n",
        "from pyspark.sql import SparkSession\n",
        "spark = SparkSession \\\n",
        "        .builder \\\n",
        "        .appName(\"Python Spark SQL basic example\") \\\n",
        "        .config(\"spark.some.config.option\", \"some-value\") \\\n",
        "        .getOrCreate()\n",
        "\n"
      ]
    },
    {
      "cell_type": "code",
      "execution_count": 26,
      "id": "49871441",
      "metadata": {
        "id": "49871441"
      },
      "outputs": [],
      "source": [
        "# read partially clean data to further clean with the finger print method\n",
        "# data_path = '/user/mz3327_nyu_edu/DOHMH_New_York_City_Restaurant_Inspection_Results_cleaned.csv'\n",
        "data_path = os.path.join(data_dir, 'DOHMH_New_York_City_Restaurant_Inspection_Results_cleaned.csv')\n",
        "\n",
        "inspection_df = spark.read.csv(path=data_path, header=True, inferSchema = True)"
      ]
    },
    {
      "cell_type": "code",
      "execution_count": 27,
      "id": "e7e9e744",
      "metadata": {
        "id": "e7e9e744"
      },
      "outputs": [],
      "source": [
        "import numpy as np\n",
        "import matplotlib.pyplot as plt\n",
        "import math\n",
        "\n",
        "import string, unicodedata\n",
        "from pyspark.sql import functions as F\n",
        "from pyspark.sql.functions import count, col, countDistinct, year\n",
        "\n"
      ]
    },
    {
      "cell_type": "code",
      "execution_count": 28,
      "id": "541af8f7",
      "metadata": {
        "id": "541af8f7"
      },
      "outputs": [],
      "source": [
        "def fingerprint(value):\n",
        "    key = unicodedata.normalize('NFKD', value).encode('ascii','ignore').decode()\n",
        "    key = set(key.strip().lower().translate(str.maketrans('','',string.punctuation)).split())\n",
        "    key = ' '.join(sorted(list(key)))\n",
        "    return (key, value)\n",
        "\n",
        "def fingerprint_lenient(value):\n",
        "    key = unicodedata.normalize('NFKD', value).encode('ascii','ignore').decode()\n",
        "    key = list(key.strip().lower().translate(str.maketrans('','',string.punctuation)).split())\n",
        "    key = ' '.join(sorted(list(key)))\n",
        "    return (key, value)"
      ]
    },
    {
      "cell_type": "code",
      "execution_count": 29,
      "id": "c563f0d0",
      "metadata": {
        "colab": {
          "base_uri": "https://localhost:8080/"
        },
        "id": "c563f0d0",
        "outputId": "82ee1ff0-9d66-4179-84c2-6ef86b9013f4"
      },
      "outputs": [
        {
          "output_type": "stream",
          "name": "stdout",
          "text": [
            "[\"PAPA JOHN'S\", 'GINZA SUSHI', 'XIN HUO BAN', 'MARC FORGIONE', 'PUEBLA PUEBLA BAR RESTAURANT']\n",
            "[('johns papa', [\"PAPA JOHN'S\", 'PAPA JOHNS']), ('ginza sushi', ['GINZA SUSHI', 'SUSHI GINZA']), ('johns papa pizza', [\"PAPA JOHN'S PIZZA\", 'PAPA JOHNS PIZZA']), ('la patrona', ['La Patrona', 'LA PATRONA']), ('fairfield inn suites', ['FAIRFIELD INN & SUITES', 'Fairfield Inn & Suites']), ('chicken daves hot', [\"DAVE'S HOT CHICKEN\", 'DAVES HOT CHICKEN']), ('coffee gregorys', ['GREGORYS COFFEE', \"GREGORY'S COFFEE\"]), ('deninos pizzeria tavern', [\"DENINO'S PIZZERIA TAVERN\", \"DENINO'S PIZZERIA & TAVERN\"]), ('carvel', ['CARVEL', 'Carvel']), ('cafe coffee le', ['LE CAFE COFFEE', 'LE CAFÉ COFFEE']), ('momentea', ['Momentea', 'MOMENTEA']), ('donuts dunkin', ['DUNKIN DONUTS', \"DUNKIN' DONUTS\", 'Dunkin Donuts']), ('jaiya oriental restaurant thai', ['JAIYA THAI & ORIENTAL RESTAURANT', 'JAIYA THAI ORIENTAL RESTAURANT']), ('burger king popeyes', ['BURGER KING, POPEYES', 'POPEYES/ BURGER KING']), ('blank street', ['Blank Street', 'BLANK STREET']), ('brooklyn house wing', ['BROOKLYN WING HOUSE', 'Brooklyn Wing House']), ('china new', ['New China', 'NEW CHINA']), ('bento sushi wasabi', ['WASABI SUSHI BENTO', 'WASABI SUSHI & BENTO']), ('ices ralphs', ['RALPHS ICES', \"RALPH'S  ICES\"]), ('chicken for mad', ['MAD FOR CHICKEN', 'Mad For Chicken']), ('bbq mighty quinns', [\"MIGHTY QUINN'S BBQ\", \"Mighty Quinn's BBQ\"]), ('bros grill halal', ['Halal Bros Grill', 'HALAL BROS GRILL']), ('sushi tokyo', ['SUSHI TOKYO', 'Tokyo Sushi']), ('burger chicken texas', ['Texas Chicken & Burger', 'TEXAS CHICKEN & BURGER']), ('pizza roma', ['ROMA PIZZA', 'Roma Pizza']), ('kitchen louisiana popeyes', ['POPEYES LOUISIANA KITCHEN', 'Popeyes Louisiana Kitchen', \"POPEYE'S LOUISIANA KITCHEN\"]), ('cafe luna', ['CAFE LUNA', 'LUNA CAFE']), ('bella pizza restaurant', ['BELLA PIZZA & RESTAURANT', 'BELLA PIZZA RESTAURANT']), ('by claudette cuisine', ['Cuisine by Claudette', 'CUISINE BY CLAUDETTE']), ('co fresh', ['FRESH & CO', 'FRESH & CO.']), ('celtic playwright pub', ['PLAYWRIGHT CELTIC PUB', 'Playwright Celtic Pub']), ('salumeria sergimmo', ['SERGIMMO SALUMERIA', 'Sergimmo Salumeria']), ('coffee marathon', ['MARATHON COFFEE', 'Marathon Coffee']), ('ninos restaurant', ['NINOS RESTAURANT', \"NINO'S RESTAURANT\"]), ('bakery patis', [\"PATI'S BAKERY\", 'PATIS BAKERY']), ('bolios emack', [\"EMACK & BOLIO'S\", 'EMACK & BOLIOS']), ('coco fresh juice tea', ['COCO FRESH TEA & JUICE', 'Coco Fresh Tea & Juice']), ('coffee fillup', ['FILLUP COFFEE', 'Fillup Coffee']), ('capt loui', [\"CAP'T LOUI\", 'CAPT LOUI']), ('hamiltons', [\"HAMILTON'S\", 'HAMILTONS']), ('koi sushi', ['SUSHI KOI', 'KOI SUSHI']), ('falafel mamouns', ['MAMOUNS FALAFEL', \"MAMOUN'S FALAFEL\"]), ('justinos pizzeria', [\"JUSTINO'S PIZZERIA\", 'JUSTINOS PIZZERIA']), ('luigis pizza', ['LUIGIS PIZZA', \"Luigi's Pizza\", \"LUIGI'S PIZZA\"]), ('flavors jamaican', ['JAMAICAN FLAVORS', 'Jamaican Flavors']), ('1 no restaurant', ['NO 1 RESTAURANT', 'NO. 1 RESTAURANT']), ('mikes pizza', ['MIKES PIZZA', \"MIKE'S PIZZA\"]), ('bagels zuckers', ['ZUCKERS BAGELS', \"ZUCKER'S BAGELS\"]), ('friedmans', ['FRIEDMANS', \"FRIEDMAN'S\"]), ('empire kitchen', ['EMPIRE KITCHEN', 'EMPIRE KITCHEN .']), ('brooklyn tea', ['Brooklyn Tea', 'BROOKLYN TEA']), ('andrews coffee shop', [\"ANDREW'S COFFEE SHOP\", 'ANDREWS COFFEE SHOP']), ('chef kings', [\"KING'S CHEF\", 'KINGS CHEF']), ('bagels liberty', ['Liberty Bagels', 'LIBERTY BAGELS']), ('jacks steakhouse uncle', [\"UNCLE JACK'S STEAKHOUSE\", 'UNCLE JACKS STEAKHOUSE']), ('pattanian thai', ['PATTANIAN THAI', 'Pattanian Thai']), ('halalbees', [\"HALALBEE'S\", 'HALALBEES']), ('bakery mocana', ['BAKERY MOCANA', 'MOCANA BAKERY']), ('diner parsons', ['PARSONS DINER', \"PARSON'S DINER\"]), ('eats mexican qdoba', ['QDOBA Mexican Eats', 'QDOBA MEXICAN EATS']), ('bubbakoos burritos', ['Bubbakoos burritos', \"BUBBAKOO'S BURRITOS\"]), ('cove fishermans', ['FISHERMANS COVE', \"FISHERMAN'S COVE\"]), ('busters dave', [\"DAVE & BUSTER'S\", 'DAVE & BUSTERS']), ('florinda restaurant', ['Florinda Restaurant', 'FLORINDA RESTAURANT']), ('grill master', ['GRILL MASTER', 'MASTER GRILL']), ('ramen tamashii', ['Tamashii Ramen', 'TAMASHII RAMEN']), ('burger daily', ['Daily Burger', 'DAILY BURGER']), ('cafe effys', ['EFFYS CAFE', \"EFFY'S CAFE\"]), ('again come thank you', ['THANK YOU, COME AGAIN', 'THANK YOU COME AGAIN']), ('dominos pizza', [\"DOMINO'S PIZZA\", 'DOMINOS PIZZA']), ('bell hut pizza taco', ['TACO BELL PIZZA HUT', 'TACO BELL, PIZZA HUT']), ('cafe hestia', ['CAFE HESTIA', 'CAFÉ HESTIA']), ('double dragon', ['Double Dragon', 'DOUBLE DRAGON']), ('bedstuy fish fry', ['Bed-Stuy Fish Fry', 'BED-STUY FISH FRY']), ('luigis pizzeria', ['LUIGIS PIZZERIA', \"LUIGI'S PIZZERIA\"]), ('kitchen szechuan', ['SZECHUAN KITCHEN', 'Szechuan Kitchen']), ('pretzels wetzels', [\"WETZEL'S PRETZELS\", 'WETZELS PRETZELS']), ('pizza', ['PIZZA', '& PIZZA']), ('corner social', ['SOCIAL CORNER', 'CORNER SOCIAL']), ('mezcals restaurant', [\"MEZCAL'S RESTAURANT\", 'MEZCALS RESTAURANT']), ('1 pizza slice', ['$1 SLICE PIZZA', '$1 PIZZA SLICE']), ('bake brew eas n', [\"E&A'S BAKE N BREW\", 'E&A’S BAKE N BREW']), ('baguette paris', ['Paris Baguette', 'PARIS BAGUETTE']), ('palace silver', ['Silver Palace', 'SILVER PALACE']), ('subway', ['SUBWAY', 'Subway']), ('chicken fried kennedy', ['KENNEDY FRIED CHICKEN', 'Kennedy Fried Chicken']), ('checkers', ['CHECKERS', \"CHECKER'S\"]), ('pickabagel', ['Pick-A-Bagel', 'PICK-A-BAGEL']), ('dumplings oh', ['OH! DUMPLINGS', 'OH DUMPLINGS']), ('bella pizza', ['PIZZA BELLA', 'BELLA PIZZA']), ('cafe metro', ['METRO CAFE', 'CAFE METRO']), ('chicken fried kentucky', ['Kentucky Fried Chicken', 'KENTUCKY FRIED CHICKEN']), ('carvel cinnabon', ['CARVEL CINNABON', 'CARVEL, CINNABON']), ('101 cafe', ['CAFE 101', '101 CAFE']), ('sushi yu', ['YU SUSHI', 'SUSHI YU']), ('fly on the vegan', ['VEGAN ON THE FLY', 'Vegan On The Fly']), ('chens garden', [\"CHEN'S GARDEN\", 'CHENS GARDEN']), ('bowl poke', ['POKE BOWL', 'Poke Bowl']), ('schnippers', ['SCHNIPPERS', \"SCHNIPPER'S\"]), ('dr smood', ['DR. SMOOD', 'DR SMOOD']), ('biryani house khalil', ['KHALIL BIRYANI  HOUSE', 'KHALIL BIRYANI HOUSE']), ('dunkin popeyes', [\"POPEYES, DUNKIN'\", \"DUNKIN', POPEYES\"]), ('lennys pizzeria', [\"LENNY'S PIZZERIA\", 'LENNYS PIZZERIA']), ('kitchen mediterranean taim', ['Taim Mediterranean Kitchen', 'Taim Mediterranean kitchen']), ('bagel oh', ['OH! BAGEL', 'OH BAGEL']), ('cafe madison', ['MADISON CAFE', 'CAFE MADISON']), ('pizzeria tonys', ['TONYS PIZZERIA', \"TONY'S PIZZERIA\"]), ('halal munchies', ['HALAL MUNCHIES', 'Halal Munchies']), ('chinese no1 restaurant', ['No.1 CHINESE RESTAURANT', 'NO.1 CHINESE RESTAURANT']), ('allowed chewing no', ['NO CHEWING ALLOWED', 'NO CHEWING ALLOWED!']), ('and chicken fried kennedy pizza', ['KENNEDY FRIED CHICKEN AND PIZZA', 'Kennedy Fried Chicken and Pizza']), ('dunkin', ['DUNKIN', \"DUNKIN'\", 'Dunkin', 'DUNKIN’']), ('baskin dunkin robbins', [\"DUNKIN', BASKIN ROBBINS\", 'DUNKIN / BASKIN ROBBINS', 'DUNKIN, BASKIN ROBBINS', \"DUNKIN' / BASKIN ROBBINS\", 'DUNKIN , BASKIN ROBBINS', \"DUNKIN', 'BASKIN ROBBINS\", 'DUNKIN & BASKIN ROBBINS', \"DUNKIN',' BASKIN ROBBINS\", 'DUNKIN BASKIN ROBBINS', 'DUNKIN - BASKIN ROBBINS']), ('bell kfc taco', ['KFC, TACO BELL', 'TACO BELL, KFC']), ('mcdonalds', [\"MCDONALD'S\", 'MCDONALDS', \"McDONALD'S\"]), ('deep indian kitchen', ['DEEP INDIAN KITCHEN', 'Deep Indian Kitchen']), ('chopt', [\"CHOP'T\", 'CHOPT']), ('dominos', ['DOMINOS', 'Dominos', \"DOMINO'S\"]), ('kabab king', ['KABAB KING', 'KING KABAB']), ('hamburger jimbos', [\"JIMBO'S HAMBURGER\", 'JIMBOS HAMBURGER']), ('damore pizza', [\"PIZZA D'AMORE\", 'PIZZA DAMORE']), ('bed fish fry stuy', ['Bed Stuy Fish Fry', 'BED STUY FISH FRY']), ('a pizzeria s', ['S & A PIZZERIA', 'A & S PIZZERIA']), ('cha gong', ['GONG CHA', 'Gong Cha']), ('bagel pub', ['BAGEL PUB', 'Bagel Pub']), ('restaurant wimpys', [\"WIMPY'S RESTAURANT\", 'WIMPYS RESTAURANT']), ('etc', ['ETC.', 'ETC']), ('bites of xian', [\"BITES OF XI'AN\", 'BITES OF XIAN']), ('cafe paris', ['PARIS CAFE', 'CAFE PARIS']), ('wendys', ['WENDYS', \"WENDY'S\"]), ('kings wok', [\"KING'S WOK\", 'KINGS WOK']), ('baskin donuts dunkin robbins', ['DUNKIN DONUTS BASKIN ROBBINS', \"DUNKIN' DONUTS / BASKIN ROBBINS\"]), ('angelos pizzeria', [\"ANGELO'S PIZZERIA\", 'ANGELOS PIZZERIA']), ('burrito hungry', ['Hungry Burrito', 'HUNGRY BURRITO']), ('bell taco', ['TACO BELL', 'Taco Bell']), ('fridays tgi', [\"T.G.I. FRIDAY'S\", \"TGI FRIDAY'S\"]), ('coffee ghost hungry', ['HUNGRY GHOST COFFEE', 'Hungry Ghost Coffee']), ('dunkinbaskin robbins', [\"DUNKIN'/BASKIN ROBBINS\", 'DUNKIN/BASKIN ROBBINS']), ('dazs haagen', ['HAAGEN DAZS', 'HAAGEN - DAZS']), ('good taste', ['GOOD TASTE', 'TASTE GOOD']), ('mistura peruana', ['Mistura Peruana', 'MISTURA PERUANA']), ('popeyes', [\"POPEYE'S\", \"Popeye's\", 'POPEYES']), ('great wall', ['GREAT WALL', 'Great Wall']), ('ginos pizza', [\"GINO'S PIZZA\", \"Gino's Pizza\"]), ('fuku', ['FUKU', 'Fuku']), ('kings kitchen', ['KINGS KITCHEN', \"KING'S KITCHEN\"]), ('cakes keki modern', ['KEKI MODERN CAKES', 'Keki Modern Cakes']), ('burger chicken kennedy', ['KENNEDY CHICKEN & BURGER', 'Kennedy Chicken & Burger']), ('butler', ['Butler', 'BUTLER']), ('ginos pizzeria restaurant', [\"GINO'S RESTAURANT & PIZZERIA\", \"GINO'S PIZZERIA RESTAURANT\"]), ('1 chinese no restaurant', ['NO. 1 CHINESE RESTAURANT', 'NO 1 CHINESE RESTAURANT']), ('pizza prince', ['PIZZA PRINCE', 'PRINCE PIZZA']), ('famous pizza singas', ['Singas Famous Pizza', 'SINGAS FAMOUS PIZZA']), ('good restaurant taste', ['TASTE GOOD RESTAURANT', 'GOOD TASTE RESTAURANT']), ('a mmmthats wrap', ['MMM...THATS A WRAP', \"MMM...THAT'S A WRAP\"]), ('bellini', ['BELLINI', 'Bellini']), ('and dan johns wings', ['DAN AND JOHNS WINGS', \"DAN AND JOHN'S WINGS\"]), ('heights mint', ['MINT HEIGHTS', 'Mint Heights']), ('co coffee little roy', ['LITTLE ROY COFFEE CO', 'LITTLE ROY COFFEE CO.']), ('blank coffee street', ['BLANK STREET COFFEE', 'Blank Street Coffee']), ('lounge nicks pizza', ['NICKS PIZZA LOUNGE', \"NICK'S PIZZA LOUNGE\"]), ('patsys pizzeria', [\"PATSY'S PIZZERIA\", 'PATSYS PIZZERIA']), ('lucia pizza', ['Lucia Pizza', 'LUCIA PIZZA']), ('tartinery', ['Tartinery', 'TARTINERY']), ('menchies', ['MENCHIES', \"MENCHIE'S\"]), ('barrys bootcamp', ['BARRYS BOOTCAMP', \"BARRY'S BOOTCAMP\"]), ('high line standard the', ['THE STANDARD, HIGH LINE', 'THE STANDARD HIGH LINE']), ('cookie crumz', ['Cookie Crumz', 'COOKIE CRUMZ']), ('2 bros carmens kitchen pizza', ['2 BROS PIZZA / CARMENS KITCHEN', \"CARMEN'S KITCHEN / 2 BROS PIZZA\"]), ('club metropolitan', ['CLUB METROPOLITAN', 'METROPOLITAN CLUB']), ('mi tea', ['MI TEA', 'Mi Tea']), ('cinco de evas mayo x', [\"Eva's x Cinco De Mayo\", \"EVA'S x CINCO DE MAYO\", \"EVA'S X CINCO DE MAYO\"]), ('cream gs ice ices italian louie uncle', [\"UNCLE LOUIE G'S ITALIAN ICES & ICE CREAM\", 'UNCLE LOUIE G’S ITALIAN ICES & ICE CREAM']), ('cafe mocha', ['CAFE MOCHA', 'MOCHA CAFE']), ('hong kong new', ['New Hong Kong', 'NEW HONG KONG']), ('bella luna', ['BELLA LUNA', 'Luna Bella']), ('carry craft', ['CRAFT + CARRY', 'CRAFT & CARRY']), ('sushi yo', ['YO! SUSHI', 'YO SUSHI']), ('7th burger street', ['7th STREET BURGER', '7TH STREET BURGER']), ('bar mayas snack', ['MAYAS SNACK BAR', \"MAYA'S SNACK BAR\"]), ('concession dog garden hot market', ['GARDEN MARKET – HOT DOG CONCESSION', 'HOT DOG CONCESSION, GARDEN MARKET', 'GARDEN MARKET HOT DOG CONCESSION']), ('cuban cuisine sophies', ['SOPHIES CUBAN CUISINE', \"SOPHIE'S CUBAN CUISINE\"]), ('applebees', ['APPLEBEES', \"APPLEBEE'S\"]), ('lobster lukes', ['LUKES LOBSTER', \"LUKE'S LOBSTER\"]), ('99 cents fresh pizza', ['FRESH PIZZA 99 CENTS', '99 CENTS FRESH PIZZA']), ('bbq chicken', ['BBQ CHICKEN', 'BB.Q CHICKEN']), ('annes auntie cinnabon', [\"CINNABON AUNTIE ANNE'S\", \"AUNTIE ANNE'S / CINNABON\"]), ('cafe spot the', ['THE SPOT CAFE', 'THE SPOT CAFÉ']), ('chicken fried kennedy pizza us', ['US KENNEDY FRIED CHICKEN PIZZA', 'US KENNEDY FRIED CHICKEN & PIZZA']), ('rice x yogurt yomies', [\"YOMIE'S RICE X YOGURT\", \"YOMIE'S RICE x YOGURT\"]), ('chicken jerk peppas restaurant', ['PEPPAS JERK CHICKEN RESTAURANT', \"PEPPA'S JERK CHICKEN RESTAURANT\"]), ('wingstop', ['WingStop', 'WING-STOP', 'WINGSTOP', 'Wingstop']), ('burger queens', ['QUEENS BURGER', 'Burger Queens']), ('deli mikes', ['MIKES DELI', \"MIKE'S DELI\"]), ('east shop snack wind', ['EAST WIND SNACK SHOP', 'East Wind Snack Shop']), ('19 empire restaurant', ['19 EMPIRE RESTAURANT', 'EMPIRE 19 RESTAURANT']), ('jin ramen', ['RAMEN JIN', 'JIN RAMEN']), ('appetit bon', ['Bon Appetit', 'BON APPETIT']), ('at bar garden the', ['Bar at the Garden', 'BAR AT THE GARDEN']), ('baccarat club', ['Baccarat Club', 'BACCARAT CLUB']), ('bar garden grill', ['GARDEN GRILL & BAR', 'GARDEN BAR & GRILL']), ('joes pasta pizza', [\"JOE'S PIZZA & PASTA\", 'JOES PIZZA & PASTA']), ('china kitchen', ['China Kitchen', 'CHINA KITCHEN']), ('co sushi', ['SUSHI & CO', 'Sushi & Co']), ('bao by kaya', ['BAO by Kaya', 'BAO BY KAYA']), ('starbucks', ['STARBUCKS', 'Starbucks']), ('brooklyn of patrizias', [\"PATRIZIA'S OF BROOKLYN\", 'PATRIZIAS OF BROOKLYN']), ('brothers pizza', ['BROTHERS PIZZA', \"BROTHER'S PIZZA\"]), ('bubble tea vivi', ['VIVI BUBBLE TEA', 'ViVi Bubble Tea']), ('colombe la', ['LA COLOMBE', 'La Colombe']), ('franks pizza', [\"FRANK'S PIZZA\", 'FRANKS PIZZA']), ('house la queen tea', ['LA QUEEN TEA HOUSE', 'La Queen Tea House']), ('finger joint stickys', [\"STICKY'S FINGER JOINT\", \"Sticky's Finger Joint\"]), ('just salad', ['Just Salad', 'JUST SALAD']), ('blue bottle coffee', ['BLUE BOTTLE COFFEE', 'Blue Bottle Coffee']), ('bar baya', ['BAYA BAR', 'Baya Bar']), ('mr pizza', ['MR. PIZZA', 'MR  PIZZA']), ('charleys philly steaks', [\"CHARLEY'S PHILLY STEAKS\", 'CHARLEYS PHILLY STEAKS']), ('coffee jacks', ['JACKS COFFEE', \"JACK'S COFFEE\"]), ('annes auntie', [\"Auntie Anne's\", 'AUNTIE ANNES']), ('lechonera pollo restaurant sabroso', ['LECHONERA & POLLO SABROSO RESTAURANT', 'LECHONERA POLLO SABROSO RESTAURANT']), ('chicken kennedy sandwiches', ['KENNEDY CHICKEN &SANDWICHES', 'KENNEDY CHICKEN & SANDWICHES']), ('kyclades taverna', ['Taverna Kyclades', 'TAVERNA KYCLADES']), ('99 cents fresh hot pizza', ['99 CENTS FRESH & HOT PIZZA', 'FRESH 99 CENTS HOT PIZZA']), ('burrito loco', ['BURRITO LOCO', 'LOCO BURRITO']), ('kellys pub', [\"KELLY'S PUB\", 'KELLYS PUB']), ('juniors', [\"JUNIOR'S\", 'JUNIORS']), ('misoya', ['MISO-YA', 'MISOYA']), ('coffee roasters rx', ['COFFEE RX ROASTERS', 'COFFEE Rx ROASTERS']), ('chicken jerk peppas', ['PEPPAS JERK CHICKEN', \"PEPPA'S JERK CHICKEN\"]), ('whitmans', ['WHITMANS', \"WHITMAN'S\"]), ('empanadas mamas', [\"MAMA'S EMPANADAS\", 'MAMAS EMPANADAS']), ('cloud m', ['CLOUD M', 'Cloud M']), ('dining downstein hall nyu', ['DOWNSTEIN DINING HALL @ NYU', 'Downstein Dining Hall @NYU'])]\n"
          ]
        }
      ],
      "source": [
        "restaurant_rdd = inspection_df.select('DBA').rdd.flatMap(list)\n",
        "print(restaurant_rdd.take(5))\n",
        "duplicates = restaurant_rdd.distinct(). \\\n",
        "\tmap(fingerprint_lenient). \\\n",
        "\tgroupByKey(). \\\n",
        "\tfilter(lambda x: len(x[1])>1). \\\n",
        "\tmapValues(list). \\\n",
        "\tcollect()\n",
        "\n",
        "print(duplicates)"
      ]
    },
    {
      "cell_type": "code",
      "execution_count": 30,
      "id": "634c3a76",
      "metadata": {
        "id": "634c3a76"
      },
      "outputs": [],
      "source": [
        "replacements = {}\n",
        "for t in duplicates:\n",
        "    n = len(t[1])\n",
        "    for i in range(1, n):\n",
        "        # mark as a replacement if they have the same cuisine type\n",
        "        df1 = inspection_df.filter((inspection_df['DBA'] == t[1][i]) | (inspection_df['DBA'] == t[1][0]))\n",
        "        if df1.select('CUISINE DESCRIPTION').distinct().count() == 1:\n",
        "            replacements[t[1][i]] = t[1][0]"
      ]
    },
    {
      "cell_type": "code",
      "execution_count": 31,
      "id": "c5019011",
      "metadata": {
        "colab": {
          "base_uri": "https://localhost:8080/"
        },
        "id": "c5019011",
        "outputId": "ad45a87d-cfd5-4b55-f58d-d648dfe024bf"
      },
      "outputs": [
        {
          "output_type": "execute_result",
          "data": {
            "text/plain": [
              "{'PAPA JOHNS': \"PAPA JOHN'S\",\n",
              " 'SUSHI GINZA': 'GINZA SUSHI',\n",
              " 'PAPA JOHNS PIZZA': \"PAPA JOHN'S PIZZA\",\n",
              " 'LA PATRONA': 'La Patrona',\n",
              " 'Fairfield Inn & Suites': 'FAIRFIELD INN & SUITES',\n",
              " \"GREGORY'S COFFEE\": 'GREGORYS COFFEE',\n",
              " \"DENINO'S PIZZERIA & TAVERN\": \"DENINO'S PIZZERIA TAVERN\",\n",
              " 'JAIYA THAI ORIENTAL RESTAURANT': 'JAIYA THAI & ORIENTAL RESTAURANT',\n",
              " 'NEW CHINA': 'New China',\n",
              " \"RALPH'S  ICES\": 'RALPHS ICES',\n",
              " \"Mighty Quinn's BBQ\": \"MIGHTY QUINN'S BBQ\",\n",
              " 'TEXAS CHICKEN & BURGER': 'Texas Chicken & Burger',\n",
              " 'Roma Pizza': 'ROMA PIZZA',\n",
              " 'Popeyes Louisiana Kitchen': 'POPEYES LOUISIANA KITCHEN',\n",
              " \"POPEYE'S LOUISIANA KITCHEN\": 'POPEYES LOUISIANA KITCHEN',\n",
              " 'BELLA PIZZA RESTAURANT': 'BELLA PIZZA & RESTAURANT',\n",
              " 'Playwright Celtic Pub': 'PLAYWRIGHT CELTIC PUB',\n",
              " 'Sergimmo Salumeria': 'SERGIMMO SALUMERIA',\n",
              " 'Marathon Coffee': 'MARATHON COFFEE',\n",
              " \"NINO'S RESTAURANT\": 'NINOS RESTAURANT',\n",
              " 'EMACK & BOLIOS': \"EMACK & BOLIO'S\",\n",
              " 'CAPT LOUI': \"CAP'T LOUI\",\n",
              " 'KOI SUSHI': 'SUSHI KOI',\n",
              " \"MAMOUN'S FALAFEL\": 'MAMOUNS FALAFEL',\n",
              " 'JUSTINOS PIZZERIA': \"JUSTINO'S PIZZERIA\",\n",
              " \"Luigi's Pizza\": 'LUIGIS PIZZA',\n",
              " \"LUIGI'S PIZZA\": 'LUIGIS PIZZA',\n",
              " 'Jamaican Flavors': 'JAMAICAN FLAVORS',\n",
              " \"MIKE'S PIZZA\": 'MIKES PIZZA',\n",
              " \"FRIEDMAN'S\": 'FRIEDMANS',\n",
              " 'EMPIRE KITCHEN .': 'EMPIRE KITCHEN',\n",
              " 'BROOKLYN TEA': 'Brooklyn Tea',\n",
              " 'ANDREWS COFFEE SHOP': \"ANDREW'S COFFEE SHOP\",\n",
              " 'KINGS CHEF': \"KING'S CHEF\",\n",
              " 'LIBERTY BAGELS': 'Liberty Bagels',\n",
              " 'UNCLE JACKS STEAKHOUSE': \"UNCLE JACK'S STEAKHOUSE\",\n",
              " 'MOCANA BAKERY': 'BAKERY MOCANA',\n",
              " \"PARSON'S DINER\": 'PARSONS DINER',\n",
              " 'QDOBA MEXICAN EATS': 'QDOBA Mexican Eats',\n",
              " \"FISHERMAN'S COVE\": 'FISHERMANS COVE',\n",
              " 'DAVE & BUSTERS': \"DAVE & BUSTER'S\",\n",
              " 'TAMASHII RAMEN': 'Tamashii Ramen',\n",
              " \"EFFY'S CAFE\": 'EFFYS CAFE',\n",
              " 'THANK YOU COME AGAIN': 'THANK YOU, COME AGAIN',\n",
              " 'DOMINOS PIZZA': \"DOMINO'S PIZZA\",\n",
              " 'TACO BELL, PIZZA HUT': 'TACO BELL PIZZA HUT',\n",
              " 'DOUBLE DRAGON': 'Double Dragon',\n",
              " \"LUIGI'S PIZZERIA\": 'LUIGIS PIZZERIA',\n",
              " 'Szechuan Kitchen': 'SZECHUAN KITCHEN',\n",
              " '& PIZZA': 'PIZZA',\n",
              " 'CORNER SOCIAL': 'SOCIAL CORNER',\n",
              " 'MEZCALS RESTAURANT': \"MEZCAL'S RESTAURANT\",\n",
              " '$1 PIZZA SLICE': '$1 SLICE PIZZA',\n",
              " 'E&A’S BAKE N BREW': \"E&A'S BAKE N BREW\",\n",
              " 'SILVER PALACE': 'Silver Palace',\n",
              " 'OH DUMPLINGS': 'OH! DUMPLINGS',\n",
              " 'BELLA PIZZA': 'PIZZA BELLA',\n",
              " 'CAFE METRO': 'METRO CAFE',\n",
              " 'KENTUCKY FRIED CHICKEN': 'Kentucky Fried Chicken',\n",
              " 'CARVEL, CINNABON': 'CARVEL CINNABON',\n",
              " 'SUSHI YU': 'YU SUSHI',\n",
              " 'Vegan On The Fly': 'VEGAN ON THE FLY',\n",
              " 'CHENS GARDEN': \"CHEN'S GARDEN\",\n",
              " 'Poke Bowl': 'POKE BOWL',\n",
              " 'LENNYS PIZZERIA': \"LENNY'S PIZZERIA\",\n",
              " 'Taim Mediterranean kitchen': 'Taim Mediterranean Kitchen',\n",
              " \"TONY'S PIZZERIA\": 'TONYS PIZZERIA',\n",
              " 'Halal Munchies': 'HALAL MUNCHIES',\n",
              " 'NO.1 CHINESE RESTAURANT': 'No.1 CHINESE RESTAURANT',\n",
              " 'Kennedy Fried Chicken and Pizza': 'KENNEDY FRIED CHICKEN AND PIZZA',\n",
              " 'TACO BELL, KFC': 'KFC, TACO BELL',\n",
              " 'Deep Indian Kitchen': 'DEEP INDIAN KITCHEN',\n",
              " 'Dominos': 'DOMINOS',\n",
              " \"DOMINO'S\": 'DOMINOS',\n",
              " 'JIMBOS HAMBURGER': \"JIMBO'S HAMBURGER\",\n",
              " 'PIZZA DAMORE': \"PIZZA D'AMORE\",\n",
              " 'BED STUY FISH FRY': 'Bed Stuy Fish Fry',\n",
              " 'A & S PIZZERIA': 'S & A PIZZERIA',\n",
              " 'KINGS WOK': \"KING'S WOK\",\n",
              " 'ANGELOS PIZZERIA': \"ANGELO'S PIZZERIA\",\n",
              " 'HUNGRY BURRITO': 'Hungry Burrito',\n",
              " \"TGI FRIDAY'S\": \"T.G.I. FRIDAY'S\",\n",
              " 'HAAGEN - DAZS': 'HAAGEN DAZS',\n",
              " 'MISTURA PERUANA': 'Mistura Peruana',\n",
              " \"Popeye's\": \"POPEYE'S\",\n",
              " 'Great Wall': 'GREAT WALL',\n",
              " \"Gino's Pizza\": \"GINO'S PIZZA\",\n",
              " \"KING'S KITCHEN\": 'KINGS KITCHEN',\n",
              " 'Keki Modern Cakes': 'KEKI MODERN CAKES',\n",
              " 'Kennedy Chicken & Burger': 'KENNEDY CHICKEN & BURGER',\n",
              " 'NO 1 CHINESE RESTAURANT': 'NO. 1 CHINESE RESTAURANT',\n",
              " 'PRINCE PIZZA': 'PIZZA PRINCE',\n",
              " 'GOOD TASTE RESTAURANT': 'TASTE GOOD RESTAURANT',\n",
              " \"MMM...THAT'S A WRAP\": 'MMM...THATS A WRAP',\n",
              " 'Bellini': 'BELLINI',\n",
              " \"DAN AND JOHN'S WINGS\": 'DAN AND JOHNS WINGS',\n",
              " 'Mint Heights': 'MINT HEIGHTS',\n",
              " 'LITTLE ROY COFFEE CO.': 'LITTLE ROY COFFEE CO',\n",
              " 'Blank Street Coffee': 'BLANK STREET COFFEE',\n",
              " \"NICK'S PIZZA LOUNGE\": 'NICKS PIZZA LOUNGE',\n",
              " 'LUCIA PIZZA': 'Lucia Pizza',\n",
              " \"MENCHIE'S\": 'MENCHIES',\n",
              " \"BARRY'S BOOTCAMP\": 'BARRYS BOOTCAMP',\n",
              " 'THE STANDARD HIGH LINE': 'THE STANDARD, HIGH LINE',\n",
              " 'COOKIE CRUMZ': 'Cookie Crumz',\n",
              " 'Mi Tea': 'MI TEA',\n",
              " 'UNCLE LOUIE G’S ITALIAN ICES & ICE CREAM': \"UNCLE LOUIE G'S ITALIAN ICES & ICE CREAM\",\n",
              " 'NEW HONG KONG': 'New Hong Kong',\n",
              " \"SOPHIE'S CUBAN CUISINE\": 'SOPHIES CUBAN CUISINE',\n",
              " \"APPLEBEE'S\": 'APPLEBEES',\n",
              " \"LUKE'S LOBSTER\": 'LUKES LOBSTER',\n",
              " '99 CENTS FRESH PIZZA': 'FRESH PIZZA 99 CENTS',\n",
              " 'US KENNEDY FRIED CHICKEN & PIZZA': 'US KENNEDY FRIED CHICKEN PIZZA',\n",
              " \"PEPPA'S JERK CHICKEN RESTAURANT\": 'PEPPAS JERK CHICKEN RESTAURANT',\n",
              " 'WING-STOP': 'WingStop',\n",
              " 'Wingstop': 'WingStop',\n",
              " 'Burger Queens': 'QUEENS BURGER',\n",
              " 'East Wind Snack Shop': 'EAST WIND SNACK SHOP',\n",
              " 'BON APPETIT': 'Bon Appetit',\n",
              " 'BAR AT THE GARDEN': 'Bar at the Garden',\n",
              " 'JOES PIZZA & PASTA': \"JOE'S PIZZA & PASTA\",\n",
              " 'CHINA KITCHEN': 'China Kitchen',\n",
              " 'Starbucks': 'STARBUCKS',\n",
              " 'PATRIZIAS OF BROOKLYN': \"PATRIZIA'S OF BROOKLYN\",\n",
              " \"BROTHER'S PIZZA\": 'BROTHERS PIZZA',\n",
              " 'La Colombe': 'LA COLOMBE',\n",
              " 'FRANKS PIZZA': \"FRANK'S PIZZA\",\n",
              " 'Blue Bottle Coffee': 'BLUE BOTTLE COFFEE',\n",
              " 'MR  PIZZA': 'MR. PIZZA',\n",
              " \"JACK'S COFFEE\": 'JACKS COFFEE',\n",
              " 'KENNEDY CHICKEN & SANDWICHES': 'KENNEDY CHICKEN &SANDWICHES',\n",
              " 'TAVERNA KYCLADES': 'Taverna Kyclades',\n",
              " 'FRESH 99 CENTS HOT PIZZA': '99 CENTS FRESH & HOT PIZZA',\n",
              " 'JUNIORS': \"JUNIOR'S\",\n",
              " 'MISOYA': 'MISO-YA',\n",
              " 'COFFEE Rx ROASTERS': 'COFFEE RX ROASTERS',\n",
              " \"PEPPA'S JERK CHICKEN\": 'PEPPAS JERK CHICKEN',\n",
              " \"WHITMAN'S\": 'WHITMANS',\n",
              " 'Cloud M': 'CLOUD M'}"
            ]
          },
          "metadata": {},
          "execution_count": 31
        }
      ],
      "source": [
        "replacements"
      ]
    },
    {
      "cell_type": "code",
      "execution_count": 32,
      "id": "b2c55c3f",
      "metadata": {
        "id": "b2c55c3f"
      },
      "outputs": [],
      "source": [
        "inspection_df = inspection_df.replace(replacements, subset = 'DBA')\n"
      ]
    },
    {
      "cell_type": "code",
      "execution_count": 33,
      "id": "1a41f781",
      "metadata": {
        "scrolled": true,
        "colab": {
          "base_uri": "https://localhost:8080/"
        },
        "id": "1a41f781",
        "outputId": "5f081a09-55c9-4359-8f8e-f528597645f0"
      },
      "outputs": [
        {
          "output_type": "stream",
          "name": "stdout",
          "text": [
            "['Pizza', 'Japanese', 'Chinese', 'American', 'Mexican']\n",
            "[]\n"
          ]
        }
      ],
      "source": [
        "cuisine_rdd = inspection_df.select('CUISINE DESCRIPTION').rdd.flatMap(list)\n",
        "print(cuisine_rdd.take(5))\n",
        "duplicates = cuisine_rdd.distinct(). \\\n",
        "\tmap(fingerprint). \\\n",
        "\tgroupByKey(). \\\n",
        "\tfilter(lambda x: len(x[1])>1). \\\n",
        "\tmapValues(list). \\\n",
        "\tcollect()\n",
        "\n",
        "print(duplicates)"
      ]
    },
    {
      "cell_type": "code",
      "execution_count": 34,
      "id": "416ce0b7",
      "metadata": {
        "id": "416ce0b7"
      },
      "outputs": [],
      "source": [
        "# no replacement required as all cuisines have a different fingerprint key\n"
      ]
    },
    {
      "cell_type": "code",
      "execution_count": 35,
      "id": "e39e8e59",
      "metadata": {
        "colab": {
          "base_uri": "https://localhost:8080/"
        },
        "id": "e39e8e59",
        "outputId": "d8319eca-54db-4783-d3a2-0ca8686778b8"
      },
      "outputs": [
        {
          "output_type": "stream",
          "name": "stdout",
          "text": [
            "['Cycle Inspection / Re-inspection', 'Cycle Inspection / Re-inspection', 'Cycle Inspection / Re-inspection', 'Administrative Miscellaneous / Initial Inspection', 'Administrative Miscellaneous / Re-inspection']\n",
            "[]\n"
          ]
        }
      ],
      "source": [
        "it_rdd = inspection_df.select('INSPECTION TYPE').rdd.flatMap(list)\n",
        "print(it_rdd.take(5))\n",
        "duplicates = it_rdd.distinct(). \\\n",
        "\tmap(fingerprint). \\\n",
        "\tgroupByKey(). \\\n",
        "\tfilter(lambda x: len(x[1])>1). \\\n",
        "\tmapValues(list). \\\n",
        "\tcollect()\n",
        "\n",
        "print(duplicates)"
      ]
    },
    {
      "cell_type": "code",
      "execution_count": 36,
      "id": "0b9e7f09",
      "metadata": {
        "id": "0b9e7f09"
      },
      "outputs": [],
      "source": [
        "# no replacements required as all inspection types have different fingerprint key"
      ]
    },
    {
      "cell_type": "markdown",
      "id": "50dd4d41",
      "metadata": {
        "id": "50dd4d41"
      },
      "source": [
        "Write the final clean data to csv"
      ]
    },
    {
      "cell_type": "code",
      "execution_count": 37,
      "id": "b2d4e8bd",
      "metadata": {
        "id": "b2d4e8bd"
      },
      "outputs": [],
      "source": [
        "# Write the DataFrame to a CSV file\n",
        "inspection_df.write.format('csv').option('header', True).mode('overwrite').save(os.path.join(data_dir, 'DOHMH_New_York_City_Restaurant_Inspection_Results_cleaned_final.csv'))\n"
      ]
    },
    {
      "cell_type": "markdown",
      "id": "e61be09e",
      "metadata": {
        "id": "e61be09e"
      },
      "source": [
        "# START HERE: READ IN FINAL CLEANED DATA "
      ]
    },
    {
      "cell_type": "code",
      "execution_count": 38,
      "id": "93a71fe8",
      "metadata": {
        "id": "93a71fe8"
      },
      "outputs": [],
      "source": [
        "#start spark session if you havent yet\n",
        "from pyspark import SparkContext, SparkConf\n",
        "cf = SparkConf()\n",
        "cf.set(\"spark.submit.deployMode\",\"client\")\n",
        "sc = SparkContext.getOrCreate(cf)\n",
        "from pyspark.sql import SparkSession\n",
        "spark = SparkSession \\\n",
        "        .builder \\\n",
        "        .appName(\"Python Spark SQL basic example\") \\\n",
        "        .config(\"spark.some.config.option\", \"some-value\") \\\n",
        "        .getOrCreate()"
      ]
    },
    {
      "cell_type": "markdown",
      "id": "67e91ae9",
      "metadata": {
        "id": "67e91ae9"
      },
      "source": [
        "Import libraries that will be needed through the EDA."
      ]
    },
    {
      "cell_type": "code",
      "execution_count": 43,
      "id": "42eccb64",
      "metadata": {
        "id": "42eccb64"
      },
      "outputs": [],
      "source": [
        "import numpy as np\n",
        "import matplotlib.pyplot as plt\n",
        "import math\n",
        "\n",
        "import string, unicodedata\n",
        "from pyspark.sql import functions as F\n",
        "from pyspark.sql.functions import col, countDistinct, avg, year, to_date, when, count, lag\n",
        "from pyspark.sql.window import Window\n"
      ]
    },
    {
      "cell_type": "markdown",
      "id": "9c711a63",
      "metadata": {
        "id": "9c711a63"
      },
      "source": [
        "Read in the final clean data into a spark data frame"
      ]
    },
    {
      "cell_type": "code",
      "execution_count": 44,
      "id": "60e5a3eb",
      "metadata": {
        "colab": {
          "base_uri": "https://localhost:8080/"
        },
        "id": "60e5a3eb",
        "outputId": "6cfd4b14-1b2c-45c6-924d-29ee4f8f14e4"
      },
      "outputs": [
        {
          "output_type": "stream",
          "name": "stdout",
          "text": [
            "+--------+-----------+--------+-------+----------+-------------------+---------------+--------------------+--------------+---------------------+-------------+-----+--------------------+---------------+----------------+-------+----------+---------------+\n",
            "|   CAMIS|        DBA|    BORO|ZIPCODE|     PHONE|CUISINE DESCRIPTION|INSPECTION DATE|              ACTION|VIOLATION CODE|VIOLATION DESCRIPTION|CRITICAL FLAG|SCORE|     INSPECTION TYPE|       Latitude|       Longitude|    BIN|       BBL|INSPECTION YEAR|\n",
            "+--------+-----------+--------+-------+----------+-------------------+---------------+--------------------+--------------+---------------------+-------------+-----+--------------------+---------------+----------------+-------+----------+---------------+\n",
            "|41283963|PAPA JOHN'S|Brooklyn|  11220|7189217272|              Pizza|     2022-01-26|Violations were c...|           04L| Evidence of mice ...|     Critical| 13.0|Cycle Inspection ...|40.640525637746|-74.015090336292|3397962|3008550037|           2022|\n",
            "+--------+-----------+--------+-------+----------+-------------------+---------------+--------------------+--------------+---------------------+-------------+-----+--------------------+---------------+----------------+-------+----------+---------------+\n",
            "only showing top 1 row\n",
            "\n"
          ]
        }
      ],
      "source": [
        "\n",
        "data_path = os.path.join(data_dir, 'DOHMH_New_York_City_Restaurant_Inspection_Results_cleaned_final.csv')\n",
        "\n",
        "inspection_df = spark.read.csv(path=data_path, header=True, inferSchema = True)\n",
        "\n",
        "inspection_df.show(1)"
      ]
    },
    {
      "cell_type": "markdown",
      "id": "2e23afc5",
      "metadata": {
        "id": "2e23afc5"
      },
      "source": [
        "Create a temp view of the Inspections DF to run sql queries "
      ]
    },
    {
      "cell_type": "code",
      "execution_count": 49,
      "id": "3f1f71d9",
      "metadata": {
        "colab": {
          "base_uri": "https://localhost:8080/"
        },
        "id": "3f1f71d9",
        "outputId": "bceeebeb-4075-49b1-e7a4-f3f426cdaed6"
      },
      "outputs": [
        {
          "output_type": "stream",
          "name": "stdout",
          "text": [
            "+--------+-----------+--------+-------+----------+-------------------+---------------+--------------------+--------------+---------------------+-------------+-----+--------------------+---------------+----------------+-------+----------+---------------+\n",
            "|   CAMIS|        DBA|    BORO|ZIPCODE|     PHONE|CUISINE DESCRIPTION|INSPECTION DATE|              ACTION|VIOLATION CODE|VIOLATION DESCRIPTION|CRITICAL FLAG|SCORE|     INSPECTION TYPE|       Latitude|       Longitude|    BIN|       BBL|INSPECTION YEAR|\n",
            "+--------+-----------+--------+-------+----------+-------------------+---------------+--------------------+--------------+---------------------+-------------+-----+--------------------+---------------+----------------+-------+----------+---------------+\n",
            "|41283963|PAPA JOHN'S|Brooklyn|  11220|7189217272|              Pizza|     2022-01-26|Violations were c...|           04L| Evidence of mice ...|     Critical| 13.0|Cycle Inspection ...|40.640525637746|-74.015090336292|3397962|3008550037|           2022|\n",
            "+--------+-----------+--------+-------+----------+-------------------+---------------+--------------------+--------------+---------------------+-------------+-----+--------------------+---------------+----------------+-------+----------+---------------+\n",
            "\n"
          ]
        }
      ],
      "source": [
        "inspection_df.createOrReplaceTempView(\"inspections\")\n",
        "\n",
        "spark.sql(\"\"\"SELECT *\n",
        "FROM inspections\n",
        "LIMIT 1;\"\"\"  ).show()\n"
      ]
    },
    {
      "cell_type": "markdown",
      "id": "686f6b25",
      "metadata": {
        "id": "686f6b25"
      },
      "source": [
        "Lets start the Exploratory Data Analsysis by finding the number of total inspections per year."
      ]
    },
    {
      "cell_type": "code",
      "execution_count": 50,
      "id": "0b915a47",
      "metadata": {
        "colab": {
          "base_uri": "https://localhost:8080/",
          "height": 762
        },
        "id": "0b915a47",
        "outputId": "26ae9fa7-7a9a-4938-ddd6-9d6ed3ca65c2"
      },
      "outputs": [
        {
          "output_type": "stream",
          "name": "stdout",
          "text": [
            "[3771, 29827, 16034, 21439, 91126, 31864]\n"
          ]
        },
        {
          "output_type": "display_data",
          "data": {
            "text/plain": [
              "<Figure size 1000x800 with 1 Axes>"
            ],
            "image/png": "[encoded data removed]"
          },
          "metadata": {}
        }
      ],
      "source": [
        "\n",
        "count_of_inspections_per_year = []\n",
        "\n",
        "for year in range(2018, 2024):\n",
        "    inspections = spark.sql(f\"\"\"\n",
        "        SELECT count(*) as num\n",
        "        FROM inspections\n",
        "        WHERE `INSPECTION YEAR` = '{year}'\n",
        "    \"\"\")\n",
        "    count_of_inspections_per_year.append(inspections.select('num').collect()[0]['num'])\n",
        "print(count_of_inspections_per_year)\n",
        "# plot the number of new restaurants\n",
        "\n",
        "plt.figure(figsize=(10,8))\n",
        "\n",
        "plt.plot(range(2018, 2024), count_of_inspections_per_year)\n",
        "plt.title('Number of Inspections Per Year', fontsize = 25)\n",
        "plt.xlabel('Year',fontsize = 20)\n",
        "plt.ylabel('Inspections',fontsize = 20)\n",
        "\n",
        "file_name = \"count_of_inspections_per_year.png\"\n",
        "\n",
        "plt.savefig(os.path.join(results_dir, file_name))\n",
        "\n",
        "plt.show()\n",
        "\n",
        "\n"
      ]
    },
    {
      "cell_type": "markdown",
      "id": "dc412d20",
      "metadata": {
        "id": "dc412d20"
      },
      "source": [
        "Clearly there was huge increase in number of total recorded inspections in 2022 when all restarurants were reopened as compared to 2019 before the pandemic. Now lets find number of unique restaurants that were inspected for all years greater than 2017."
      ]
    },
    {
      "cell_type": "code",
      "execution_count": 51,
      "id": "0450e418",
      "metadata": {
        "colab": {
          "base_uri": "https://localhost:8080/",
          "height": 745
        },
        "id": "0450e418",
        "outputId": "1bd75fa8-cfbe-44c8-f209-087cc87ffa4e"
      },
      "outputs": [
        {
          "output_type": "display_data",
          "data": {
            "text/plain": [
              "<Figure size 1000x800 with 1 Axes>"
            ],
            "image/png": "[encoded data removed]"
          },
          "metadata": {}
        }
      ],
      "source": [
        "\n",
        "unique_restaurants = []\n",
        "for year in range(2018, 2024):\n",
        "    restaurants_year = spark.sql(f\"\"\"\n",
        "        SELECT distinct(CAMIS)\n",
        "        FROM inspections\n",
        "        WHERE `INSPECTION YEAR` = '{year}'\n",
        "    \"\"\")\n",
        "    if year == 2018:\n",
        "        unique_restaurants.append(restaurants_year.count())\n",
        "    else:\n",
        "        restaurants_prev_year = spark.sql(f\"\"\"\n",
        "            SELECT distinct(CAMIS)\n",
        "            FROM inspections\n",
        "            WHERE `INSPECTION YEAR` = '{year-1}'\n",
        "        \"\"\")\n",
        "        unique_restaurants.append(restaurants_year.subtract(restaurants_prev_year).count())\n",
        "\n",
        "# plot the number of new restaurants\n",
        "\n",
        "plt.figure(figsize=(10,8))\n",
        "\n",
        "plt.plot(range(2018, 2024), unique_restaurants)\n",
        "plt.title('Number Of Unique Restaurants Per Year',fontsize = 25)\n",
        "plt.xlabel('Year',fontsize = 20)\n",
        "plt.ylabel('Restaurants',fontsize = 20)\n",
        "\n",
        "file_name = \"unique_restaurants_per_year.png\"\n",
        "plt.savefig(os.path.join(results_dir, file_name))\n",
        "\n",
        "plt.show()\n"
      ]
    },
    {
      "cell_type": "markdown",
      "id": "19ac9185",
      "metadata": {
        "id": "19ac9185"
      },
      "source": [
        "The two graphs indicate that after  many new restaruants were being inspected after covid, increasing the total count for inspections. Now lets find the the number of total inspections by cuisine description for the years 2019 and 2022. As these two years have the best data to compare before and after the pandemic and see if there are any differences. "
      ]
    },
    {
      "cell_type": "code",
      "execution_count": 52,
      "id": "33dc19d6",
      "metadata": {
        "colab": {
          "base_uri": "https://localhost:8080/",
          "height": 956
        },
        "id": "33dc19d6",
        "outputId": "4f4860ed-815d-42a0-dcd4-e7504d1d0a0b"
      },
      "outputs": [
        {
          "output_type": "display_data",
          "data": {
            "text/plain": [
              "<Figure size 1500x1000 with 1 Axes>"
            ],
            "image/png": "[encoded data removed]"
          },
          "metadata": {}
        }
      ],
      "source": [
        "\n",
        "inspections_2019 = spark.sql(\"\"\"\n",
        "    SELECT `CUISINE DESCRIPTION`, COUNT(*) as count\n",
        "    FROM inspections\n",
        "    WHERE `INSPECTION YEAR` = 2019\n",
        "    GROUP BY `CUISINE DESCRIPTION`\n",
        "    ORDER BY count DESC\n",
        "    limit 5\n",
        "\"\"\")\n",
        "inspections_2019_pd = inspections_2019.toPandas()\n",
        "\n",
        "inspections_2022 = spark.sql(\"\"\"\n",
        "    SELECT `CUISINE DESCRIPTION`, COUNT(*) as count\n",
        "    FROM inspections\n",
        "    WHERE `INSPECTION YEAR` = 2022\n",
        "    GROUP BY `CUISINE DESCRIPTION`\n",
        "    ORDER BY count DESC\n",
        "    limit 5\n",
        "\"\"\")\n",
        "inspections_2022_pd = inspections_2022.toPandas()\n",
        "\n",
        "# get the set of all cuisine descriptions for both years\n",
        "cuisines_2019 = set(inspections_2019_pd['CUISINE DESCRIPTION'])\n",
        "cuisines_2022 = set(inspections_2022_pd['CUISINE DESCRIPTION'])\n",
        "all_cuisines = sorted(cuisines_2019.union(cuisines_2022))\n",
        "\n",
        "# get the counts for each cuisine for both years\n",
        "counts_2019 = [inspections_2019_pd[inspections_2019_pd['CUISINE DESCRIPTION'] == cuisine]['count'].iloc[0] if cuisine in cuisines_2019 else 0 for cuisine in all_cuisines]\n",
        "counts_2022 = [inspections_2022_pd[inspections_2022_pd['CUISINE DESCRIPTION'] == cuisine]['count'].iloc[0] if cuisine in cuisines_2022 else 0 for cuisine in all_cuisines]\n",
        "\n",
        "# plot the number of inspections for all cuisines in 2019 and 2022\n",
        "\n",
        "fig, ax = plt.subplots(figsize=(15, 10))\n",
        "width = 0.35\n",
        "x = np.arange(len(all_cuisines))\n",
        "ax.bar(x, counts_2019, width=width, label='2019')\n",
        "ax.bar(x + width, counts_2022, width=width, label='2022')\n",
        "ax.set_xticks(x + width / 2)\n",
        "ax.set_xticklabels(all_cuisines, rotation=45, ha='right')\n",
        "ax.set_xlabel('Cuisine Description',fontsize = 20)\n",
        "ax.set_ylabel('Inspections',fontsize = 20)\n",
        "ax.set_title('Number of Inspections By Cuisine Type',fontsize = 40)\n",
        "ax.legend(fontsize=\"20\")\n",
        "plt.tight_layout()\n",
        "\n",
        "file_name = \"Number_of_Inspections_By_Cuisine_Type.png\"\n",
        "plt.savefig(os.path.join(results_dir, file_name))\n",
        "plt.show()\n"
      ]
    },
    {
      "cell_type": "markdown",
      "id": "33d8fbda",
      "metadata": {
        "id": "33d8fbda"
      },
      "source": [
        "The grapgh above indicates we have some new cuisine types with overall more inspectoins in 2022 such as coffee/Tea and Mexican. Lets normalize the findings above and see the which have more inspections per number of restaurants for each of those years."
      ]
    },
    {
      "cell_type": "code",
      "execution_count": 53,
      "id": "08ef35c5",
      "metadata": {
        "colab": {
          "base_uri": "https://localhost:8080/"
        },
        "id": "08ef35c5",
        "outputId": "7ba660ba-0104-45b1-e60d-bbaf7e48a961"
      },
      "outputs": [
        {
          "output_type": "stream",
          "name": "stdout",
          "text": [
            "Coffee/Tea: 17.03% increase from 2019 to 2022\n",
            "Chinese: 9.47% increase from 2019 to 2022\n",
            "Pizza: 7.41% increase from 2019 to 2022\n",
            "American: 3.66% increase from 2019 to 2022\n",
            "Mexican: -5.83% increase from 2019 to 2022\n",
            "Latin American: -6.64% increase from 2019 to 2022\n",
            "Italian: -16.11% increase from 2019 to 2022\n"
          ]
        }
      ],
      "source": [
        "from pyspark.sql.functions import col, year\n",
        "\n",
        "# create an empty dictionary to hold the results\n",
        "results = {}\n",
        "cuisines = [\"American\", \"Chinese\", \"Coffee/Tea\", \"Italian\", \"Latin American\", \"Mexican\", \"Pizza\"]\n",
        "\n",
        "# loop through all unique cuisine types in the dataset\n",
        "for cuisine in cuisines:\n",
        "    # count the number of inspections for the current cuisine type in 2019 and 2022\n",
        "    count_2019 = inspection_df.filter((col(\"CUISINE DESCRIPTION\") == cuisine) & (year(col(\"INSPECTION DATE\")) == 2019)).count()\n",
        "    count_2022 = inspection_df.filter((col(\"CUISINE DESCRIPTION\") == cuisine) & (year(col(\"INSPECTION DATE\")) == 2022)).count()\n",
        "\n",
        "    # count the number of unique restaurants for the current cuisine type in 2019 and 2022\n",
        "    unique_restaurants_2019 = inspection_df.filter((col(\"CUISINE DESCRIPTION\") == cuisine) & (year(col(\"INSPECTION DATE\")) == 2019)).agg(countDistinct('CAMIS')).collect()[0][0]\n",
        "    unique_restaurants_2022 = inspection_df.filter((col(\"CUISINE DESCRIPTION\") == cuisine) & (year(col(\"INSPECTION DATE\")) == 2022)).agg(countDistinct('CAMIS')).collect()[0][0]\n",
        "\n",
        "    # calculate the inspections per restaurant for the current cuisine type in 2019 and 2022\n",
        "    inspections_per_restaurant_2019 = count_2019 / unique_restaurants_2019 if unique_restaurants_2019 != 0 else 0\n",
        "    inspections_per_restaurant_2022 = count_2022 / unique_restaurants_2022 if unique_restaurants_2022 != 0 else 0\n",
        "\n",
        "    # calculate the percentage increase from 2019 to 2022\n",
        "    if inspections_per_restaurant_2019 != 0:\n",
        "        pct_increase = (inspections_per_restaurant_2022 - inspections_per_restaurant_2019) / inspections_per_restaurant_2019 * 100\n",
        "\n",
        "        # add the result to the dictionary\n",
        "        results[cuisine] = pct_increase\n",
        "\n",
        "# print the results\n",
        "for cuisine, pct_increase in sorted(results.items(), key=lambda x: x[1], reverse=True):\n",
        "    print(f\"{cuisine}: {pct_increase:.2f}% increase from 2019 to 2022\")\n"
      ]
    },
    {
      "cell_type": "markdown",
      "id": "98e64ee9",
      "metadata": {
        "id": "98e64ee9"
      },
      "source": [
        "Based on the findings above we can see that Coffee/tea and Chinese had the highest increase in inpections per prestaurant count from 2019 to 2022. Lets take a closer look at those two. "
      ]
    },
    {
      "cell_type": "markdown",
      "id": "50eef76c",
      "metadata": {
        "id": "50eef76c"
      },
      "source": [
        " "
      ]
    },
    {
      "cell_type": "markdown",
      "id": "d4cbaf27",
      "metadata": {
        "id": "d4cbaf27"
      },
      "source": [
        "First I want to see if people working from home affected the number of unique coffee restaurants once the pandamic started. Lets see the change in unique restaurants between coffee and all other cuisine types."
      ]
    },
    {
      "cell_type": "code",
      "execution_count": 54,
      "id": "3e871888",
      "metadata": {
        "colab": {
          "base_uri": "https://localhost:8080/"
        },
        "id": "3e871888",
        "outputId": "39379158-750b-4678-b378-71c14b87b174"
      },
      "outputs": [
        {
          "output_type": "stream",
          "name": "stdout",
          "text": [
            "   count  year  percent_change\n",
            "0     25  2018             NaN\n",
            "1    407  2019       15.280000\n",
            "2    258  2020       -0.366093\n",
            "3    561  2021        1.174419\n",
            "4   1546  2022        1.755793\n"
          ]
        }
      ],
      "source": [
        "unique_coffee_shops = spark.sql(\"\"\" \n",
        "SELECT COUNT(DISTINCT CAMIS) AS count, YEAR(`INSPECTION DATE`) AS year\n",
        "FROM inspections\n",
        "WHERE `CUISINE DESCRIPTION` = 'Coffee/Tea' AND YEAR(`INSPECTION DATE`) BETWEEN 2018 AND 2022\n",
        "GROUP BY YEAR(`INSPECTION DATE`)\n",
        "ORDER BY year ASC\n",
        "\n",
        "\"\"\")\n",
        "\n",
        "# convert the Spark DataFrame to a Pandas DataFrame\n",
        "unique_coffee_shops_pd = unique_coffee_shops.toPandas()\n",
        "\n",
        "# calculate the percentage change between consecutive years\n",
        "percent_change = unique_coffee_shops_pd['count'].pct_change()\n",
        "\n",
        "# add the percentage change as a new column to the DataFrame\n",
        "unique_coffee_shops_pd['percent_change'] = percent_change\n",
        "\n",
        "# print the resulting DataFrame\n",
        "print(unique_coffee_shops_pd)\n"
      ]
    },
    {
      "cell_type": "code",
      "execution_count": 55,
      "id": "bdc94612",
      "metadata": {
        "colab": {
          "base_uri": "https://localhost:8080/"
        },
        "id": "bdc94612",
        "outputId": "e05f27a1-ad92-4191-d782-e849dc46f007"
      },
      "outputs": [
        {
          "output_type": "stream",
          "name": "stdout",
          "text": [
            "   count  year  percent_change\n",
            "0    904  2018             NaN\n",
            "1   6330  2019        6.002212\n",
            "2   4535  2020       -0.283570\n",
            "3   5211  2021        0.149063\n",
            "4  18325  2022        2.516600\n"
          ]
        }
      ],
      "source": [
        "unique_not_coffee_shops = spark.sql(\"\"\" \n",
        "SELECT COUNT(DISTINCT CAMIS) AS count, YEAR(`INSPECTION DATE`) AS year\n",
        "FROM inspections\n",
        "WHERE `CUISINE DESCRIPTION` != 'Coffee/Tea' AND YEAR(`INSPECTION DATE`) BETWEEN 2018 AND 2022\n",
        "GROUP BY YEAR(`INSPECTION DATE`)\n",
        "ORDER BY year ASC\n",
        "\n",
        "\"\"\")\n",
        "\n",
        "# convert the Spark DataFrame to a Pandas DataFrame\n",
        "unique_not_coffee_shops_pd = unique_not_coffee_shops.toPandas()\n",
        "\n",
        "# calculate the percentage change between consecutive years\n",
        "percent_change = unique_not_coffee_shops_pd['count'].pct_change()\n",
        "\n",
        "# add the percentage change as a new column to the DataFrame\n",
        "unique_not_coffee_shops_pd['percent_change'] = percent_change\n",
        "\n",
        "# print the resulting DataFrame\n",
        "print(unique_not_coffee_shops_pd)\n"
      ]
    },
    {
      "cell_type": "code",
      "execution_count": 56,
      "id": "da689463",
      "metadata": {
        "colab": {
          "base_uri": "https://localhost:8080/",
          "height": 777
        },
        "id": "da689463",
        "outputId": "89044bcd-6be4-4d9f-e50a-300286d55634"
      },
      "outputs": [
        {
          "output_type": "display_data",
          "data": {
            "text/plain": [
              "<Figure size 2000x1000 with 1 Axes>"
            ],
            "image/png": "[encoded data removed]"
          },
          "metadata": {}
        }
      ],
      "source": [
        "# plot the percent change for unique coffee shops and non-coffee shops\n",
        "fig, ax = plt.subplots(figsize=(20, 10))\n",
        "ax.plot(unique_coffee_shops_pd['year'].to_numpy(), unique_coffee_shops_pd['percent_change'].to_numpy(), label='Coffee/Tea')\n",
        "ax.plot(unique_not_coffee_shops_pd['year'].to_numpy(), unique_not_coffee_shops_pd['percent_change'].to_numpy(), label='Not Coffee/Tea')\n",
        "ax.set_xticks(range(2019, 2023))\n",
        "ax.set_xlabel('Year', fontsize = 20)\n",
        "ax.set_ylabel('Percent Change', fontsize = 20)\n",
        "ax.set_title('YoY change For Number of Unique Coffee Shops vs Other Restaurant Types', fontsize =20)\n",
        "ax.legend(fontsize=\"20\")\n",
        "\n",
        "file_name = \"percent_change_for_unique_coffee_shops.png\"\n",
        "plt.savefig(os.path.join(results_dir, file_name))\n",
        "\n",
        "plt.show()\n"
      ]
    },
    {
      "cell_type": "markdown",
      "id": "ac9bce51",
      "metadata": {
        "id": "ac9bce51"
      },
      "source": [
        "Based on our findings we can see that the number of unique Coffee/Tea restaurants decreased by 36% from 2019 to 2022 as compared to all other cuisine types which decreased by 28%. Further the increase from 2021 to 2022 was far fewer compared to other cuisine types."
      ]
    },
    {
      "cell_type": "markdown",
      "id": "40453975",
      "metadata": {
        "id": "40453975"
      },
      "source": [
        " "
      ]
    },
    {
      "cell_type": "markdown",
      "id": "eef00f65",
      "metadata": {
        "id": "eef00f65"
      },
      "source": [
        " "
      ]
    },
    {
      "cell_type": "markdown",
      "id": "5f2a1547",
      "metadata": {
        "id": "5f2a1547"
      },
      "source": [
        "Now lets take a look at chinese restauarants and compare the inspections to see if the pandameic caused the inspections on chinese restaurants to increease. "
      ]
    },
    {
      "cell_type": "markdown",
      "id": "bbba01f2",
      "metadata": {
        "id": "bbba01f2"
      },
      "source": [
        "Lets find the increase of inspection of chinese and asian restaruants from 2019 to 2022 comprared to american and all other cuisine types. "
      ]
    },
    {
      "cell_type": "code",
      "execution_count": 57,
      "id": "bf85078d",
      "metadata": {
        "colab": {
          "base_uri": "https://localhost:8080/"
        },
        "id": "bf85078d",
        "outputId": "99b34bb3-68de-4aff-8b2c-671bae5917f0"
      },
      "outputs": [
        {
          "output_type": "stream",
          "name": "stdout",
          "text": [
            "Percentage increase for Asian/Asian Fusion and Chinese cuisine types: 232.79%\n",
            "Percentage increase for American cuisine types: 140.44%\n",
            "Percentage increase for all other cuisine types: 202.08%\n"
          ]
        }
      ],
      "source": [
        "from pyspark.sql.functions import col, year\n",
        "\n",
        "# Count the number of inspections for Asian/Asian Fusion and Chinese cuisine types in 2019 and 2022\n",
        "asian_chinese_counts_2019 = inspection_df.filter((col(\"CUISINE DESCRIPTION\").isin(['Asian/Asian Fusion', 'Chinese'])) & (year(col(\"INSPECTION DATE\")) == 2019)).count()\n",
        "asian_chinese_counts_2022 = inspection_df.filter((col(\"CUISINE DESCRIPTION\").isin(['Asian/Asian Fusion', 'Chinese'])) & (year(col(\"INSPECTION DATE\")) == 2022)).count()\n",
        "# Calculate the percentage increase for Asian/Asian Fusion and Chinese cuisine types\n",
        "asian_chinese_pct_increase = (asian_chinese_counts_2022 - asian_chinese_counts_2019) / asian_chinese_counts_2019 * 100\n",
        "\n",
        "\n",
        "\n",
        "# Count the number of inspections for American cuisine types in 2019 and 2022\n",
        "american_counts_2019 = inspection_df.filter((col(\"CUISINE DESCRIPTION\") == \"American\") & (year(col(\"INSPECTION DATE\")) == 2019)).count()\n",
        "american_counts_2022 = inspection_df.filter((col(\"CUISINE DESCRIPTION\") == \"American\") & (year(col(\"INSPECTION DATE\")) == 2022)).count()\n",
        "# Calculate the percentage increase for American cuisine types\n",
        "american_pct_increase = (american_counts_2022 - american_counts_2019) / american_counts_2019 * 100\n",
        "\n",
        "\n",
        "# Count the number of inspections for all other cuisine types in 2019 and 2022\n",
        "other_cuisine_counts_2019 = inspection_df.filter(~col(\"CUISINE DESCRIPTION\").isin(['Asian/Asian Fusion', 'Chinese']) & (year(col(\"INSPECTION DATE\")) == 2019)).count()\n",
        "other_cuisine_counts_2022 = inspection_df.filter(~col(\"CUISINE DESCRIPTION\").isin(['Asian/Asian Fusion', 'Chinese']) & (year(col(\"INSPECTION DATE\")) == 2022)).count()\n",
        "# Calculate the percentage increase for all other cuisine types\n",
        "other_cuisine_pct_increase = (other_cuisine_counts_2022 - other_cuisine_counts_2019) / other_cuisine_counts_2019 * 100\n",
        "\n",
        "# Print the results\n",
        "print(f\"Percentage increase for Asian/Asian Fusion and Chinese cuisine types: {asian_chinese_pct_increase:.2f}%\")\n",
        "print(f\"Percentage increase for American cuisine types: {american_pct_increase:.2f}%\")\n",
        "print(f\"Percentage increase for all other cuisine types: {other_cuisine_pct_increase:.2f}%\")\n"
      ]
    },
    {
      "cell_type": "markdown",
      "id": "e0ec3d9a",
      "metadata": {
        "id": "e0ec3d9a"
      },
      "source": [
        "Display the findings on a graph"
      ]
    },
    {
      "cell_type": "code",
      "execution_count": 58,
      "id": "2ed121c8",
      "metadata": {
        "colab": {
          "base_uri": "https://localhost:8080/",
          "height": 586
        },
        "id": "2ed121c8",
        "outputId": "ec84f566-4b7a-4947-f257-934f8e47371c"
      },
      "outputs": [
        {
          "output_type": "display_data",
          "data": {
            "text/plain": [
              "<Figure size 1000x600 with 1 Axes>"
            ],
            "image/png": "[encoded data removed]"
          },
          "metadata": {}
        }
      ],
      "source": [
        "\n",
        "# Define the data\n",
        "cuisine_types = ['Asian/Chinese', 'Other','American']\n",
        "pct_increases = [asian_chinese_pct_increase, other_cuisine_pct_increase,american_pct_increase ,]\n",
        "\n",
        "plt.figure(figsize=(10,6))\n",
        "plt.bar(cuisine_types, pct_increases)\n",
        "\n",
        "plt.xlabel('Cuisine Types', fontsize = 20)\n",
        "plt.ylabel('Percentage Increase',fontsize = 20)\n",
        "plt.title('Percentage Increase in Inspections by Cuisine Type (2019 to 2022)', fontsize = 20)\n",
        "\n",
        "\n",
        "file_name = \"Percentage_Increase_in_Inspections_by_Cuisine_Type.png\"\n",
        "plt.savefig(os.path.join(results_dir, file_name))\n",
        "\n",
        "plt.show()\n"
      ]
    },
    {
      "cell_type": "markdown",
      "id": "c71c7979",
      "metadata": {
        "id": "c71c7979"
      },
      "source": [
        "The Graph above clearly shows that Chinese restaurants has a high increase in inspections from 2019 to 2022 compared to the average inccrease amongst all restaurants and particulary American restaurants."
      ]
    },
    {
      "cell_type": "code",
      "execution_count": 58,
      "id": "b7d59dee",
      "metadata": {
        "id": "b7d59dee"
      },
      "outputs": [],
      "source": []
    },
    {
      "cell_type": "markdown",
      "id": "5656cecf",
      "metadata": {
        "id": "5656cecf"
      },
      "source": [
        "Now lets see if new violation types were introduced after the pandamic. "
      ]
    },
    {
      "cell_type": "code",
      "execution_count": 59,
      "id": "17070c7d",
      "metadata": {
        "colab": {
          "base_uri": "https://localhost:8080/"
        },
        "id": "17070c7d",
        "outputId": "272ee621-4248-4381-e02a-8adf573a3e1c"
      },
      "outputs": [
        {
          "output_type": "stream",
          "name": "stdout",
          "text": [
            "+--------------+-----+\n",
            "|VIOLATION CODE|count|\n",
            "+--------------+-----+\n",
            "|         20-04|  550|\n",
            "|         20-06|  460|\n",
            "|           09E|  331|\n",
            "|         20-01|  290|\n",
            "|         28-06|  256|\n",
            "|         20-08|  190|\n",
            "|         19-10|  133|\n",
            "|         19-06|  123|\n",
            "|         28-01|  117|\n",
            "|         16-02|  111|\n",
            "+--------------+-----+\n",
            "only showing top 10 rows\n",
            "\n"
          ]
        }
      ],
      "source": [
        "# get set of violation codes for inspections before 2020\n",
        "before_2020_violations = inspection_df.filter(year(col(\"INSPECTION DATE\")) < 2020) \\\n",
        "    .select(\"VIOLATION CODE\").distinct()\n",
        "\n",
        "# get set of violation codes for inspections in 2020 and after\n",
        "after_2020_violations = inspection_df.filter(year(col(\"INSPECTION DATE\")) >= 2020) \\\n",
        "    .select(\"VIOLATION CODE\").distinct()\n",
        "\n",
        "# get set difference of violation codes between 2020 and after and before 2020\n",
        "new_violations = after_2020_violations.subtract(before_2020_violations)\n",
        "\n",
        "new_violations_list = (new_violations.select('VIOLATION CODE').\n",
        "      rdd.flatMap(lambda x: x).collect())\n",
        "\n",
        "\n",
        "new_violations_count = inspection_df.filter(col(\"VIOLATION CODE\").isin(new_violations_list)) \\\n",
        "    .groupBy(\"VIOLATION CODE\").count() \\\n",
        "    .orderBy(col(\"count\").desc())\n",
        "\n",
        "new_violations_count.show(10)\n",
        "\n"
      ]
    },
    {
      "cell_type": "markdown",
      "id": "15448809",
      "metadata": {
        "id": "15448809"
      },
      "source": [
        "After reading the description of the codes above on https://www.nyc.gov/assets/doh/downloads/pdf/about/healthcode/health-code-chapter23.pdf we can conclude that there were a lot more different violations that were previously not given by inspectors indicating that inspections could have got more strict.\n",
        "\n",
        "20-04 -Alcohol use during pregnancy sign not posted*** \n",
        "20-06 -Grade card not posted after reopening when FSE ordered closed by BFSCS\n",
        "09E - Wash hands sign not posted\n",
        "20-01-Allergy poster not posted or not in correct location\n",
        "28-06-Contract with pest management professional, record of pest exterminations, activities not kept on premises\n",
        "20-08-Failure to post or conspicuously post healthyeating information***\n",
        "19-10- Failure to display required signage about plastic straw availability\n",
        "19-06- Providing single-use, non-compostable plastic straws to customers without customer request \n",
        "28-01- Insufficient heat in commercial premises\n",
        "16-02-Nutritional fact labels and/or ingredient label is not maintained on site\n",
        "\n"
      ]
    },
    {
      "cell_type": "code",
      "execution_count": 59,
      "id": "5b1e3163",
      "metadata": {
        "id": "5b1e3163"
      },
      "outputs": [],
      "source": []
    },
    {
      "cell_type": "markdown",
      "id": "4efaa04d",
      "metadata": {
        "id": "4efaa04d"
      },
      "source": [
        "Check if certain violations were more prominent in 2022 than 2019"
      ]
    },
    {
      "cell_type": "code",
      "execution_count": 60,
      "id": "67afbd6d",
      "metadata": {
        "colab": {
          "base_uri": "https://localhost:8080/"
        },
        "id": "67afbd6d",
        "outputId": "ff355742-4a7e-462b-fd3c-77f02b22c738"
      },
      "outputs": [
        {
          "output_type": "stream",
          "name": "stdout",
          "text": [
            "Top 5 violations in 2019:\n",
            "   VIOLATION CODE  count\n",
            "0            10F   4504\n",
            "1            08A   3329\n",
            "2            06D   2193\n",
            "3            04L   2002\n",
            "4            04N   1758\n",
            "\n",
            "Top 5 violations in 2022:\n",
            "   VIOLATION CODE  count\n",
            "0            10F   2565\n",
            "1            08A   1666\n",
            "2            04L   1237\n",
            "3            06D   1187\n",
            "4            06C    941\n"
          ]
        }
      ],
      "source": [
        "violations_2019 = spark.sql(\"\"\"\n",
        "    SELECT `VIOLATION CODE`, COUNT(*) as count\n",
        "    FROM inspections\n",
        "    WHERE `INSPECTION YEAR` = '2019'\n",
        "    GROUP BY `VIOLATION CODE`\n",
        "    ORDER BY count DESC\n",
        "    LIMIT 5\n",
        "\"\"\")\n",
        "\n",
        "violations_2022 = spark.sql(\"\"\"\n",
        "    SELECT `VIOLATION CODE`, COUNT(*) as count\n",
        "    FROM inspections\n",
        "    WHERE `INSPECTION YEAR` = '2020'\n",
        "    GROUP BY `VIOLATION CODE`\n",
        "    ORDER BY count DESC\n",
        "    LIMIT 5\n",
        "\"\"\")\n",
        "\n",
        "# convert the PySpark DataFrames to pandas DataFrames\n",
        "violations_2019_pd = violations_2019.toPandas()\n",
        "violations_2022_pd = violations_2022.toPandas()\n",
        "\n",
        "# display the pandas DataFrames\n",
        "print('Top 5 violations in 2019:\\n', violations_2019_pd)\n",
        "print('\\nTop 5 violations in 2022:\\n', violations_2022_pd)\n"
      ]
    },
    {
      "cell_type": "markdown",
      "id": "0ab65ee4",
      "metadata": {
        "id": "0ab65ee4"
      },
      "source": [
        "Based on the information above there is not much difference in the top violations which could indicate anything"
      ]
    },
    {
      "cell_type": "code",
      "execution_count": 60,
      "id": "7782f548",
      "metadata": {
        "id": "7782f548"
      },
      "outputs": [],
      "source": []
    },
    {
      "cell_type": "markdown",
      "id": "d5dea95b",
      "metadata": {
        "id": "d5dea95b"
      },
      "source": [
        "Find TOP 3 MOST AMOUNT of inspections by ZIPCODE PER YEAR STARTING IN 2019 THEN GRAPH the change for each of those zip codes  "
      ]
    },
    {
      "cell_type": "code",
      "execution_count": 61,
      "id": "3fb406b7",
      "metadata": {
        "colab": {
          "base_uri": "https://localhost:8080/"
        },
        "id": "3fb406b7",
        "outputId": "f3db2c16-8384-4b86-fc96-ac8fe26b31e4"
      },
      "outputs": [
        {
          "output_type": "stream",
          "name": "stdout",
          "text": [
            "Top 3 zip codes for inspections in 2019:\n",
            "+-------+-----+\n",
            "|ZIPCODE|count|\n",
            "+-------+-----+\n",
            "|  10003|  755|\n",
            "|  10019|  725|\n",
            "|  10036|  680|\n",
            "+-------+-----+\n",
            "\n",
            "Top 3 zip codes for inspections in 2022:\n",
            "+-------+-----+\n",
            "|ZIPCODE|count|\n",
            "+-------+-----+\n",
            "|  10013| 2282|\n",
            "|  10003| 2098|\n",
            "|  10019| 1914|\n",
            "+-------+-----+\n",
            "\n"
          ]
        }
      ],
      "source": [
        "from pyspark.sql.functions import year\n",
        "\n",
        "# filter inspections for 2019 and find top 3 zip codes\n",
        "top_zips_2019 = inspection_df.filter(year(col(\"INSPECTION DATE\")) == 2019) \\\n",
        "    .groupBy('ZIPCODE').count().orderBy('count', ascending=False).limit(3)\n",
        "\n",
        "# filter inspections for 2022 and find top 3 zip codes\n",
        "top_zips_2022 = inspection_df.filter(year(col(\"INSPECTION DATE\")) == 2022) \\\n",
        "    .groupBy('ZIPCODE').count().orderBy('count', ascending=False).limit(3)\n",
        "\n",
        "# show results\n",
        "print(\"Top 3 zip codes for inspections in 2019:\")\n",
        "top_zips_2019.show()\n",
        "\n",
        "print(\"Top 3 zip codes for inspections in 2022:\")\n",
        "top_zips_2022.show()\n"
      ]
    },
    {
      "cell_type": "markdown",
      "id": "8eee3ce8",
      "metadata": {
        "id": "8eee3ce8"
      },
      "source": [
        "We can see with the data above that there was a change in top 3 with the highest changing to 10013. Lets map the zipcodes to their respective neighborhood and plot the top 3 for each year. "
      ]
    },
    {
      "cell_type": "code",
      "execution_count": 62,
      "id": "624f29d6",
      "metadata": {
        "colab": {
          "base_uri": "https://localhost:8080/",
          "height": 1000
        },
        "id": "624f29d6",
        "outputId": "00ada87e-a9d1-4d58-8c85-f1b39680b6aa"
      },
      "outputs": [
        {
          "output_type": "stream",
          "name": "stderr",
          "text": [
            "<ipython-input-62-31d512a17699>:27: UserWarning: FixedFormatter should only be used together with FixedLocator\n",
            "  ax.set_xticklabels([zip_to_neighborhood.get(str(zip_code), 'Unknown') for zip_code in data_2019['ZIPCODE']])\n"
          ]
        },
        {
          "output_type": "display_data",
          "data": {
            "text/plain": [
              "<Figure size 1000x600 with 1 Axes>"
            ],
            "image/png": "[encoded data removed]"
          },
          "metadata": {}
        },
        {
          "output_type": "stream",
          "name": "stderr",
          "text": [
            "<ipython-input-62-31d512a17699>:50: UserWarning: FixedFormatter should only be used together with FixedLocator\n",
            "  ax.set_xticklabels([zip_to_neighborhood.get(str(zip_code), 'Unknown') for zip_code in data_2022['ZIPCODE']])\n"
          ]
        },
        {
          "output_type": "display_data",
          "data": {
            "text/plain": [
              "<Figure size 1000x600 with 1 Axes>"
            ],
            "image/png": "[encoded data removed]"
          },
          "metadata": {}
        }
      ],
      "source": [
        "#conver to pandas\n",
        "data_2019 = top_zips_2019.toPandas()\n",
        "data_2022 = top_zips_2022.toPandas()\n",
        "\n",
        "# create a dictionary mapping zip codes to neighborhoods\n",
        "zip_to_neighborhood = {\n",
        "    '10003': 'East Village',\n",
        "    '10013': 'Chinatown',\n",
        "    '10019': 'Midtown West',\n",
        "    '10036': 'Midtown',\n",
        "    '10002': 'Lower East Side'\n",
        "}\n",
        "\n",
        "\n",
        "\n",
        "# create the bar chart for 2019\n",
        "fig, ax = plt.subplots(figsize = (10,6))\n",
        "\n",
        "colors = ['blue', 'orange', 'green']\n",
        "\n",
        "ax.bar([zip_to_neighborhood.get(str(zip_code), 'Unknown') for zip_code in data_2019['ZIPCODE']], data_2019['count'], color=colors)\n",
        "\n",
        "ax.set_xlabel('Neighborhood')\n",
        "ax.set_ylabel('Number of inspections')\n",
        "ax.set_title('Top 3 Zip Codes with the Most Inspections in 2019')\n",
        "\n",
        "ax.set_xticklabels([zip_to_neighborhood.get(str(zip_code), 'Unknown') for zip_code in data_2019['ZIPCODE']])\n",
        "\n",
        "plt.subplots_adjust(left=0.4, bottom=0.2)\n",
        "\n",
        "plt.xticks(rotation=45, ha='right')\n",
        "file_name = \"Top_3_Zip_Codes_2019.png\"\n",
        "plt.savefig(os.path.join(results_dir, file_name))\n",
        "plt.show()\n",
        "\n",
        "\n",
        "\n",
        "\n",
        "#create the bar chart for 2022\n",
        "colors = ['red', 'blue', 'orange']\n",
        "\n",
        "fig, ax = plt.subplots(figsize = (10,6))\n",
        "ax.bar([zip_to_neighborhood.get(str(zip_code), 'Unknown') for zip_code in data_2022['ZIPCODE']], data_2022['count'], color=colors)\n",
        "\n",
        "ax.set_xlabel('Neighborhood')\n",
        "ax.set_ylabel('Number of inspections')\n",
        "ax.set_title('Top 3 Zip Codes with the Most Inspections in 2022')\n",
        "\n",
        "# set the x-axis tick labels to the neighborhood names\n",
        "ax.set_xticklabels([zip_to_neighborhood.get(str(zip_code), 'Unknown') for zip_code in data_2022['ZIPCODE']])\n",
        "\n",
        "plt.subplots_adjust(left=0.4, bottom=0.2)\n",
        "plt.xticks(rotation=45, ha='right')\n",
        "file_name = \"Top_3_Zip_Codes_2022.png\"\n",
        "plt.savefig(os.path.join(results_dir, file_name))\n",
        "plt.show()\n"
      ]
    },
    {
      "cell_type": "code",
      "execution_count": 62,
      "id": "97c75308",
      "metadata": {
        "id": "97c75308"
      },
      "outputs": [],
      "source": []
    },
    {
      "cell_type": "code",
      "execution_count": 62,
      "id": "284da6ee",
      "metadata": {
        "id": "284da6ee"
      },
      "outputs": [],
      "source": []
    },
    {
      "cell_type": "markdown",
      "id": "a28a0b7f",
      "metadata": {
        "id": "a28a0b7f"
      },
      "source": [
        "Moving forward with the EDA, lets determine if the inspections became more strict. The first method we can use is to compare the number of restaraunts that of which have closed due to the inspections failing."
      ]
    },
    {
      "cell_type": "markdown",
      "id": "3a4317c2",
      "metadata": {
        "id": "3a4317c2"
      },
      "source": [
        "Lets use the action column to compare when ACTION includes \"CLOSED\" "
      ]
    },
    {
      "cell_type": "code",
      "execution_count": 63,
      "id": "b2bec76a",
      "metadata": {
        "colab": {
          "base_uri": "https://localhost:8080/"
        },
        "id": "b2bec76a",
        "outputId": "5a4c545d-0647-4c0d-c780-e61803c33f05"
      },
      "outputs": [
        {
          "output_type": "stream",
          "name": "stdout",
          "text": [
            "Number of closed restaurants in 2019: 999\n",
            "Number of closed restaurants in 2022: 3734\n",
            "Percentage increase: 273.77%\n"
          ]
        }
      ],
      "source": [
        "# filter inspections for closed restaurants in 2019\n",
        "closed_2019 = inspection_df.filter(\"YEAR(`INSPECTION DATE`) == 2019 AND (`Action` == 'Establishment Closed by DOHMH. Violations were cited in the following area(s) and those requiring immediate action were addressed.' OR `Action` == 'Establishment re-closed by DOHMH.')\")\n",
        "closed_2019_count = closed_2019.count()\n",
        "\n",
        "# filter inspections for closed restaurants in 2022\n",
        "closed_2022 = inspection_df.filter(\"YEAR(`INSPECTION DATE`) == 2022 AND (`Action` == 'Establishment Closed by DOHMH. Violations were cited in the following area(s) and those requiring immediate action were addressed.' OR `Action` == 'Establishment re-closed by DOHMH.')\")\n",
        "closed_2022_count = closed_2022.count()\n",
        "\n",
        "# calculate the percentage increase\n",
        "closed_increase = ((closed_2022_count - closed_2019_count) / closed_2019_count) * 100\n",
        "\n",
        "# print the counts for each year and the percentage increase\n",
        "print(f\"Number of closed restaurants in 2019: {closed_2019_count}\")\n",
        "print(f\"Number of closed restaurants in 2022: {closed_2022_count}\")\n",
        "print(f\"Percentage increase: {closed_increase:.2f}%\")\n"
      ]
    },
    {
      "cell_type": "markdown",
      "id": "1fce5ba6",
      "metadata": {
        "id": "1fce5ba6"
      },
      "source": [
        "FIND PERCENT CHANGE IN CRIITCAL FLAG = Critical "
      ]
    },
    {
      "cell_type": "code",
      "execution_count": 64,
      "id": "1a415e7d",
      "metadata": {
        "colab": {
          "base_uri": "https://localhost:8080/"
        },
        "id": "1a415e7d",
        "outputId": "c1dbbe64-70de-4b3b-85c7-f086c469b0d4"
      },
      "outputs": [
        {
          "output_type": "stream",
          "name": "stdout",
          "text": [
            "Number of Critical Flags in 2019: 16254\n",
            "Number of Critical Flags in 2022: 51099\n",
            "Perecnt increase: 214.38%\n"
          ]
        }
      ],
      "source": [
        "\n",
        "\n",
        "critical_2019 = inspection_df.filter(\"YEAR(`INSPECTION DATE`) == 2019 AND `CRITICAL FLAG` == 'Critical'\")\n",
        "critical_2019_count = critical_2019.count()\n",
        "\n",
        "# filter inspections for closed restaurants in 2022\n",
        "critical_2022 = inspection_df.filter(\"YEAR(`INSPECTION DATE`) == 2022 AND `CRITICAL FLAG` == 'Critical'\")\n",
        "critical_2022_count = critical_2022.count()\n",
        "\n",
        "critical_flag_increase = ((critical_2022_count -critical_2019_count) / critical_2019_count) *100\n",
        "\n",
        "# print the counts for each year\n",
        "print(f\"Number of Critical Flags in 2019: {critical_2019_count}\")\n",
        "print(f\"Number of Critical Flags in 2022: {critical_2022_count}\")\n",
        "print(f\"Perecnt increase: {critical_flag_increase:.2f}%\")"
      ]
    },
    {
      "cell_type": "markdown",
      "id": "67cf1414",
      "metadata": {
        "id": "67cf1414"
      },
      "source": [
        "Count number of unique restaurants for 2019 AND 2022"
      ]
    },
    {
      "cell_type": "code",
      "execution_count": 65,
      "id": "fbbee7dc",
      "metadata": {
        "colab": {
          "base_uri": "https://localhost:8080/"
        },
        "id": "fbbee7dc",
        "outputId": "f9b148dd-8b6a-4ad4-ef8d-be8803276a12"
      },
      "outputs": [
        {
          "output_type": "stream",
          "name": "stdout",
          "text": [
            "Number of unique restaurants in 2019: 6737\n",
            "Number of unique restaurants in 2022: 19871\n",
            "Percent Icncrease: 194.95%\n"
          ]
        }
      ],
      "source": [
        "# count number of unique restaurants for 2019\n",
        "unique_restaurants_2019 = inspection_df.filter(inspection_df['INSPECTION DATE'].contains('2019')) \\\n",
        "                                        .agg(countDistinct('CAMIS')).collect()[0][0]\n",
        "print(\"Number of unique restaurants in 2019:\", unique_restaurants_2019)\n",
        "\n",
        "# count number of unique restaurants for 2022\n",
        "unique_restaurants_2022 = inspection_df.filter(inspection_df['INSPECTION DATE'].contains('2022')) \\\n",
        "                                        .agg(countDistinct('CAMIS')).collect()[0][0]\n",
        "print(\"Number of unique restaurants in 2022:\", unique_restaurants_2022)\n",
        "\n",
        "\n",
        "unique_increase = ((unique_restaurants_2022 - unique_restaurants_2019) / unique_restaurants_2019) * 100\n",
        "print(f\"Percent Icncrease: {unique_increase:.2f}%\")"
      ]
    },
    {
      "cell_type": "code",
      "execution_count": 66,
      "id": "c9dcd5aa",
      "metadata": {
        "colab": {
          "base_uri": "https://localhost:8080/",
          "height": 516
        },
        "id": "c9dcd5aa",
        "outputId": "d605e991-94ee-40a0-feb9-096d6a69eaf1"
      },
      "outputs": [
        {
          "output_type": "display_data",
          "data": {
            "text/plain": [
              "<Figure size 1500x1000 with 1 Axes>"
            ],
            "image/png": "[encoded data removed]"
          },
          "metadata": {}
        }
      ],
      "source": [
        "\n",
        "\n",
        "# create the bar chart\n",
        "fig, ax = plt.subplots(figsize=(15, 10))\n",
        "ax.barh(['Closed Restaurants', 'Critical Flag Violations', 'Unique Restaurants'], \n",
        "        [closed_increase, critical_flag_increase, unique_increase], \n",
        "        color=['red', 'green', 'blue'])\n",
        "\n",
        "ax.set_xlabel('Percentage Increase', fontsize=15)\n",
        "ax.set_title('Percent Increase from 2019 to 2022', fontsize=20)\n",
        "\n",
        "plt.subplots_adjust(left=0.4, bottom=0.5, right=0.95, top=0.9)\n",
        "\n",
        "\n",
        "file_name = \"Percent_Increase_Closed.png\"\n",
        "plt.savefig(os.path.join(results_dir, file_name))\n",
        "plt.show()\n",
        "\n",
        "\n",
        "\n"
      ]
    },
    {
      "cell_type": "code",
      "execution_count": 67,
      "id": "873cbe0c",
      "metadata": {
        "scrolled": true,
        "colab": {
          "base_uri": "https://localhost:8080/",
          "height": 429
        },
        "id": "873cbe0c",
        "outputId": "617fb01a-6fd6-4b6b-860b-bab2f920fb45"
      },
      "outputs": [
        {
          "output_type": "display_data",
          "data": {
            "text/plain": [
              "<Figure size 1000x400 with 1 Axes>"
            ],
            "image/png": "[encoded data removed]"
          },
          "metadata": {}
        }
      ],
      "source": [
        "\n",
        "# get the average score for each year after 2018\n",
        "avg_scores = spark.sql('''\n",
        "    SELECT YEAR(`INSPECTION DATE`) AS Year, ROUND(AVG(`SCORE`), 2) AS Avg_Score\n",
        "    FROM inspections\n",
        "    WHERE YEAR(`INSPECTION DATE`) >= 2019\n",
        "    GROUP BY Year\n",
        "    ORDER BY Year ASC\n",
        "''')\n",
        "\n",
        "# convert to pandas dataframe\n",
        "avg_scores_pd = avg_scores.toPandas()\n",
        "\n",
        "# create the bar chart\n",
        "fig, ax = plt.subplots(figsize = (10,4))\n",
        "ax.bar(avg_scores_pd['Year'], avg_scores_pd['Avg_Score'], color='blue')\n",
        "\n",
        "\n",
        "ax.set_xlabel('Year', fontsize = 15)\n",
        "ax.set_ylabel('Average Score', fontsize = 15)\n",
        "ax.set_title('Average Inspection Score by Year', fontsize = 25)\n",
        "\n",
        "file_name = \"Average_Inspection_Score_by_Year.png\"\n",
        "plt.savefig(os.path.join(results_dir, file_name))\n",
        "plt.show()\n"
      ]
    },
    {
      "cell_type": "markdown",
      "id": "5a535d6e",
      "metadata": {
        "id": "5a535d6e"
      },
      "source": [
        "The graph indicates that the avg score per inspection is increasing each year after 2020. This can point to the possssibilty that the inspections are indeed more stricter after the pandemic. "
      ]
    },
    {
      "cell_type": "markdown",
      "id": "fbb27e59",
      "metadata": {
        "id": "fbb27e59"
      },
      "source": [
        "Now check if Chinese restaurants in particular had more scrutiny than other restaurants in terms of the avg score from 2019 to 2022. "
      ]
    },
    {
      "cell_type": "code",
      "execution_count": 68,
      "id": "b2d8ae16",
      "metadata": {
        "colab": {
          "base_uri": "https://localhost:8080/",
          "height": 732
        },
        "id": "b2d8ae16",
        "outputId": "76054777-f643-4077-a905-6d0eaaf09c1a"
      },
      "outputs": [
        {
          "output_type": "display_data",
          "data": {
            "text/plain": [
              "<Figure size 1000x800 with 1 Axes>"
            ],
            "image/png": "[encoded data removed]"
          },
          "metadata": {}
        }
      ],
      "source": [
        "from pyspark.sql.functions import col, year\n",
        "\n",
        "# calculate average score for Chinese restaurants in 2019\n",
        "chinese_2019 = inspection_df.filter((col(\"CUISINE DESCRIPTION\") == \"Chinese\") & (year(col(\"INSPECTION DATE\")) == 2019))\n",
        "chinese_2019_avg = chinese_2019.agg(avg(col(\"SCORE\")).alias(\"avg_score\")).collect()[0][\"avg_score\"]\n",
        "\n",
        "# calculate average score for Chinese restaurants in 2022\n",
        "chinese_2022 = inspection_df.filter((col(\"CUISINE DESCRIPTION\") == \"Chinese\") & (year(col(\"INSPECTION DATE\")) == 2022))\n",
        "chinese_2022_avg = chinese_2022.agg(avg(col(\"SCORE\")).alias(\"avg_score\")).collect()[0][\"avg_score\"]\n",
        "\n",
        "# calculate average score for all restaurants except Chinese in 2019 and 2022\n",
        "all_2019 = inspection_df.filter((~col(\"CUISINE DESCRIPTION\").isin([\"Chinese\"])) & (year(col(\"INSPECTION DATE\")) == 2019))\n",
        "all_2022 = inspection_df.filter((~col(\"CUISINE DESCRIPTION\").isin([\"Chinese\"])) & (year(col(\"INSPECTION DATE\")) == 2022))\n",
        "all_2019_avg = all_2019.agg(avg(col(\"SCORE\")).alias(\"avg_score\")).collect()[0][\"avg_score\"]\n",
        "all_2022_avg = all_2022.agg(avg(col(\"SCORE\")).alias(\"avg_score\")).collect()[0][\"avg_score\"]\n",
        "\n",
        "# calculate percent change in average score for Chinese restaurants from 2019 to 2022\n",
        "chinese_change = ((chinese_2022_avg - chinese_2019_avg) / chinese_2019_avg) * 100\n",
        "\n",
        "# calculate percent change in average score for all restaurants except Chinese from 2019 to 2022\n",
        "all_other_change = ((all_2022_avg - all_2019_avg) / all_2019_avg) * 100\n",
        "\n",
        "# plot the results\n",
        "# create the bar chart\n",
        "fig, ax = plt.subplots(figsize=(10, 8))\n",
        "ax.bar(['Chinese', 'All except Chinese'], [chinese_change, all_other_change], color=['red', 'blue'], alpha=0.8)\n",
        "\n",
        "# add labels and title\n",
        "ax.set_xlabel('Cuisine', fontsize=15)\n",
        "ax.set_ylabel('Change in Average Score', fontsize=15)\n",
        "ax.set_title('Change in Average Score from 2019 to 2022', fontsize=20)\n",
        "\n",
        "file_name = \"Chinese_Vs_Other_score.png\"\n",
        "plt.savefig(os.path.join(results_dir, file_name))\n",
        "\n",
        "# show the plot\n",
        "plt.show()\n"
      ]
    },
    {
      "cell_type": "code",
      "execution_count": 69,
      "id": "766c4576",
      "metadata": {
        "colab": {
          "base_uri": "https://localhost:8080/"
        },
        "id": "766c4576",
        "outputId": "99202dc2-dc84-4e91-dc02-aa730b3b7336"
      },
      "outputs": [
        {
          "output_type": "stream",
          "name": "stdout",
          "text": [
            "time taken: 1195.5564 seconds\n"
          ]
        }
      ],
      "source": [
        "end_time = time.time()\n",
        "print(\"time taken: %.4f seconds\" %(end_time - start_time))"
      ]
    }
  ],
  "metadata": {
    "kernelspec": {
      "display_name": "Python 3 (ipykernel)",
      "language": "python",
      "name": "python3"
    },
    "language_info": {
      "codemirror_mode": {
        "name": "ipython",
        "version": 3
      },
      "file_extension": ".py",
      "mimetype": "text/x-python",
      "name": "python",
      "nbconvert_exporter": "python",
      "pygments_lexer": "ipython3",
      "version": "3.8.13"
    },
    "colab": {
      "provenance": []
    }
  },
  "nbformat": 4,
  "nbformat_minor": 5
}